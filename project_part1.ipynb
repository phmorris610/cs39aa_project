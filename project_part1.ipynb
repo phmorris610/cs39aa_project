{
  "cells": [
    {
      "cell_type": "markdown",
      "metadata": {
        "id": "uV6MeOV_ccTA"
      },
      "source": [
        "# Project Part 1\n",
        "\n",
        "[![Kaggle](https://kaggle.com/static/images/open-in-kaggle.svg)](https://kaggle.com/kernels/welcome?src=https://github.com/sgeinitz/cs39aa_project/blob/main/project_part1.ipynb)\n",
        "\n",
        "[![Open In Colab](https://colab.research.google.com/assets/colab-badge.svg)](https://colab.research.google.com/github/sgeinitz/cs39aa_project/blob/main/project_part1.ipynb)\n",
        "\n",
        "This notebook is intended to serve as a template to complete Part 1 of the projects. Feel free to modify this notebook as needed, but be sure to have the two main parts, a) a introductory proposal section describing what it is your doing to do and where the dataset originates, and b) an exploratory analysis section that has the histograms, charts, tables, etc. that are the output from your exploratory analysis. \n",
        "\n",
        "__Note you will want to remove the text above, and in the markdown cells below, and replace it with your own text describing the dataset, task, exploratory steps, etc.__"
      ]
    },
    {
      "cell_type": "markdown",
      "metadata": {
        "id": "-hSPa-YkccTL"
      },
      "source": [
        "## Introduction/Background\n",
        "\n",
        "_In this section you will describe (in English) the dataset you are using as well as the NLP problem it deals with. For example, if you are planning to use the Twitter Natural Disaster dataset, then you will describe what the data and where it came as if you were explaining it to someone who does not know anything about the data. You will then describe how this is a __text classification__ problem, and that the labels are binary (e.g. a tweet either refers to a genuine/real natural disaster, or it does not)._ \n",
        "\n",
        "_Overall, this should be about a paragraph of text that could be read by someone outside of our class, and they could still understand what it is your project is doing._ \n",
        "\n",
        "_Note that you should __not__ simply write one sentence stating, \"This project is base on the Kaggle competition: Predicting Natural Disasters with Twitter._\"\n",
        "\n",
        "_If you are still looking for datasets to use, consider the following resources to explore text datasets._\n",
        "\n",
        "* https://huggingface.co/datasets\n",
        "* https://www.kaggle.com/datasets\n",
        "* https://pytorch.org/text/stable/datasets.html\n",
        "* https://github.com/niderhoff/nlp-datasets \n",
        "* https://medium.com/@ODSC/20-open-datasets-for-natural-language-processing-538fbfaf8e38 \n",
        "* https://imerit.net/blog/25-best-nlp-datasets-for-machine-learning-all-pbm/ \n",
        "* https://index.quantumstat.com/#dataset\n"
      ]
    },
    {
      "cell_type": "markdown",
      "metadata": {
        "id": "Tas9r0UiccTM"
      },
      "source": [
        "## Exploratory Data Analysis\n",
        "\n",
        "_You will now load the dataset and carry out some exploratory data analysis steps to better understand what text data looks like. See the examples from class on 10/. The following links provide some good resources of exploratory analyses of text data with Python._\n",
        "\n",
        "\n",
        "* https://neptune.ai/blog/exploratory-data-analysis-natural-language-processing-tools\n",
        "* https://regenerativetoday.com/exploratory-data-analysis-of-text-data-including-visualization-and-sentiment-analysis/\n",
        "* https://medium.com/swlh/text-summarization-guide-exploratory-data-analysis-on-text-data-4e22ce2dd6ad  \n",
        "* https://www.kdnuggets.com/2019/05/complete-exploratory-data-analysis-visualization-text-data.html  \n"
      ]
    },
    {
      "cell_type": "code",
      "execution_count": 1,
      "metadata": {
        "id": "HXNEybi8ccTO",
        "outputId": "779f2feb-1045-49a7-d23a-c5dfc2658d17",
        "colab": {
          "base_uri": "https://localhost:8080/"
        }
      },
      "outputs": [
        {
          "output_type": "stream",
          "name": "stdout",
          "text": [
            "Looking in indexes: https://pypi.org/simple, https://us-python.pkg.dev/colab-wheels/public/simple/\n",
            "Collecting pyLDAvis\n",
            "  Downloading pyLDAvis-3.3.1.tar.gz (1.7 MB)\n",
            "\u001b[K     |████████████████████████████████| 1.7 MB 7.8 MB/s \n",
            "\u001b[?25h  Installing build dependencies ... \u001b[?25l\u001b[?25hdone\n",
            "  Getting requirements to build wheel ... \u001b[?25l\u001b[?25hdone\n",
            "  Installing backend dependencies ... \u001b[?25l\u001b[?25hdone\n",
            "    Preparing wheel metadata ... \u001b[?25l\u001b[?25hdone\n",
            "Requirement already satisfied: pandas>=1.2.0 in /usr/local/lib/python3.7/dist-packages (from pyLDAvis) (1.3.5)\n",
            "Requirement already satisfied: joblib in /usr/local/lib/python3.7/dist-packages (from pyLDAvis) (1.2.0)\n",
            "Requirement already satisfied: numexpr in /usr/local/lib/python3.7/dist-packages (from pyLDAvis) (2.8.4)\n",
            "Collecting sklearn\n",
            "  Downloading sklearn-0.0.tar.gz (1.1 kB)\n",
            "Collecting funcy\n",
            "  Downloading funcy-1.17-py2.py3-none-any.whl (33 kB)\n",
            "Requirement already satisfied: setuptools in /usr/local/lib/python3.7/dist-packages (from pyLDAvis) (57.4.0)\n",
            "Requirement already satisfied: jinja2 in /usr/local/lib/python3.7/dist-packages (from pyLDAvis) (2.11.3)\n",
            "Requirement already satisfied: scipy in /usr/local/lib/python3.7/dist-packages (from pyLDAvis) (1.7.3)\n",
            "Requirement already satisfied: future in /usr/local/lib/python3.7/dist-packages (from pyLDAvis) (0.16.0)\n",
            "Requirement already satisfied: gensim in /usr/local/lib/python3.7/dist-packages (from pyLDAvis) (3.6.0)\n",
            "Requirement already satisfied: scikit-learn in /usr/local/lib/python3.7/dist-packages (from pyLDAvis) (1.0.2)\n",
            "Requirement already satisfied: numpy>=1.20.0 in /usr/local/lib/python3.7/dist-packages (from pyLDAvis) (1.21.6)\n",
            "Requirement already satisfied: pytz>=2017.3 in /usr/local/lib/python3.7/dist-packages (from pandas>=1.2.0->pyLDAvis) (2022.5)\n",
            "Requirement already satisfied: python-dateutil>=2.7.3 in /usr/local/lib/python3.7/dist-packages (from pandas>=1.2.0->pyLDAvis) (2.8.2)\n",
            "Requirement already satisfied: six>=1.5 in /usr/local/lib/python3.7/dist-packages (from python-dateutil>=2.7.3->pandas>=1.2.0->pyLDAvis) (1.15.0)\n",
            "Requirement already satisfied: smart-open>=1.2.1 in /usr/local/lib/python3.7/dist-packages (from gensim->pyLDAvis) (5.2.1)\n",
            "Requirement already satisfied: MarkupSafe>=0.23 in /usr/local/lib/python3.7/dist-packages (from jinja2->pyLDAvis) (2.0.1)\n",
            "Requirement already satisfied: threadpoolctl>=2.0.0 in /usr/local/lib/python3.7/dist-packages (from scikit-learn->pyLDAvis) (3.1.0)\n",
            "Building wheels for collected packages: pyLDAvis, sklearn\n",
            "  Building wheel for pyLDAvis (PEP 517) ... \u001b[?25l\u001b[?25hdone\n",
            "  Created wheel for pyLDAvis: filename=pyLDAvis-3.3.1-py2.py3-none-any.whl size=136898 sha256=88247cf096cf59421564e240dab5b07bb69b5491acaa28f9c753605a7249c7b4\n",
            "  Stored in directory: /root/.cache/pip/wheels/c9/21/f6/17bcf2667e8a68532ba2fbf6d5c72fdf4c7f7d9abfa4852d2f\n",
            "  Building wheel for sklearn (setup.py) ... \u001b[?25l\u001b[?25hdone\n",
            "  Created wheel for sklearn: filename=sklearn-0.0-py2.py3-none-any.whl size=1310 sha256=95c8d92ef3428c23b16a7873e36b46e388c75229169a421dbf7f52691757c26e\n",
            "  Stored in directory: /root/.cache/pip/wheels/46/ef/c3/157e41f5ee1372d1be90b09f74f82b10e391eaacca8f22d33e\n",
            "Successfully built pyLDAvis sklearn\n",
            "Installing collected packages: sklearn, funcy, pyLDAvis\n",
            "Successfully installed funcy-1.17 pyLDAvis-3.3.1 sklearn-0.0\n",
            "Looking in indexes: https://pypi.org/simple, https://us-python.pkg.dev/colab-wheels/public/simple/\n",
            "Collecting textstat\n",
            "  Downloading textstat-0.7.3-py3-none-any.whl (105 kB)\n",
            "\u001b[K     |████████████████████████████████| 105 kB 8.0 MB/s \n",
            "\u001b[?25hCollecting pyphen\n",
            "  Downloading pyphen-0.13.0-py3-none-any.whl (2.0 MB)\n",
            "\u001b[K     |████████████████████████████████| 2.0 MB 48.2 MB/s \n",
            "\u001b[?25hInstalling collected packages: pyphen, textstat\n",
            "Successfully installed pyphen-0.13.0 textstat-0.7.3\n"
          ]
        },
        {
          "output_type": "stream",
          "name": "stderr",
          "text": [
            "/usr/local/lib/python3.7/dist-packages/past/types/oldstr.py:5: DeprecationWarning: Using or importing the ABCs from 'collections' instead of from 'collections.abc' is deprecated since Python 3.3,and in 3.9 it will stop working\n",
            "  from collections import Iterable\n"
          ]
        }
      ],
      "source": [
        "!pip install pyLDAvis\n",
        "!pip install textstat\n",
        "import pandas as pd\n",
        "import numpy as np\n",
        "import matplotlib.pyplot as plt\n",
        "import nltk\n",
        "import seaborn as sns\n",
        "import sklearn\n",
        "import gensim\n",
        "import pyLDAvis\n",
        "import wordcloud\n",
        "import textblob\n",
        "import spacy\n",
        "import textstat"
      ]
    },
    {
      "cell_type": "markdown",
      "source": [
        "# Here is my dataset, it consists of 10,000 movie reviews, brought to us by Rotten Tomatoes; the dataset was gleaned from Kaggle. The X vector consists of the reviews while the y vector is binary representing either Rotten or Fresh [0 or 1]. I have also transformed the Top Critic, x1, vector to a binary vector representing either Top Critic or not Top Critic [1, 0]."
      ],
      "metadata": {
        "id": "IeeWuoubdLex"
      }
    },
    {
      "cell_type": "code",
      "source": [
        "from google.colab import files\n",
        "uploaded = files.upload()\n",
        "\n",
        "data = pd.read_csv('rtom.csv')\n",
        "\n",
        "tomatoes = data.dropna()\n",
        "tomatoes.reset_index(inplace=True)\n",
        "print(tomatoes.shape)\n",
        "print(tomatoes.head())\n",
        "\n",
        "selections1 = ['Review_Type', 'review_content']\n",
        "selections2 = ['Top_Critic', 'review_content']\n",
        "X = tomatoes[selections1].copy()\n",
        "X2 = tomatoes[selections2].copy()\n",
        "y = tomatoes.pop('Review_Type')\n",
        "y2 = tomatoes.pop('Top_Critic')\n",
        "print(X.shape)"
      ],
      "metadata": {
        "id": "h9ufGg3BczbO",
        "outputId": "a9e9cf1d-dfcc-4fa6-862c-15c164d1780f",
        "colab": {
          "base_uri": "https://localhost:8080/",
          "height": 455
        }
      },
      "execution_count": 2,
      "outputs": [
        {
          "output_type": "display_data",
          "data": {
            "text/plain": [
              "<IPython.core.display.HTML object>"
            ],
            "text/html": [
              "\n",
              "     <input type=\"file\" id=\"files-453a59fd-1ea8-44cd-a895-959a471a9b8a\" name=\"files[]\" multiple disabled\n",
              "        style=\"border:none\" />\n",
              "     <output id=\"result-453a59fd-1ea8-44cd-a895-959a471a9b8a\">\n",
              "      Upload widget is only available when the cell has been executed in the\n",
              "      current browser session. Please rerun this cell to enable.\n",
              "      </output>\n",
              "      <script>// Copyright 2017 Google LLC\n",
              "//\n",
              "// Licensed under the Apache License, Version 2.0 (the \"License\");\n",
              "// you may not use this file except in compliance with the License.\n",
              "// You may obtain a copy of the License at\n",
              "//\n",
              "//      http://www.apache.org/licenses/LICENSE-2.0\n",
              "//\n",
              "// Unless required by applicable law or agreed to in writing, software\n",
              "// distributed under the License is distributed on an \"AS IS\" BASIS,\n",
              "// WITHOUT WARRANTIES OR CONDITIONS OF ANY KIND, either express or implied.\n",
              "// See the License for the specific language governing permissions and\n",
              "// limitations under the License.\n",
              "\n",
              "/**\n",
              " * @fileoverview Helpers for google.colab Python module.\n",
              " */\n",
              "(function(scope) {\n",
              "function span(text, styleAttributes = {}) {\n",
              "  const element = document.createElement('span');\n",
              "  element.textContent = text;\n",
              "  for (const key of Object.keys(styleAttributes)) {\n",
              "    element.style[key] = styleAttributes[key];\n",
              "  }\n",
              "  return element;\n",
              "}\n",
              "\n",
              "// Max number of bytes which will be uploaded at a time.\n",
              "const MAX_PAYLOAD_SIZE = 100 * 1024;\n",
              "\n",
              "function _uploadFiles(inputId, outputId) {\n",
              "  const steps = uploadFilesStep(inputId, outputId);\n",
              "  const outputElement = document.getElementById(outputId);\n",
              "  // Cache steps on the outputElement to make it available for the next call\n",
              "  // to uploadFilesContinue from Python.\n",
              "  outputElement.steps = steps;\n",
              "\n",
              "  return _uploadFilesContinue(outputId);\n",
              "}\n",
              "\n",
              "// This is roughly an async generator (not supported in the browser yet),\n",
              "// where there are multiple asynchronous steps and the Python side is going\n",
              "// to poll for completion of each step.\n",
              "// This uses a Promise to block the python side on completion of each step,\n",
              "// then passes the result of the previous step as the input to the next step.\n",
              "function _uploadFilesContinue(outputId) {\n",
              "  const outputElement = document.getElementById(outputId);\n",
              "  const steps = outputElement.steps;\n",
              "\n",
              "  const next = steps.next(outputElement.lastPromiseValue);\n",
              "  return Promise.resolve(next.value.promise).then((value) => {\n",
              "    // Cache the last promise value to make it available to the next\n",
              "    // step of the generator.\n",
              "    outputElement.lastPromiseValue = value;\n",
              "    return next.value.response;\n",
              "  });\n",
              "}\n",
              "\n",
              "/**\n",
              " * Generator function which is called between each async step of the upload\n",
              " * process.\n",
              " * @param {string} inputId Element ID of the input file picker element.\n",
              " * @param {string} outputId Element ID of the output display.\n",
              " * @return {!Iterable<!Object>} Iterable of next steps.\n",
              " */\n",
              "function* uploadFilesStep(inputId, outputId) {\n",
              "  const inputElement = document.getElementById(inputId);\n",
              "  inputElement.disabled = false;\n",
              "\n",
              "  const outputElement = document.getElementById(outputId);\n",
              "  outputElement.innerHTML = '';\n",
              "\n",
              "  const pickedPromise = new Promise((resolve) => {\n",
              "    inputElement.addEventListener('change', (e) => {\n",
              "      resolve(e.target.files);\n",
              "    });\n",
              "  });\n",
              "\n",
              "  const cancel = document.createElement('button');\n",
              "  inputElement.parentElement.appendChild(cancel);\n",
              "  cancel.textContent = 'Cancel upload';\n",
              "  const cancelPromise = new Promise((resolve) => {\n",
              "    cancel.onclick = () => {\n",
              "      resolve(null);\n",
              "    };\n",
              "  });\n",
              "\n",
              "  // Wait for the user to pick the files.\n",
              "  const files = yield {\n",
              "    promise: Promise.race([pickedPromise, cancelPromise]),\n",
              "    response: {\n",
              "      action: 'starting',\n",
              "    }\n",
              "  };\n",
              "\n",
              "  cancel.remove();\n",
              "\n",
              "  // Disable the input element since further picks are not allowed.\n",
              "  inputElement.disabled = true;\n",
              "\n",
              "  if (!files) {\n",
              "    return {\n",
              "      response: {\n",
              "        action: 'complete',\n",
              "      }\n",
              "    };\n",
              "  }\n",
              "\n",
              "  for (const file of files) {\n",
              "    const li = document.createElement('li');\n",
              "    li.append(span(file.name, {fontWeight: 'bold'}));\n",
              "    li.append(span(\n",
              "        `(${file.type || 'n/a'}) - ${file.size} bytes, ` +\n",
              "        `last modified: ${\n",
              "            file.lastModifiedDate ? file.lastModifiedDate.toLocaleDateString() :\n",
              "                                    'n/a'} - `));\n",
              "    const percent = span('0% done');\n",
              "    li.appendChild(percent);\n",
              "\n",
              "    outputElement.appendChild(li);\n",
              "\n",
              "    const fileDataPromise = new Promise((resolve) => {\n",
              "      const reader = new FileReader();\n",
              "      reader.onload = (e) => {\n",
              "        resolve(e.target.result);\n",
              "      };\n",
              "      reader.readAsArrayBuffer(file);\n",
              "    });\n",
              "    // Wait for the data to be ready.\n",
              "    let fileData = yield {\n",
              "      promise: fileDataPromise,\n",
              "      response: {\n",
              "        action: 'continue',\n",
              "      }\n",
              "    };\n",
              "\n",
              "    // Use a chunked sending to avoid message size limits. See b/62115660.\n",
              "    let position = 0;\n",
              "    do {\n",
              "      const length = Math.min(fileData.byteLength - position, MAX_PAYLOAD_SIZE);\n",
              "      const chunk = new Uint8Array(fileData, position, length);\n",
              "      position += length;\n",
              "\n",
              "      const base64 = btoa(String.fromCharCode.apply(null, chunk));\n",
              "      yield {\n",
              "        response: {\n",
              "          action: 'append',\n",
              "          file: file.name,\n",
              "          data: base64,\n",
              "        },\n",
              "      };\n",
              "\n",
              "      let percentDone = fileData.byteLength === 0 ?\n",
              "          100 :\n",
              "          Math.round((position / fileData.byteLength) * 100);\n",
              "      percent.textContent = `${percentDone}% done`;\n",
              "\n",
              "    } while (position < fileData.byteLength);\n",
              "  }\n",
              "\n",
              "  // All done.\n",
              "  yield {\n",
              "    response: {\n",
              "      action: 'complete',\n",
              "    }\n",
              "  };\n",
              "}\n",
              "\n",
              "scope.google = scope.google || {};\n",
              "scope.google.colab = scope.google.colab || {};\n",
              "scope.google.colab._files = {\n",
              "  _uploadFiles,\n",
              "  _uploadFilesContinue,\n",
              "};\n",
              "})(self);\n",
              "</script> "
            ]
          },
          "metadata": {}
        },
        {
          "output_type": "stream",
          "name": "stdout",
          "text": [
            "Saving rtom.csv to rtom.csv\n",
            "(7089, 11)\n",
            "   index rotten_tomatoes_link       critic_name  top_critic  Top_Critic  \\\n",
            "0      3            m/0814255      Ben McEachen       False           0   \n",
            "1      6            m/0814255      Nick Schager       False           1   \n",
            "2      7            m/0814255  Bill Goodykoontz        True           0   \n",
            "3      8            m/0814255    Jordan Hoffman       False           1   \n",
            "4      9            m/0814255      Jim Schembri        True           0   \n",
            "\n",
            "            publisher_name review_type  Review_Type review_score review_date  \\\n",
            "0  Sunday Mail (Australia)       Fresh            1        3.5/5    2/9/2010   \n",
            "1           Slant Magazine      Rotten            0        4-Jan   2/10/2010   \n",
            "2         Arizona Republic       Fresh            1        3.5/5   2/10/2010   \n",
            "3                      UGO       Fresh            1            B   2/10/2010   \n",
            "4      The Age (Australia)       Fresh            1        5-Mar   2/10/2010   \n",
            "\n",
            "                                      review_content  \n",
            "0  Whether audiences will get behind The Lightnin...  \n",
            "1  Harry Potter knockoffs don't come more transpa...  \n",
            "2  Percy Jackson isn't a great movie, but it's a ...  \n",
            "3                         Fun, brisk and imaginative  \n",
            "4  Crammed with dragons, set-destroying fights an...  \n",
            "(7089, 2)\n"
          ]
        }
      ]
    },
    {
      "cell_type": "code",
      "source": [
        "from sklearn.model_selection import train_test_split\n",
        "X_train, X_val, y_train, y_val = train_test_split(X, y, train_size=0.80, random_state=1)\n",
        "pd.set_option(\"display.max_colwidth\", 300)\n",
        "print(X_train.shape)\n",
        "print(y_train.shape)\n",
        "print(X_train.head(10))  # Rotten=0, Fresh=1"
      ],
      "metadata": {
        "id": "QL51l8Y3gQuX",
        "outputId": "53ce8177-5ff0-443b-defb-b47f547c7432",
        "colab": {
          "base_uri": "https://localhost:8080/"
        }
      },
      "execution_count": 7,
      "outputs": [
        {
          "output_type": "stream",
          "name": "stdout",
          "text": [
            "(5671, 2)\n",
            "(5671,)\n",
            "      Review_Type  \\\n",
            "2707            0   \n",
            "5397            1   \n",
            "4137            0   \n",
            "4821            1   \n",
            "2836            1   \n",
            "6414            1   \n",
            "2900            1   \n",
            "2093            0   \n",
            "1412            1   \n",
            "1190            1   \n",
            "\n",
            "                                                                                                                                                                        review_content  \n",
            "2707                                         Slickly made but utterly gratuitous, this wannabe-edgy thriller was an odd choice for Ventimiglia to make during his first Heroes hiatus.  \n",
            "5397                                         Working with utterly predictable material, screenwriter Kevin Hench finds plenty of offbeat humor, and Carolla knows how to make it sing.  \n",
            "4137                                                                                             Sirk or Billy Wilder could have done something with it. Sachs still has a ways to go.  \n",
            "4821                                                                                 The performances feel natural, improvised, and it's easy to believe this is the world we inhabit.  \n",
            "2836   Yes %u2014 I am giving A Christmas Carol a high rating. It is technical perfection and brilliantly done. However, it is too much Zemeckis, too much Carrey. Not enough Dickens.  \n",
            "6414                A strangely distant, quasi-demythification of the tale of John Dillinger that keeps threatening to turn into a truly fine movie without ever quite pulling it off.  \n",
            "2900                                            This isn't primarily an adventure story, though it's very suspenseful; it's first and foremost a profoundly sad tale of human frailty.  \n",
            "2093                                               There's a lot of good intentions behind Amazing Grace, but the movie's a bore, swirling into the minutia of antiquated British law.  \n",
            "1412                                                                                                                                                               A near-masterpiece.  \n",
            "1190  Movie fans have seen any number of stories about hitmen, but it's a pretty good bet that even the most jaded of cynics will be unable to detect just where The Matador is going.  \n"
          ]
        }
      ]
    },
    {
      "cell_type": "code",
      "source": [
        "import matplotlib.pyplot as plt\n",
        "plt.hist(y)\n",
        "plt\n"
      ],
      "metadata": {
        "id": "2fXGN3TZfH-M",
        "outputId": "7ab1ccaf-b806-4c43-c6c4-4df8bba40260",
        "colab": {
          "base_uri": "https://localhost:8080/",
          "height": 282
        }
      },
      "execution_count": 8,
      "outputs": [
        {
          "output_type": "execute_result",
          "data": {
            "text/plain": [
              "<module 'matplotlib.pyplot' from '/usr/local/lib/python3.7/dist-packages/matplotlib/pyplot.py'>"
            ]
          },
          "metadata": {},
          "execution_count": 8
        },
        {
          "output_type": "display_data",
          "data": {
            "text/plain": [
              "<Figure size 432x288 with 1 Axes>"
            ],
            "image/png": "[encoded data removed]"
          },
          "metadata": {
            "needs_background": "light"
          }
        }
      ]
    },
    {
      "cell_type": "code",
      "execution_count": 9,
      "metadata": {
        "id": "9h3ma47cccTQ",
        "outputId": "eeb9f3b6-8450-47c2-8bfa-890254e66a1d",
        "colab": {
          "base_uri": "https://localhost:8080/"
        }
      },
      "outputs": [
        {
          "output_type": "stream",
          "name": "stdout",
          "text": [
            "Count of 0 = Rotten and 1 = Fresh: {0: 3583, 1: 3506}\n"
          ]
        }
      ],
      "source": [
        "import numpy as np\n",
        "y_num = np.asarray(y)\n",
        "unique, counts = np.unique(y_num, return_counts=True)\n",
        "print(f\"Count of 0 = Rotten and 1 = Fresh: {dict(zip(unique, counts))}\") "
      ]
    },
    {
      "cell_type": "markdown",
      "source": [
        "# Above we can see there are 3583 'Fresh' reviews and 3506 'Rotten' reviews; note I removed review rows containing null."
      ],
      "metadata": {
        "id": "qFw5ZGihfmwP"
      }
    },
    {
      "cell_type": "code",
      "source": [
        "X_train['review_content'].str.len().hist()"
      ],
      "metadata": {
        "id": "GDk8cwpKgDa5",
        "outputId": "a9f46461-f3ff-4583-dbce-0f36786d776b",
        "colab": {
          "base_uri": "https://localhost:8080/",
          "height": 282
        }
      },
      "execution_count": 10,
      "outputs": [
        {
          "output_type": "execute_result",
          "data": {
            "text/plain": [
              "<matplotlib.axes._subplots.AxesSubplot at 0x7f5de4880fd0>"
            ]
          },
          "metadata": {},
          "execution_count": 10
        },
        {
          "output_type": "display_data",
          "data": {
            "text/plain": [
              "<Figure size 432x288 with 1 Axes>"
            ],
            "image/png": "[encoded data removed]"
          },
          "metadata": {
            "needs_background": "light"
          }
        }
      ]
    },
    {
      "cell_type": "markdown",
      "source": [
        "# The Histogram shows that the average number of characters is around 148."
      ],
      "metadata": {
        "id": "OfMgIAXWgihM"
      }
    },
    {
      "cell_type": "code",
      "source": [
        "def plot_word_number_histogram(text):\n",
        "    text.str.split().\\\n",
        "        map(lambda x: len(x)).\\\n",
        "        hist()\n",
        "plot_word_number_histogram(X_train['review_content'])"
      ],
      "metadata": {
        "id": "fjySusOGglNp",
        "outputId": "5e5bc42b-cfa1-46da-f541-3cc273d87f83",
        "colab": {
          "base_uri": "https://localhost:8080/",
          "height": 265
        }
      },
      "execution_count": 11,
      "outputs": [
        {
          "output_type": "display_data",
          "data": {
            "text/plain": [
              "<Figure size 432x288 with 1 Axes>"
            ],
            "image/png": "[encoded data removed]"
          },
          "metadata": {
            "needs_background": "light"
          }
        }
      ]
    },
    {
      "cell_type": "markdown",
      "source": [
        "# The above Histogram show the average amount of words per review to be somewhere around 22."
      ],
      "metadata": {
        "id": "uhRqsoHpgvj-"
      }
    },
    {
      "cell_type": "markdown",
      "source": [
        "# Now we will begin to tokenize and remove stopwords"
      ],
      "metadata": {
        "id": "s7-cCkLMg2kq"
      }
    },
    {
      "cell_type": "code",
      "source": [
        "import nltk\n",
        "from nltk.corpus import stopwords\n",
        "nltk.download('stopwords')\n",
        "stop=set(stopwords.words('english'))\n",
        "corpus=[]\n",
        "new= X_train['review_content'].str.split()\n",
        "new=new.values.tolist()\n",
        "corpus=[word for i in new for word in i]\n",
        "\n",
        "from collections import defaultdict\n",
        "dic=defaultdict(int)\n",
        "for word in corpus:\n",
        "    if word in stop:\n",
        "        dic[word]+=1"
      ],
      "metadata": {
        "id": "o7bhA3sRgxSt",
        "outputId": "36b2b2c9-e7ed-409a-83fd-9a567b8eb9c8",
        "colab": {
          "base_uri": "https://localhost:8080/"
        }
      },
      "execution_count": 12,
      "outputs": [
        {
          "output_type": "stream",
          "name": "stderr",
          "text": [
            "[nltk_data] Downloading package stopwords to /root/nltk_data...\n",
            "[nltk_data]   Unzipping corpora/stopwords.zip.\n"
          ]
        }
      ]
    },
    {
      "cell_type": "code",
      "source": [
        "import matplotlib.pyplot as plt\n",
        "import numpy as np\n",
        "from nltk.corpus import stopwords\n",
        "\n",
        "def plot_top_stopwords_barchart(text):\n",
        "    stop=set(stopwords.words('english'))\n",
        "    \n",
        "    new= text.str.split()\n",
        "    new=new.values.tolist()\n",
        "    corpus=[word for i in new for word in i]\n",
        "    from collections import defaultdict\n",
        "    dic=defaultdict(int)\n",
        "    for word in corpus:\n",
        "        if word in stop:\n",
        "            dic[word]+=1\n",
        "            \n",
        "    top=sorted(dic.items(), key=lambda x:x[1],reverse=True)[:10] \n",
        "    x,y=zip(*top)\n",
        "    plt.bar(x,y)"
      ],
      "metadata": {
        "id": "b5bscn6ig8rK"
      },
      "execution_count": 13,
      "outputs": []
    },
    {
      "cell_type": "code",
      "source": [
        "plot_top_stopwords_barchart(X_train['review_content'])"
      ],
      "metadata": {
        "id": "Goj9qunNhAeM",
        "outputId": "9d7a396e-1bf0-4fa6-d54b-c22737ba1a44",
        "colab": {
          "base_uri": "https://localhost:8080/",
          "height": 265
        }
      },
      "execution_count": 14,
      "outputs": [
        {
          "output_type": "display_data",
          "data": {
            "text/plain": [
              "<Figure size 432x288 with 1 Axes>"
            ],
            "image/png": "[encoded data removed]"
          },
          "metadata": {
            "needs_background": "light"
          }
        }
      ]
    },
    {
      "cell_type": "markdown",
      "source": [
        "# In case anyone cares the above shows the most frequent stop words, the results are pretty much what one would expect"
      ],
      "metadata": {
        "id": "9S-loV7chFFK"
      }
    },
    {
      "cell_type": "code",
      "source": [
        "import seaborn as sns\n",
        "from nltk.corpus import stopwords\n",
        "from collections import  Counter\n",
        "\n",
        "def plot_top_non_stopwords_barchart(text):\n",
        "    stop=set(stopwords.words('english'))\n",
        "    chars2remove = set(['.', '!', '/', '?', ',', '@', '#', '$', '%', '^', '&', '*', '_', '-', '~'])\n",
        "    #X_train['tokens_raw'] = X_train['tokens_raw'].apply(lambda x: [w for w in x if w not in chars2remove])\n",
        "    new= text.str.split()\n",
        "    new=new.values.tolist()\n",
        "    corpus=[word for i in new for word in i]\n",
        "\n",
        "    counter=Counter(corpus)\n",
        "    most=counter.most_common()\n",
        "    x, y=[], []\n",
        "    for word,count in most[:80]:\n",
        "        if (word not in stop and word != 'The' and word != 'A' and word != chars2remove):\n",
        "            x.append(word)\n",
        "            y.append(count)\n",
        "            \n",
        "    sns.barplot(x=y,y=x)\n",
        "\n",
        "plot_top_non_stopwords_barchart(X_train['review_content'])"
      ],
      "metadata": {
        "id": "XTz8QvOJhGk6",
        "outputId": "27649ab8-baf1-4578-cc58-2a47019fa9fb",
        "colab": {
          "base_uri": "https://localhost:8080/",
          "height": 265
        }
      },
      "execution_count": 15,
      "outputs": [
        {
          "output_type": "display_data",
          "data": {
            "text/plain": [
              "<Figure size 432x288 with 1 Axes>"
            ],
            "image/png": "[encoded data removed]"
          },
          "metadata": {
            "needs_background": "light"
          }
        }
      ]
    },
    {
      "cell_type": "markdown",
      "source": [
        "# Surprise surprise film and movie make the top five words (not included in stops), also The and A were showing up so I removed them along with symbols (there seems to be a hyphen or underscore showing up though, it's very stubborn and won't leave)"
      ],
      "metadata": {
        "id": "wy0ld3BehQ6H"
      }
    },
    {
      "cell_type": "code",
      "source": [
        "import nltk\n",
        "nltk.download('stopwords')\n",
        "stop=set(stopwords.words('english'))\n",
        "corpus=[]\n",
        "new= X_train['review_content'].str.split()\n",
        "new=new.values.tolist()\n",
        "corpus=[word for i in new for word in i]\n",
        "\n",
        "from collections import defaultdict\n",
        "dic=defaultdict(int)\n",
        "for word in corpus:\n",
        "    if word in stop:\n",
        "        dic[word]+=1\n",
        "\n",
        "from nltk.tokenize import TweetTokenizer\n",
        "tk = TweetTokenizer()\n",
        "X_train['tokens_raw'] = X_train['review_content'].apply(lambda x: tk.tokenize(x.lower()))\n",
        "chars2remove = set(['.', '!', '/', '?', ',', '@', '#', '$', '%', '^', '&', '*', '_', '-', '~', 'The', 'A','`', '+', \"'\", '\"'])\n",
        "X_train['tokens_raw'] = X_train['tokens_raw'].apply(lambda x: [w for w in x if w not in chars2remove and w not in stop])\n",
        "#X_train['token_length'] = X_train['tokens_raw'].apply(lambda x: len(x))\n",
        "print(X_train.head())"
      ],
      "metadata": {
        "id": "4NMfra_ThS3y",
        "outputId": "5fdcc290-7384-4a86-93f9-9a09ffd4b11e",
        "colab": {
          "base_uri": "https://localhost:8080/"
        }
      },
      "execution_count": 16,
      "outputs": [
        {
          "output_type": "stream",
          "name": "stderr",
          "text": [
            "[nltk_data] Downloading package stopwords to /root/nltk_data...\n",
            "[nltk_data]   Package stopwords is already up-to-date!\n"
          ]
        },
        {
          "output_type": "stream",
          "name": "stdout",
          "text": [
            "      Review_Type  \\\n",
            "2707            0   \n",
            "5397            1   \n",
            "4137            0   \n",
            "4821            1   \n",
            "2836            1   \n",
            "\n",
            "                                                                                                                                                                       review_content  \\\n",
            "2707                                        Slickly made but utterly gratuitous, this wannabe-edgy thriller was an odd choice for Ventimiglia to make during his first Heroes hiatus.   \n",
            "5397                                        Working with utterly predictable material, screenwriter Kevin Hench finds plenty of offbeat humor, and Carolla knows how to make it sing.   \n",
            "4137                                                                                            Sirk or Billy Wilder could have done something with it. Sachs still has a ways to go.   \n",
            "4821                                                                                The performances feel natural, improvised, and it's easy to believe this is the world we inhabit.   \n",
            "2836  Yes %u2014 I am giving A Christmas Carol a high rating. It is technical perfection and brilliantly done. However, it is too much Zemeckis, too much Carrey. Not enough Dickens.   \n",
            "\n",
            "                                                                                                                                                  tokens_raw  \n",
            "2707                                     [slickly, made, utterly, gratuitous, wannabe-edgy, thriller, odd, choice, ventimiglia, make, first, heroes, hiatus]  \n",
            "5397                        [working, utterly, predictable, material, screenwriter, kevin, hench, finds, plenty, offbeat, humor, carolla, knows, make, sing]  \n",
            "4137                                                                                   [sirk, billy, wilder, could, done, something, sachs, still, ways, go]  \n",
            "4821                                                                                [performances, feel, natural, improvised, easy, believe, world, inhabit]  \n",
            "2836  [yes, u2014, giving, christmas, carol, high, rating, technical, perfection, brilliantly, done, however, much, zemeckis, much, carrey, enough, dickens]  \n"
          ]
        }
      ]
    },
    {
      "cell_type": "markdown",
      "source": [
        "# The above tokens raw is without stops and symbols"
      ],
      "metadata": {
        "id": "TbAysqlChbpj"
      }
    },
    {
      "cell_type": "markdown",
      "source": [
        "# Now lets play around with Sentiment, below is just to illustrate how it works."
      ],
      "metadata": {
        "id": "0OV9YYHLhdxm"
      }
    },
    {
      "cell_type": "code",
      "source": [
        "from textblob import TextBlob\n",
        "#TextBlob('This movie was so awful it was great').sentiment\n",
        "#TextBlob('This movie was very bad').sentiment\n",
        "TextBlob(\"It's impressuve they were able to even make this movie because I can only assume the budget was whatever the producer stole from his sons piggy bank\").sentiment\n",
        "# These were not real reviews"
      ],
      "metadata": {
        "id": "pmuUBGcYhaxB",
        "outputId": "1d2f38dd-5596-4165-d0bc-956f5bd469b8",
        "colab": {
          "base_uri": "https://localhost:8080/"
        }
      },
      "execution_count": 17,
      "outputs": [
        {
          "output_type": "execute_result",
          "data": {
            "text/plain": [
              "Sentiment(polarity=0.25, subjectivity=0.8125)"
            ]
          },
          "metadata": {},
          "execution_count": 17
        }
      ]
    },
    {
      "cell_type": "code",
      "source": [
        "from textblob import TextBlob\n",
        "    \n",
        "def plot_polarity_histogram(text):\n",
        "    \n",
        "    def _polarity(text):\n",
        "        return TextBlob(text).sentiment.polarity\n",
        "        \n",
        "    polarity_score =text.apply(lambda x : _polarity(x))\n",
        "    polarity_score.hist()\n",
        "\n",
        "plot_polarity_histogram(X_train['review_content'])"
      ],
      "metadata": {
        "id": "0vLCh3h3hihb",
        "outputId": "8857a665-53d6-44fc-918f-3bedf55191b5",
        "colab": {
          "base_uri": "https://localhost:8080/",
          "height": 265
        }
      },
      "execution_count": 18,
      "outputs": [
        {
          "output_type": "display_data",
          "data": {
            "text/plain": [
              "<Figure size 432x288 with 1 Axes>"
            ],
            "image/png": "[encoded data removed]"
          },
          "metadata": {
            "needs_background": "light"
          }
        }
      ]
    },
    {
      "cell_type": "markdown",
      "source": [
        "# After plotting sentiment we are left with a slightly left skewed normal distribution with the mean level of polarity above neutral.\n",
        "\n",
        "# We now know what the dataset looks like and have an understanding of the content, we are now ready to start predicting either Rotten or Fresh (also if the content was written by a top reviewer but that would mostly be for fun)\n",
        "\n",
        "Most of the above plots were generated using code gleaned from \"Exploratory Data Analysis for Natural Language Processing: A Complete Guide to Python Tools\" by Shahul ES"
      ],
      "metadata": {
        "id": "Xabw18Ishrf1"
      }
    },
    {
      "cell_type": "code",
      "source": [
        "X_train_tRaw= X_train['tokens_raw'].apply(lambda x: [w for w in x if w not in chars2remove and w not in stop])\n",
        "print(X_train_tRaw) # the raw token file"
      ],
      "metadata": {
        "id": "DYKxzVg0h5th",
        "outputId": "06ee92b7-a9a9-41fa-8ee7-9d9d2af31b47",
        "colab": {
          "base_uri": "https://localhost:8080/"
        }
      },
      "execution_count": 19,
      "outputs": [
        {
          "output_type": "stream",
          "name": "stdout",
          "text": [
            "2707                                             [slickly, made, utterly, gratuitous, wannabe-edgy, thriller, odd, choice, ventimiglia, make, first, heroes, hiatus]\n",
            "5397                                [working, utterly, predictable, material, screenwriter, kevin, hench, finds, plenty, offbeat, humor, carolla, knows, make, sing]\n",
            "4137                                                                                           [sirk, billy, wilder, could, done, something, sachs, still, ways, go]\n",
            "4821                                                                                        [performances, feel, natural, improvised, easy, believe, world, inhabit]\n",
            "2836          [yes, u2014, giving, christmas, carol, high, rating, technical, perfection, brilliantly, done, however, much, zemeckis, much, carrey, enough, dickens]\n",
            "                                                                                    ...                                                                             \n",
            "905                                                                                          [borderline, irresponsible, virtual, horror, movie, gangster, thriller]\n",
            "5192                 [leonardo, dicaprio, russell, crowe, fire, ridley, scott's, terrific, political, thriller, might, finally, drag, audiences, flick, war, terror]\n",
            "3980    [good, stagy, fustiness, worth, seeing, mortensen, makes, study, â, €, ¨, good, german, look, creepily, contemporary, shows, us, horror, â, €, ¨, ignorance]\n",
            "235                                                   [12, angry, men, ranks, tautest, courtroom, drama, ever, see, surpassing, lumet's, good, 1982, drama, verdict]\n",
            "5157                                         [overarching, naturalism, performance, stands, conceptual, breakdown, portrayal, smaller, loosely, connected, segments]\n",
            "Name: tokens_raw, Length: 5671, dtype: object\n"
          ]
        }
      ]
    },
    {
      "cell_type": "code",
      "source": [],
      "metadata": {
        "id": "2UjYoWtAhvra"
      },
      "execution_count": null,
      "outputs": []
    }
  ],
  "metadata": {
    "kernelspec": {
      "display_name": "Python 3.9.12 ('base')",
      "language": "python",
      "name": "python3"
    },
    "language_info": {
      "codemirror_mode": {
        "name": "ipython",
        "version": 3
      },
      "file_extension": ".py",
      "mimetype": "text/x-python",
      "name": "python",
      "nbconvert_exporter": "python",
      "pygments_lexer": "ipython3",
      "version": "3.9.13"
    },
    "orig_nbformat": 4,
    "vscode": {
      "interpreter": {
        "hash": "bb3398f4b21c7b026dd5874af3f954bf25f1e8ff81e25d82a94abcbbaacf760b"
      }
    },
    "colab": {
      "provenance": []
    }
  },
  "nbformat": 4,
  "nbformat_minor": 0
}