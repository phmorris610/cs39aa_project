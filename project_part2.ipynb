{
  "cells": [
    {
      "cell_type": "markdown",
      "metadata": {
        "id": "iP4L4HHlcVKP"
      },
      "source": [
        "# Project Part 2\n",
        "\n",
        "[![Kaggle](https://kaggle.com/static/images/open-in-kaggle.svg)](https://kaggle.com/kernels/welcome?src=https://github.com/sgeinitz/cs39aa_project/blob/main/project_part1.ipynb)\n",
        "\n",
        "[![Open In Colab](https://colab.research.google.com/assets/colab-badge.svg)](https://colab.research.google.com/github/sgeinitz/cs39aa_project/blob/main/project_part1.ipynb)\n",
        "\n",
        "This notebook is intended to serve as a template to complete Part 1 of the projects. Feel free to modify this notebook as needed, but be sure to have the two main parts, a) a introductory proposal section describing what it is your doing to do and where the dataset originates, and b) an exploratory analysis section that has the histograms, charts, tables, etc. that are the output from your exploratory analysis. \n",
        "\n",
        "__Note you will want to remove the text above, and in the markdown cells below, and replace it with your own text describing the dataset, task, exploratory steps, etc.__"
      ]
    },
    {
      "cell_type": "markdown",
      "metadata": {
        "id": "EfNpzmuLcVKd"
      },
      "source": [
        "## Introduction/Background\n",
        "\n",
        "_In this section you will describe (in English) the dataset you are using as well as the NLP problem it deals with. For example, if you are planning to use the Twitter Natural Disaster dataset, then you will describe what the data and where it came as if you were explaining it to someone who does not know anything about the data. You will then describe how this is a __text classification__ problem, and that the labels are binary (e.g. a tweet either refers to a genuine/real natural disaster, or it does not)._ \n",
        "\n",
        "_Overall, this should be about a paragraph of text that could be read by someone outside of our class, and they could still understand what it is your project is doing._ \n",
        "\n",
        "_Note that you should __not__ simply write one sentence stating, \"This project is base on the Kaggle competition: Predicting Natural Disasters with Twitter._\"\n",
        "\n",
        "_If you are still looking for datasets to use, consider the following resources to explore text datasets._\n",
        "\n",
        "* https://huggingface.co/datasets\n",
        "* https://www.kaggle.com/datasets\n",
        "* https://pytorch.org/text/stable/datasets.html\n",
        "* https://github.com/niderhoff/nlp-datasets \n",
        "* https://medium.com/@ODSC/20-open-datasets-for-natural-language-processing-538fbfaf8e38 \n",
        "* https://imerit.net/blog/25-best-nlp-datasets-for-machine-learning-all-pbm/ \n",
        "* https://index.quantumstat.com/#dataset\n"
      ]
    },
    {
      "cell_type": "markdown",
      "metadata": {
        "id": "X2NRNrg7cVKg"
      },
      "source": [
        "## Exploratory Data Analysis\n",
        "\n",
        "_You will now load the dataset and carry out some exploratory data analysis steps to better understand what text data looks like. See the examples from class on 10/. The following links provide some good resources of exploratory analyses of text data with Python._\n",
        "\n",
        "\n",
        "* https://neptune.ai/blog/exploratory-data-analysis-natural-language-processing-tools\n",
        "* https://regenerativetoday.com/exploratory-data-analysis-of-text-data-including-visualization-and-sentiment-analysis/\n",
        "* https://medium.com/swlh/text-summarization-guide-exploratory-data-analysis-on-text-data-4e22ce2dd6ad  \n",
        "* https://www.kdnuggets.com/2019/05/complete-exploratory-data-analysis-visualization-text-data.html  \n"
      ]
    },
    {
      "cell_type": "code",
      "execution_count": 1,
      "metadata": {
        "id": "DxobrBQxcVKi",
        "outputId": "9315f027-70b0-40e3-c1c1-26224e0290dc",
        "colab": {
          "base_uri": "https://localhost:8080/"
        }
      },
      "outputs": [
        {
          "output_type": "stream",
          "name": "stdout",
          "text": [
            "Looking in indexes: https://pypi.org/simple, https://us-python.pkg.dev/colab-wheels/public/simple/\n",
            "Collecting pyLDAvis\n",
            "  Downloading pyLDAvis-3.3.1.tar.gz (1.7 MB)\n",
            "\u001b[K     |████████████████████████████████| 1.7 MB 5.8 MB/s \n",
            "\u001b[?25h  Installing build dependencies ... \u001b[?25l\u001b[?25hdone\n",
            "  Getting requirements to build wheel ... \u001b[?25l\u001b[?25hdone\n",
            "  Installing backend dependencies ... \u001b[?25l\u001b[?25hdone\n",
            "    Preparing wheel metadata ... \u001b[?25l\u001b[?25hdone\n",
            "Collecting sklearn\n",
            "  Downloading sklearn-0.0.post1.tar.gz (3.6 kB)\n",
            "Requirement already satisfied: gensim in /usr/local/lib/python3.7/dist-packages (from pyLDAvis) (3.6.0)\n",
            "Requirement already satisfied: scipy in /usr/local/lib/python3.7/dist-packages (from pyLDAvis) (1.7.3)\n",
            "Requirement already satisfied: joblib in /usr/local/lib/python3.7/dist-packages (from pyLDAvis) (1.2.0)\n",
            "Requirement already satisfied: numexpr in /usr/local/lib/python3.7/dist-packages (from pyLDAvis) (2.8.4)\n",
            "Collecting funcy\n",
            "  Downloading funcy-1.17-py2.py3-none-any.whl (33 kB)\n",
            "Requirement already satisfied: numpy>=1.20.0 in /usr/local/lib/python3.7/dist-packages (from pyLDAvis) (1.21.6)\n",
            "Requirement already satisfied: scikit-learn in /usr/local/lib/python3.7/dist-packages (from pyLDAvis) (1.0.2)\n",
            "Requirement already satisfied: pandas>=1.2.0 in /usr/local/lib/python3.7/dist-packages (from pyLDAvis) (1.3.5)\n",
            "Requirement already satisfied: future in /usr/local/lib/python3.7/dist-packages (from pyLDAvis) (0.16.0)\n",
            "Requirement already satisfied: setuptools in /usr/local/lib/python3.7/dist-packages (from pyLDAvis) (57.4.0)\n",
            "Requirement already satisfied: jinja2 in /usr/local/lib/python3.7/dist-packages (from pyLDAvis) (2.11.3)\n",
            "Requirement already satisfied: pytz>=2017.3 in /usr/local/lib/python3.7/dist-packages (from pandas>=1.2.0->pyLDAvis) (2022.6)\n",
            "Requirement already satisfied: python-dateutil>=2.7.3 in /usr/local/lib/python3.7/dist-packages (from pandas>=1.2.0->pyLDAvis) (2.8.2)\n",
            "Requirement already satisfied: six>=1.5 in /usr/local/lib/python3.7/dist-packages (from python-dateutil>=2.7.3->pandas>=1.2.0->pyLDAvis) (1.15.0)\n",
            "Requirement already satisfied: smart-open>=1.2.1 in /usr/local/lib/python3.7/dist-packages (from gensim->pyLDAvis) (5.2.1)\n",
            "Requirement already satisfied: MarkupSafe>=0.23 in /usr/local/lib/python3.7/dist-packages (from jinja2->pyLDAvis) (2.0.1)\n",
            "Requirement already satisfied: threadpoolctl>=2.0.0 in /usr/local/lib/python3.7/dist-packages (from scikit-learn->pyLDAvis) (3.1.0)\n",
            "Building wheels for collected packages: pyLDAvis, sklearn\n",
            "  Building wheel for pyLDAvis (PEP 517) ... \u001b[?25l\u001b[?25hdone\n",
            "  Created wheel for pyLDAvis: filename=pyLDAvis-3.3.1-py2.py3-none-any.whl size=136898 sha256=298fc2dd29cba50c992c5e20184641dab2db3ef4825685b85979969a53eab780\n",
            "  Stored in directory: /root/.cache/pip/wheels/c9/21/f6/17bcf2667e8a68532ba2fbf6d5c72fdf4c7f7d9abfa4852d2f\n",
            "  Building wheel for sklearn (setup.py) ... \u001b[?25l\u001b[?25hdone\n",
            "  Created wheel for sklearn: filename=sklearn-0.0.post1-py3-none-any.whl size=2344 sha256=16ae108da0928a654221eb0e80894bb6cf903fcd328a2d9f0f96bd7f97f665be\n",
            "  Stored in directory: /root/.cache/pip/wheels/42/56/cc/4a8bf86613aafd5b7f1b310477667c1fca5c51c3ae4124a003\n",
            "Successfully built pyLDAvis sklearn\n",
            "Installing collected packages: sklearn, funcy, pyLDAvis\n",
            "Successfully installed funcy-1.17 pyLDAvis-3.3.1 sklearn-0.0.post1\n",
            "Looking in indexes: https://pypi.org/simple, https://us-python.pkg.dev/colab-wheels/public/simple/\n",
            "Collecting textstat\n",
            "  Downloading textstat-0.7.3-py3-none-any.whl (105 kB)\n",
            "\u001b[K     |████████████████████████████████| 105 kB 5.3 MB/s \n",
            "\u001b[?25hCollecting pyphen\n",
            "  Downloading pyphen-0.13.1-py3-none-any.whl (2.0 MB)\n",
            "\u001b[K     |████████████████████████████████| 2.0 MB 29.8 MB/s \n",
            "\u001b[?25hInstalling collected packages: pyphen, textstat\n",
            "Successfully installed pyphen-0.13.1 textstat-0.7.3\n"
          ]
        },
        {
          "output_type": "stream",
          "name": "stderr",
          "text": [
            "/usr/local/lib/python3.7/dist-packages/past/types/oldstr.py:5: DeprecationWarning: Using or importing the ABCs from 'collections' instead of from 'collections.abc' is deprecated since Python 3.3,and in 3.9 it will stop working\n",
            "  from collections import Iterable\n"
          ]
        }
      ],
      "source": [
        "!pip install pyLDAvis\n",
        "!pip install textstat\n",
        "import pandas as pd\n",
        "import numpy as np\n",
        "import matplotlib.pyplot as plt\n",
        "import nltk\n",
        "import seaborn as sns\n",
        "import sklearn\n",
        "import gensim\n",
        "import pyLDAvis\n",
        "import wordcloud\n",
        "import textblob\n",
        "import spacy\n",
        "import textstat"
      ]
    },
    {
      "cell_type": "code",
      "execution_count": 23,
      "metadata": {
        "id": "Bd7zAA8mcVKn",
        "outputId": "6b57ec88-56fe-4f76-a1cb-6b70a25f8732",
        "colab": {
          "base_uri": "https://localhost:8080/",
          "height": 552
        }
      },
      "outputs": [
        {
          "output_type": "display_data",
          "data": {
            "text/plain": [
              "<IPython.core.display.HTML object>"
            ],
            "text/html": [
              "\n",
              "     <input type=\"file\" id=\"files-75a52172-94e2-4ff3-80ff-82bfd48c2553\" name=\"files[]\" multiple disabled\n",
              "        style=\"border:none\" />\n",
              "     <output id=\"result-75a52172-94e2-4ff3-80ff-82bfd48c2553\">\n",
              "      Upload widget is only available when the cell has been executed in the\n",
              "      current browser session. Please rerun this cell to enable.\n",
              "      </output>\n",
              "      <script>// Copyright 2017 Google LLC\n",
              "//\n",
              "// Licensed under the Apache License, Version 2.0 (the \"License\");\n",
              "// you may not use this file except in compliance with the License.\n",
              "// You may obtain a copy of the License at\n",
              "//\n",
              "//      http://www.apache.org/licenses/LICENSE-2.0\n",
              "//\n",
              "// Unless required by applicable law or agreed to in writing, software\n",
              "// distributed under the License is distributed on an \"AS IS\" BASIS,\n",
              "// WITHOUT WARRANTIES OR CONDITIONS OF ANY KIND, either express or implied.\n",
              "// See the License for the specific language governing permissions and\n",
              "// limitations under the License.\n",
              "\n",
              "/**\n",
              " * @fileoverview Helpers for google.colab Python module.\n",
              " */\n",
              "(function(scope) {\n",
              "function span(text, styleAttributes = {}) {\n",
              "  const element = document.createElement('span');\n",
              "  element.textContent = text;\n",
              "  for (const key of Object.keys(styleAttributes)) {\n",
              "    element.style[key] = styleAttributes[key];\n",
              "  }\n",
              "  return element;\n",
              "}\n",
              "\n",
              "// Max number of bytes which will be uploaded at a time.\n",
              "const MAX_PAYLOAD_SIZE = 100 * 1024;\n",
              "\n",
              "function _uploadFiles(inputId, outputId) {\n",
              "  const steps = uploadFilesStep(inputId, outputId);\n",
              "  const outputElement = document.getElementById(outputId);\n",
              "  // Cache steps on the outputElement to make it available for the next call\n",
              "  // to uploadFilesContinue from Python.\n",
              "  outputElement.steps = steps;\n",
              "\n",
              "  return _uploadFilesContinue(outputId);\n",
              "}\n",
              "\n",
              "// This is roughly an async generator (not supported in the browser yet),\n",
              "// where there are multiple asynchronous steps and the Python side is going\n",
              "// to poll for completion of each step.\n",
              "// This uses a Promise to block the python side on completion of each step,\n",
              "// then passes the result of the previous step as the input to the next step.\n",
              "function _uploadFilesContinue(outputId) {\n",
              "  const outputElement = document.getElementById(outputId);\n",
              "  const steps = outputElement.steps;\n",
              "\n",
              "  const next = steps.next(outputElement.lastPromiseValue);\n",
              "  return Promise.resolve(next.value.promise).then((value) => {\n",
              "    // Cache the last promise value to make it available to the next\n",
              "    // step of the generator.\n",
              "    outputElement.lastPromiseValue = value;\n",
              "    return next.value.response;\n",
              "  });\n",
              "}\n",
              "\n",
              "/**\n",
              " * Generator function which is called between each async step of the upload\n",
              " * process.\n",
              " * @param {string} inputId Element ID of the input file picker element.\n",
              " * @param {string} outputId Element ID of the output display.\n",
              " * @return {!Iterable<!Object>} Iterable of next steps.\n",
              " */\n",
              "function* uploadFilesStep(inputId, outputId) {\n",
              "  const inputElement = document.getElementById(inputId);\n",
              "  inputElement.disabled = false;\n",
              "\n",
              "  const outputElement = document.getElementById(outputId);\n",
              "  outputElement.innerHTML = '';\n",
              "\n",
              "  const pickedPromise = new Promise((resolve) => {\n",
              "    inputElement.addEventListener('change', (e) => {\n",
              "      resolve(e.target.files);\n",
              "    });\n",
              "  });\n",
              "\n",
              "  const cancel = document.createElement('button');\n",
              "  inputElement.parentElement.appendChild(cancel);\n",
              "  cancel.textContent = 'Cancel upload';\n",
              "  const cancelPromise = new Promise((resolve) => {\n",
              "    cancel.onclick = () => {\n",
              "      resolve(null);\n",
              "    };\n",
              "  });\n",
              "\n",
              "  // Wait for the user to pick the files.\n",
              "  const files = yield {\n",
              "    promise: Promise.race([pickedPromise, cancelPromise]),\n",
              "    response: {\n",
              "      action: 'starting',\n",
              "    }\n",
              "  };\n",
              "\n",
              "  cancel.remove();\n",
              "\n",
              "  // Disable the input element since further picks are not allowed.\n",
              "  inputElement.disabled = true;\n",
              "\n",
              "  if (!files) {\n",
              "    return {\n",
              "      response: {\n",
              "        action: 'complete',\n",
              "      }\n",
              "    };\n",
              "  }\n",
              "\n",
              "  for (const file of files) {\n",
              "    const li = document.createElement('li');\n",
              "    li.append(span(file.name, {fontWeight: 'bold'}));\n",
              "    li.append(span(\n",
              "        `(${file.type || 'n/a'}) - ${file.size} bytes, ` +\n",
              "        `last modified: ${\n",
              "            file.lastModifiedDate ? file.lastModifiedDate.toLocaleDateString() :\n",
              "                                    'n/a'} - `));\n",
              "    const percent = span('0% done');\n",
              "    li.appendChild(percent);\n",
              "\n",
              "    outputElement.appendChild(li);\n",
              "\n",
              "    const fileDataPromise = new Promise((resolve) => {\n",
              "      const reader = new FileReader();\n",
              "      reader.onload = (e) => {\n",
              "        resolve(e.target.result);\n",
              "      };\n",
              "      reader.readAsArrayBuffer(file);\n",
              "    });\n",
              "    // Wait for the data to be ready.\n",
              "    let fileData = yield {\n",
              "      promise: fileDataPromise,\n",
              "      response: {\n",
              "        action: 'continue',\n",
              "      }\n",
              "    };\n",
              "\n",
              "    // Use a chunked sending to avoid message size limits. See b/62115660.\n",
              "    let position = 0;\n",
              "    do {\n",
              "      const length = Math.min(fileData.byteLength - position, MAX_PAYLOAD_SIZE);\n",
              "      const chunk = new Uint8Array(fileData, position, length);\n",
              "      position += length;\n",
              "\n",
              "      const base64 = btoa(String.fromCharCode.apply(null, chunk));\n",
              "      yield {\n",
              "        response: {\n",
              "          action: 'append',\n",
              "          file: file.name,\n",
              "          data: base64,\n",
              "        },\n",
              "      };\n",
              "\n",
              "      let percentDone = fileData.byteLength === 0 ?\n",
              "          100 :\n",
              "          Math.round((position / fileData.byteLength) * 100);\n",
              "      percent.textContent = `${percentDone}% done`;\n",
              "\n",
              "    } while (position < fileData.byteLength);\n",
              "  }\n",
              "\n",
              "  // All done.\n",
              "  yield {\n",
              "    response: {\n",
              "      action: 'complete',\n",
              "    }\n",
              "  };\n",
              "}\n",
              "\n",
              "scope.google = scope.google || {};\n",
              "scope.google.colab = scope.google.colab || {};\n",
              "scope.google.colab._files = {\n",
              "  _uploadFiles,\n",
              "  _uploadFilesContinue,\n",
              "};\n",
              "})(self);\n",
              "</script> "
            ]
          },
          "metadata": {}
        },
        {
          "output_type": "stream",
          "name": "stdout",
          "text": [
            "Saving rtom.csv to rtom (3).csv\n"
          ]
        },
        {
          "output_type": "execute_result",
          "data": {
            "text/plain": [
              "   index rotten_tomatoes_link       critic_name  top_critic  Top_Critic  \\\n",
              "0      3            m/0814255      Ben McEachen       False           0   \n",
              "1      6            m/0814255      Nick Schager       False           1   \n",
              "2      7            m/0814255  Bill Goodykoontz        True           0   \n",
              "3      8            m/0814255    Jordan Hoffman       False           1   \n",
              "4      9            m/0814255      Jim Schembri        True           0   \n",
              "\n",
              "            publisher_name review_type  Review_Type review_score review_date  \\\n",
              "0  Sunday Mail (Australia)       Fresh            1        3.5/5    2/9/2010   \n",
              "1           Slant Magazine      Rotten            0        4-Jan   2/10/2010   \n",
              "2         Arizona Republic       Fresh            1        3.5/5   2/10/2010   \n",
              "3                      UGO       Fresh            1            B   2/10/2010   \n",
              "4      The Age (Australia)       Fresh            1        5-Mar   2/10/2010   \n",
              "\n",
              "                                      review_content  \n",
              "0  Whether audiences will get behind The Lightnin...  \n",
              "1  Harry Potter knockoffs don't come more transpa...  \n",
              "2  Percy Jackson isn't a great movie, but it's a ...  \n",
              "3                         Fun, brisk and imaginative  \n",
              "4  Crammed with dragons, set-destroying fights an...  "
            ],
            "text/html": [
              "\n",
              "  <div id=\"df-390b223b-c39f-4fc8-96c1-e04a371edce0\">\n",
              "    <div class=\"colab-df-container\">\n",
              "      <div>\n",
              "<style scoped>\n",
              "    .dataframe tbody tr th:only-of-type {\n",
              "        vertical-align: middle;\n",
              "    }\n",
              "\n",
              "    .dataframe tbody tr th {\n",
              "        vertical-align: top;\n",
              "    }\n",
              "\n",
              "    .dataframe thead th {\n",
              "        text-align: right;\n",
              "    }\n",
              "</style>\n",
              "<table border=\"1\" class=\"dataframe\">\n",
              "  <thead>\n",
              "    <tr style=\"text-align: right;\">\n",
              "      <th></th>\n",
              "      <th>index</th>\n",
              "      <th>rotten_tomatoes_link</th>\n",
              "      <th>critic_name</th>\n",
              "      <th>top_critic</th>\n",
              "      <th>Top_Critic</th>\n",
              "      <th>publisher_name</th>\n",
              "      <th>review_type</th>\n",
              "      <th>Review_Type</th>\n",
              "      <th>review_score</th>\n",
              "      <th>review_date</th>\n",
              "      <th>review_content</th>\n",
              "    </tr>\n",
              "  </thead>\n",
              "  <tbody>\n",
              "    <tr>\n",
              "      <th>0</th>\n",
              "      <td>3</td>\n",
              "      <td>m/0814255</td>\n",
              "      <td>Ben McEachen</td>\n",
              "      <td>False</td>\n",
              "      <td>0</td>\n",
              "      <td>Sunday Mail (Australia)</td>\n",
              "      <td>Fresh</td>\n",
              "      <td>1</td>\n",
              "      <td>3.5/5</td>\n",
              "      <td>2/9/2010</td>\n",
              "      <td>Whether audiences will get behind The Lightnin...</td>\n",
              "    </tr>\n",
              "    <tr>\n",
              "      <th>1</th>\n",
              "      <td>6</td>\n",
              "      <td>m/0814255</td>\n",
              "      <td>Nick Schager</td>\n",
              "      <td>False</td>\n",
              "      <td>1</td>\n",
              "      <td>Slant Magazine</td>\n",
              "      <td>Rotten</td>\n",
              "      <td>0</td>\n",
              "      <td>4-Jan</td>\n",
              "      <td>2/10/2010</td>\n",
              "      <td>Harry Potter knockoffs don't come more transpa...</td>\n",
              "    </tr>\n",
              "    <tr>\n",
              "      <th>2</th>\n",
              "      <td>7</td>\n",
              "      <td>m/0814255</td>\n",
              "      <td>Bill Goodykoontz</td>\n",
              "      <td>True</td>\n",
              "      <td>0</td>\n",
              "      <td>Arizona Republic</td>\n",
              "      <td>Fresh</td>\n",
              "      <td>1</td>\n",
              "      <td>3.5/5</td>\n",
              "      <td>2/10/2010</td>\n",
              "      <td>Percy Jackson isn't a great movie, but it's a ...</td>\n",
              "    </tr>\n",
              "    <tr>\n",
              "      <th>3</th>\n",
              "      <td>8</td>\n",
              "      <td>m/0814255</td>\n",
              "      <td>Jordan Hoffman</td>\n",
              "      <td>False</td>\n",
              "      <td>1</td>\n",
              "      <td>UGO</td>\n",
              "      <td>Fresh</td>\n",
              "      <td>1</td>\n",
              "      <td>B</td>\n",
              "      <td>2/10/2010</td>\n",
              "      <td>Fun, brisk and imaginative</td>\n",
              "    </tr>\n",
              "    <tr>\n",
              "      <th>4</th>\n",
              "      <td>9</td>\n",
              "      <td>m/0814255</td>\n",
              "      <td>Jim Schembri</td>\n",
              "      <td>True</td>\n",
              "      <td>0</td>\n",
              "      <td>The Age (Australia)</td>\n",
              "      <td>Fresh</td>\n",
              "      <td>1</td>\n",
              "      <td>5-Mar</td>\n",
              "      <td>2/10/2010</td>\n",
              "      <td>Crammed with dragons, set-destroying fights an...</td>\n",
              "    </tr>\n",
              "  </tbody>\n",
              "</table>\n",
              "</div>\n",
              "      <button class=\"colab-df-convert\" onclick=\"convertToInteractive('df-390b223b-c39f-4fc8-96c1-e04a371edce0')\"\n",
              "              title=\"Convert this dataframe to an interactive table.\"\n",
              "              style=\"display:none;\">\n",
              "        \n",
              "  <svg xmlns=\"http://www.w3.org/2000/svg\" height=\"24px\"viewBox=\"0 0 24 24\"\n",
              "       width=\"24px\">\n",
              "    <path d=\"M0 0h24v24H0V0z\" fill=\"none\"/>\n",
              "    <path d=\"M18.56 5.44l.94 2.06.94-2.06 2.06-.94-2.06-.94-.94-2.06-.94 2.06-2.06.94zm-11 1L8.5 8.5l.94-2.06 2.06-.94-2.06-.94L8.5 2.5l-.94 2.06-2.06.94zm10 10l.94 2.06.94-2.06 2.06-.94-2.06-.94-.94-2.06-.94 2.06-2.06.94z\"/><path d=\"M17.41 7.96l-1.37-1.37c-.4-.4-.92-.59-1.43-.59-.52 0-1.04.2-1.43.59L10.3 9.45l-7.72 7.72c-.78.78-.78 2.05 0 2.83L4 21.41c.39.39.9.59 1.41.59.51 0 1.02-.2 1.41-.59l7.78-7.78 2.81-2.81c.8-.78.8-2.07 0-2.86zM5.41 20L4 18.59l7.72-7.72 1.47 1.35L5.41 20z\"/>\n",
              "  </svg>\n",
              "      </button>\n",
              "      \n",
              "  <style>\n",
              "    .colab-df-container {\n",
              "      display:flex;\n",
              "      flex-wrap:wrap;\n",
              "      gap: 12px;\n",
              "    }\n",
              "\n",
              "    .colab-df-convert {\n",
              "      background-color: #E8F0FE;\n",
              "      border: none;\n",
              "      border-radius: 50%;\n",
              "      cursor: pointer;\n",
              "      display: none;\n",
              "      fill: #1967D2;\n",
              "      height: 32px;\n",
              "      padding: 0 0 0 0;\n",
              "      width: 32px;\n",
              "    }\n",
              "\n",
              "    .colab-df-convert:hover {\n",
              "      background-color: #E2EBFA;\n",
              "      box-shadow: 0px 1px 2px rgba(60, 64, 67, 0.3), 0px 1px 3px 1px rgba(60, 64, 67, 0.15);\n",
              "      fill: #174EA6;\n",
              "    }\n",
              "\n",
              "    [theme=dark] .colab-df-convert {\n",
              "      background-color: #3B4455;\n",
              "      fill: #D2E3FC;\n",
              "    }\n",
              "\n",
              "    [theme=dark] .colab-df-convert:hover {\n",
              "      background-color: #434B5C;\n",
              "      box-shadow: 0px 1px 3px 1px rgba(0, 0, 0, 0.15);\n",
              "      filter: drop-shadow(0px 1px 2px rgba(0, 0, 0, 0.3));\n",
              "      fill: #FFFFFF;\n",
              "    }\n",
              "  </style>\n",
              "\n",
              "      <script>\n",
              "        const buttonEl =\n",
              "          document.querySelector('#df-390b223b-c39f-4fc8-96c1-e04a371edce0 button.colab-df-convert');\n",
              "        buttonEl.style.display =\n",
              "          google.colab.kernel.accessAllowed ? 'block' : 'none';\n",
              "\n",
              "        async function convertToInteractive(key) {\n",
              "          const element = document.querySelector('#df-390b223b-c39f-4fc8-96c1-e04a371edce0');\n",
              "          const dataTable =\n",
              "            await google.colab.kernel.invokeFunction('convertToInteractive',\n",
              "                                                     [key], {});\n",
              "          if (!dataTable) return;\n",
              "\n",
              "          const docLinkHtml = 'Like what you see? Visit the ' +\n",
              "            '<a target=\"_blank\" href=https://colab.research.google.com/notebooks/data_table.ipynb>data table notebook</a>'\n",
              "            + ' to learn more about interactive tables.';\n",
              "          element.innerHTML = '';\n",
              "          dataTable['output_type'] = 'display_data';\n",
              "          await google.colab.output.renderOutput(dataTable, element);\n",
              "          const docLink = document.createElement('div');\n",
              "          docLink.innerHTML = docLinkHtml;\n",
              "          element.appendChild(docLink);\n",
              "        }\n",
              "      </script>\n",
              "    </div>\n",
              "  </div>\n",
              "  "
            ]
          },
          "metadata": {},
          "execution_count": 23
        }
      ],
      "source": [
        "from google.colab import files\n",
        "uploaded = files.upload()\n",
        "data = pd.read_csv('rtom.csv')\n",
        "tomatoes = data.dropna()\n",
        "tomatoes.reset_index(inplace=True)\n",
        "tomatoes.shape\n",
        "tomatoes.head()"
      ]
    },
    {
      "cell_type": "markdown",
      "source": [
        "After loading the data I droped null values which truncates the dataset from 10000 to ~7000"
      ],
      "metadata": {
        "id": "IA6Olk26vld1"
      }
    },
    {
      "cell_type": "code",
      "source": [
        "selections = ['Review_Type', 'review_content']\n",
        "X = tomatoes[selections].copy()\n",
        "y = X.pop('Review_Type')\n",
        "print(X.head(5))\n",
        "print(X.shape)\n",
        "print(y.value_counts(normalize=True))"
      ],
      "metadata": {
        "id": "QliPS5Dme7qm",
        "outputId": "4fc12973-07b4-4301-f296-0a1526ade246",
        "colab": {
          "base_uri": "https://localhost:8080/"
        }
      },
      "execution_count": 28,
      "outputs": [
        {
          "output_type": "stream",
          "name": "stdout",
          "text": [
            "                                      review_content\n",
            "0  Whether audiences will get behind The Lightnin...\n",
            "1  Harry Potter knockoffs don't come more transpa...\n",
            "2  Percy Jackson isn't a great movie, but it's a ...\n",
            "3                         Fun, brisk and imaginative\n",
            "4  Crammed with dragons, set-destroying fights an...\n",
            "(7089, 1)\n",
            "0    0.505431\n",
            "1    0.494569\n",
            "Name: Review_Type, dtype: float64\n"
          ]
        }
      ]
    },
    {
      "cell_type": "markdown",
      "source": [
        "Above I narrowed the data down to Reveiw Type which is either Rotton (50.5%) or Fresh (49.4%) (represented by a zero or a one respectively)."
      ],
      "metadata": {
        "id": "sEgnxc7_zqLk"
      }
    },
    {
      "cell_type": "code",
      "source": [
        "import nltk\n",
        "from nltk.corpus import stopwords\n",
        "\n",
        "nltk.download('stopwords')\n",
        "stop = set(stopwords.words('english'))\n",
        "corpus = []\n",
        "new = X['review_content'].str.split()\n",
        "new = new.values.tolist()\n",
        "corpus = [word for i in new for word in i]"
      ],
      "metadata": {
        "id": "D9iJs82N0SJY",
        "outputId": "0222caab-b015-48f2-d855-2bbee7f2f82d",
        "colab": {
          "base_uri": "https://localhost:8080/"
        }
      },
      "execution_count": 30,
      "outputs": [
        {
          "output_type": "stream",
          "name": "stderr",
          "text": [
            "[nltk_data] Downloading package stopwords to /root/nltk_data...\n",
            "[nltk_data]   Unzipping corpora/stopwords.zip.\n"
          ]
        }
      ]
    },
    {
      "cell_type": "code",
      "source": [
        "from collections import defaultdict\n",
        "\n",
        "dic = defaultdict(int)\n",
        "for word in corpus:\n",
        "    if word in stop:\n",
        "        dic[word] += 1\n"
      ],
      "metadata": {
        "id": "ZL4Y_0KG0ym-"
      },
      "execution_count": 31,
      "outputs": []
    },
    {
      "cell_type": "code",
      "source": [
        "from nltk.tokenize import TreebankWordTokenizer\n",
        "\n",
        "twt = TreebankWordTokenizer()\n",
        "X['tokens_raw'] = X['review_content'].apply(lambda x: twt.tokenize(x.lower()))\n",
        "chars2remove = set(\n",
        "    ['.', '!', '/', '?', ',', '@', '#', '$', '%', '^', '&', '*', '_', '-', '~', 'The', 'A', '`', '+', \"'\", '\"', '--',\n",
        "     '[', ']',\n",
        "     \"'s\", \"n't\"])\n",
        "X['tokens_raw'] = X['tokens_raw'].apply(lambda x: [w for w in x if w not in chars2remove and w not in stop])\n",
        "pd.set_option(\"display.max_colwidth\", 300)\n",
        "X_tRaw = X['tokens_raw'].apply(lambda x: [w for w in x if w not in chars2remove and w not in stop])\n",
        "Xtclean = X_tRaw.apply(lambda x: ' '.join(x))\n",
        "X_tRaw.head()"
      ],
      "metadata": {
        "id": "qCIwmzBR01_f",
        "outputId": "487bfb84-9b31-402e-b4e2-9c6301197cff",
        "colab": {
          "base_uri": "https://localhost:8080/"
        }
      },
      "execution_count": 35,
      "outputs": [
        {
          "output_type": "execute_result",
          "data": {
            "text/plain": [
              "0                 [whether, audiences, get, behind, lightning, thief, hard, predict., overall, entertaining, introduction, promising, new, world, consuming, shadow, potter, big, break, free]\n",
              "1                                                                           [harry, potter, knockoffs, come, transparent, slapdash, wannabe-franchise, jumpstarter, directed, chris, columbus]\n",
              "2                                                                      [percy, jackson, great, movie, good, one, trotting, kernels, greek, mythology, like, many, disney, channel, references]\n",
              "3                                                                                                                                                                    [fun, brisk, imaginative]\n",
              "4    [crammed, dragons, set-destroying, fights, things, exploding, columbus, squeezes, well-meaning, pause, breaks, friendship, absent, fathers, swiftly, moving, next, pyrotechnics, display]\n",
              "Name: tokens_raw, dtype: object"
            ]
          },
          "metadata": {},
          "execution_count": 35
        }
      ]
    },
    {
      "cell_type": "markdown",
      "source": [
        "Tokenized the dataset and removed stopwords."
      ],
      "metadata": {
        "id": "jx4f5_Wz5uGG"
      }
    },
    {
      "cell_type": "code",
      "source": [
        "from sklearn.feature_extraction.text import TfidfVectorizer\n",
        "\n",
        "tfidf_vect = TfidfVectorizer()\n",
        "X_hot = tfidf_vect.fit_transform(Xtclean).toarray()\n",
        "\n",
        "print(X_hot[:3, :5])"
      ],
      "metadata": {
        "id": "xkvD8Xf11ayE",
        "outputId": "9850f78f-1a25-43a1-9585-4f8e619e2c93",
        "colab": {
          "base_uri": "https://localhost:8080/"
        }
      },
      "execution_count": 36,
      "outputs": [
        {
          "output_type": "stream",
          "name": "stdout",
          "text": [
            "[[0. 0. 0. 0. 0.]\n",
            " [0. 0. 0. 0. 0.]\n",
            " [0. 0. 0. 0. 0.]]\n"
          ]
        }
      ]
    },
    {
      "cell_type": "code",
      "source": [
        "import torch\n",
        "X_tense = torch.tensor(X_hot).float()\n",
        "print(Xtclean.head())\n",
        "print(X.shape)"
      ],
      "metadata": {
        "id": "U5qJY0HE1LJV",
        "outputId": "e36ef86a-5aad-43ef-f25f-3d8349b6082a",
        "colab": {
          "base_uri": "https://localhost:8080/"
        }
      },
      "execution_count": 38,
      "outputs": [
        {
          "output_type": "stream",
          "name": "stdout",
          "text": [
            "0                  whether audiences get behind lightning thief hard predict. overall entertaining introduction promising new world consuming shadow potter big break free\n",
            "1                                                                   harry potter knockoffs come transparent slapdash wannabe-franchise jumpstarter directed chris columbus\n",
            "2                                                                  percy jackson great movie good one trotting kernels greek mythology like many disney channel references\n",
            "3                                                                                                                                                    fun brisk imaginative\n",
            "4    crammed dragons set-destroying fights things exploding columbus squeezes well-meaning pause breaks friendship absent fathers swiftly moving next pyrotechnics display\n",
            "Name: tokens_raw, dtype: object\n",
            "(7089, 2)\n"
          ]
        }
      ]
    },
    {
      "cell_type": "markdown",
      "source": [
        "Vectorized the dataset then used torch to put into a onehot encoded tensor."
      ],
      "metadata": {
        "id": "RCqa05SC51gN"
      }
    },
    {
      "cell_type": "code",
      "source": [
        "from sklearn.model_selection import train_test_split\n",
        "X_train, X_val, y_train, y_val = train_test_split(X_tense, y, train_size=0.80, random_state=1)"
      ],
      "metadata": {
        "id": "F_TsQwbI1hO1"
      },
      "execution_count": 39,
      "outputs": []
    },
    {
      "cell_type": "markdown",
      "source": [
        "Split the data then put the training set into a classification class I wrote to run it through a Random Forest model, that is part of this class."
      ],
      "metadata": {
        "id": "TMX_todn6ADw"
      }
    },
    {
      "cell_type": "code",
      "source": [
        "class Classification:\n",
        "    def __init__(self, X, y):\n",
        "        self.X = X\n",
        "        self.y = y\n",
        "\n",
        "    def extraTree(self, n):\n",
        "        from sklearn.ensemble import ExtraTreesClassifier\n",
        "        import matplotlib.pyplot as plt\n",
        "        model = ExtraTreesClassifier()\n",
        "        model.fit(self.X, self.y)\n",
        "        feat_importances = pd.Series(model.feature_importances_, index=self.X.columns)\n",
        "        feat_importances.nlargest(n).plot(kind='barh')\n",
        "        plt.show()\n",
        "        feat = []\n",
        "        feat.append(feat_importances.nlargest(n))\n",
        "        return feat\n",
        "\n",
        "    def normal(self, feature):\n",
        "        import matplotlib.pyplot as plt\n",
        "        plt.hist(self.X[feature], bins=20, edgecolor='black')\n",
        "        plt.show()\n",
        "\n",
        "    def reg(self):\n",
        "        from sklearn.linear_model import LinearRegression\n",
        "        import matplotlib.pyplot as plt\n",
        "        linreg_model = LinearRegression()\n",
        "        linreg_model.fit(self.X, self.y)\n",
        "        import statsmodels.api as sm\n",
        "        regModel = sm.OLS(self.y, self.X).fit()\n",
        "        y_pred = linreg_model.predict(self.X)\n",
        "        # and a residual plot\n",
        "        plt.title('Residulas')\n",
        "        plt.scatter(regModel.model.exog[:, 1], regModel.resid)\n",
        "        plt.show()\n",
        "        mse_linreg = ((y_pred ** 2).mean())\n",
        "        print(\"MSE = \", mse_linreg)\n",
        "        print(\"rMSE = \", np.sqrt(mse_linreg))\n",
        "        return regModel.summary()  # finally return a Regression Summary\n",
        "\n",
        "\n",
        "class DecisionTree(Classification):\n",
        "    def __init__(self, X, y):\n",
        "        super().__init__(X, y)\n",
        "\n",
        "    def decision(self, n, feat):\n",
        "        from sklearn.tree import DecisionTreeClassifier\n",
        "        from sklearn import tree\n",
        "        import matplotlib.pyplot as plt\n",
        "        clf = tree.DecisionTreeClassifier(max_depth=n)  # set hyperparameter\n",
        "        clf.fit(self.X, self.y)\n",
        "        plt.figure(figsize=(12, 12))  # set plot size (denoted in inches)\n",
        "        tree.plot_tree(clf, feature_names=feat, class_names=True, filled=True, fontsize=10)\n",
        "        plt.show()\n",
        "\n",
        "\n",
        "class RandomForest(Classification):\n",
        "    def __init__(self, X, y):\n",
        "        super().__init__(X, y)\n",
        "\n",
        "    def rForestClass(self, n):\n",
        "        from sklearn.ensemble import RandomForestClassifier\n",
        "        import matplotlib.pyplot as plt\n",
        "        from sklearn import metrics\n",
        "        from sklearn.metrics import confusion_matrix, ConfusionMatrixDisplay, accuracy_score\n",
        "        clf = RandomForestClassifier(n_estimators=n)\n",
        "        clf.fit(self.X, self.y)\n",
        "        y_pred = clf.predict(self.X)\n",
        "        display = ConfusionMatrixDisplay(confusion_matrix(self.y, y_pred), display_labels=['Fresh', 'Rotten'])\n",
        "        #display.plot()\n",
        "        #plt.show()\n",
        "        print(\"Accuracy: \", metrics.accuracy_score(self.y, y_pred) * 100, \"%\")\n",
        "\n",
        "    def rForestReg(self, n, state):\n",
        "        from sklearn.ensemble import RandomForestRegressor\n",
        "        from sklearn import metrics\n",
        "        regr = RandomForestRegressor(max_depth=n, random_state=state)\n",
        "        regr.fit(self.X, self.y)\n",
        "        y_pred = regr.predict(self.X)\n",
        "        print(\"Accuracy: \", metrics.accuracy_score(self.y, y_pred))"
      ],
      "metadata": {
        "id": "T-DnIMv00XTA"
      },
      "execution_count": 40,
      "outputs": []
    },
    {
      "cell_type": "code",
      "source": [
        "rf = RandomForest(X_train, y_train)\n",
        "rf.rForestClass(10)"
      ],
      "metadata": {
        "id": "t4Lohe6O1yai",
        "outputId": "3ecc2d84-5137-4360-ec09-befb75a4102d",
        "colab": {
          "base_uri": "https://localhost:8080/",
          "height": 296
        }
      },
      "execution_count": 42,
      "outputs": [
        {
          "output_type": "display_data",
          "data": {
            "text/plain": [
              "<Figure size 432x288 with 2 Axes>"
            ],
            "image/png": "[encoded data removed]"
          },
          "metadata": {
            "needs_background": "light"
          }
        },
        {
          "output_type": "stream",
          "name": "stdout",
          "text": [
            "Accuracy:  98.37771116205255 %\n"
          ]
        }
      ]
    },
    {
      "cell_type": "markdown",
      "source": [
        "After running the data through the training set, the model is apparently 90% accurate..."
      ],
      "metadata": {
        "id": "Uq1gk5ei6v9N"
      }
    },
    {
      "cell_type": "code",
      "source": [
        "rf = RandomForest(X_val, y_val)\n",
        "rf.rForestClass(10)"
      ],
      "metadata": {
        "id": "jw02q0a52EQT",
        "outputId": "3b90c94c-0f08-4b54-86e8-b39489a3707f",
        "colab": {
          "base_uri": "https://localhost:8080/",
          "height": 296
        }
      },
      "execution_count": 43,
      "outputs": [
        {
          "output_type": "display_data",
          "data": {
            "text/plain": [
              "<Figure size 432x288 with 2 Axes>"
            ],
            "image/png": "[encoded data removed]"
          },
          "metadata": {
            "needs_background": "light"
          }
        },
        {
          "output_type": "stream",
          "name": "stdout",
          "text": [
            "Accuracy:  98.09590973201693 %\n"
          ]
        }
      ]
    },
    {
      "cell_type": "markdown",
      "source": [],
      "metadata": {
        "id": "WxPxTbp_7FOB"
      }
    },
    {
      "cell_type": "markdown",
      "source": [
        "So, after running the data through the validation set the model is still 98% accurate, this must be some data."
      ],
      "metadata": {
        "id": "oub2p4o47HSY"
      }
    },
    {
      "cell_type": "code",
      "source": [
        "rf.rForestClass(2)\n",
        "rf.rForestClass(4)\n",
        "rf.rForestClass(6)\n",
        "rf.rForestClass(10)\n",
        "rf.rForestClass(20)\n",
        "rf.rForestClass(40)"
      ],
      "metadata": {
        "id": "GcX07gY_7rsK",
        "outputId": "376fbbd2-f06b-4c16-b61d-743b636d8af0",
        "colab": {
          "base_uri": "https://localhost:8080/",
          "height": 1000
        }
      },
      "execution_count": 45,
      "outputs": [
        {
          "output_type": "display_data",
          "data": {
            "text/plain": [
              "<Figure size 432x288 with 2 Axes>"
            ],
            "image/png": "[encoded data removed]"
          },
          "metadata": {
            "needs_background": "light"
          }
        },
        {
          "output_type": "stream",
          "name": "stdout",
          "text": [
            "Accuracy:  80.8885754583921 %\n"
          ]
        },
        {
          "output_type": "display_data",
          "data": {
            "text/plain": [
              "<Figure size 432x288 with 2 Axes>"
            ],
            "image/png": "[encoded data removed]"
          },
          "metadata": {
            "needs_background": "light"
          }
        },
        {
          "output_type": "stream",
          "name": "stdout",
          "text": [
            "Accuracy:  90.83215796897038 %\n"
          ]
        },
        {
          "output_type": "display_data",
          "data": {
            "text/plain": [
              "<Figure size 432x288 with 2 Axes>"
            ],
            "image/png": "[encoded data removed]"
          },
          "metadata": {
            "needs_background": "light"
          }
        },
        {
          "output_type": "stream",
          "name": "stdout",
          "text": [
            "Accuracy:  92.59520451339915 %\n"
          ]
        },
        {
          "output_type": "display_data",
          "data": {
            "text/plain": [
              "<Figure size 432x288 with 2 Axes>"
            ],
            "image/png": "[encoded data removed]"
          },
          "metadata": {
            "needs_background": "light"
          }
        },
        {
          "output_type": "stream",
          "name": "stdout",
          "text": [
            "Accuracy:  97.95486600846263 %\n"
          ]
        },
        {
          "output_type": "display_data",
          "data": {
            "text/plain": [
              "<Figure size 432x288 with 2 Axes>"
            ],
            "image/png": "[encoded data removed]"
          },
          "metadata": {
            "needs_background": "light"
          }
        },
        {
          "output_type": "stream",
          "name": "stdout",
          "text": [
            "Accuracy:  99.64739069111424 %\n"
          ]
        },
        {
          "output_type": "display_data",
          "data": {
            "text/plain": [
              "<Figure size 432x288 with 2 Axes>"
            ],
            "image/png": "[encoded data removed]"
          },
          "metadata": {
            "needs_background": "light"
          }
        },
        {
          "output_type": "stream",
          "name": "stdout",
          "text": [
            "Accuracy:  99.8589562764457 %\n"
          ]
        }
      ]
    },
    {
      "cell_type": "markdown",
      "source": [
        "Above shows the confustion matrices for many different estimators, as we can see the higher the estimator the higher the accuracy, this is apparently magic data"
      ],
      "metadata": {
        "id": "jlV7REbV79ET"
      }
    }
  ],
  "metadata": {
    "kernelspec": {
      "display_name": "Python 3.9.12 ('base')",
      "language": "python",
      "name": "python3"
    },
    "language_info": {
      "codemirror_mode": {
        "name": "ipython",
        "version": 3
      },
      "file_extension": ".py",
      "mimetype": "text/x-python",
      "name": "python",
      "nbconvert_exporter": "python",
      "pygments_lexer": "ipython3",
      "version": "3.9.13"
    },
    "orig_nbformat": 4,
    "vscode": {
      "interpreter": {
        "hash": "bb3398f4b21c7b026dd5874af3f954bf25f1e8ff81e25d82a94abcbbaacf760b"
      }
    },
    "colab": {
      "provenance": []
    }
  },
  "nbformat": 4,
  "nbformat_minor": 0
}
