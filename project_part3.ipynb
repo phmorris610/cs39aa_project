{
  "nbformat": 4,
  "nbformat_minor": 0,
  "metadata": {
    "colab": {
      "provenance": [],
      "authorship_tag": "ABX9TyN+Ap2iQEsFEvSxipc+6oes",
      "include_colab_link": true
    },
    "kernelspec": {
      "name": "python3",
      "display_name": "Python 3"
    },
    "language_info": {
      "name": "python"
    }
  },
  "cells": [
    {
      "cell_type": "markdown",
      "metadata": {
        "id": "view-in-github",
        "colab_type": "text"
      },
      "source": [
        "<a href=\"https://colab.research.google.com/github/phmorris610/cs39aa_project/blob/main/project_part3.ipynb\" target=\"_parent\"><img src=\"https://colab.research.google.com/assets/colab-badge.svg\" alt=\"Open In Colab\"/></a>"
      ]
    },
    {
      "cell_type": "code",
      "execution_count": 5,
      "metadata": {
        "colab": {
          "base_uri": "https://localhost:8080/"
        },
        "id": "YtSXSZ7lfwIY",
        "outputId": "a1562260-3c6b-4307-ef61-1e142440701d"
      },
      "outputs": [
        {
          "output_type": "stream",
          "name": "stdout",
          "text": [
            "Looking in indexes: https://pypi.org/simple, https://us-python.pkg.dev/colab-wheels/public/simple/\n",
            "Requirement already satisfied: pyLDAvis in /usr/local/lib/python3.7/dist-packages (3.3.1)\n",
            "Requirement already satisfied: scipy in /usr/local/lib/python3.7/dist-packages (from pyLDAvis) (1.7.3)\n",
            "Requirement already satisfied: funcy in /usr/local/lib/python3.7/dist-packages (from pyLDAvis) (1.17)\n",
            "Requirement already satisfied: jinja2 in /usr/local/lib/python3.7/dist-packages (from pyLDAvis) (2.11.3)\n",
            "Requirement already satisfied: setuptools in /usr/local/lib/python3.7/dist-packages (from pyLDAvis) (57.4.0)\n",
            "Requirement already satisfied: future in /usr/local/lib/python3.7/dist-packages (from pyLDAvis) (0.16.0)\n",
            "Requirement already satisfied: pandas>=1.2.0 in /usr/local/lib/python3.7/dist-packages (from pyLDAvis) (1.3.5)\n",
            "Requirement already satisfied: numpy>=1.20.0 in /usr/local/lib/python3.7/dist-packages (from pyLDAvis) (1.21.6)\n",
            "Requirement already satisfied: joblib in /usr/local/lib/python3.7/dist-packages (from pyLDAvis) (1.2.0)\n",
            "Requirement already satisfied: scikit-learn in /usr/local/lib/python3.7/dist-packages (from pyLDAvis) (1.0.2)\n",
            "Requirement already satisfied: gensim in /usr/local/lib/python3.7/dist-packages (from pyLDAvis) (3.6.0)\n",
            "Requirement already satisfied: sklearn in /usr/local/lib/python3.7/dist-packages (from pyLDAvis) (0.0.post1)\n",
            "Requirement already satisfied: numexpr in /usr/local/lib/python3.7/dist-packages (from pyLDAvis) (2.8.4)\n",
            "Requirement already satisfied: python-dateutil>=2.7.3 in /usr/local/lib/python3.7/dist-packages (from pandas>=1.2.0->pyLDAvis) (2.8.2)\n",
            "Requirement already satisfied: pytz>=2017.3 in /usr/local/lib/python3.7/dist-packages (from pandas>=1.2.0->pyLDAvis) (2022.6)\n",
            "Requirement already satisfied: six>=1.5 in /usr/local/lib/python3.7/dist-packages (from python-dateutil>=2.7.3->pandas>=1.2.0->pyLDAvis) (1.15.0)\n",
            "Requirement already satisfied: smart-open>=1.2.1 in /usr/local/lib/python3.7/dist-packages (from gensim->pyLDAvis) (5.2.1)\n",
            "Requirement already satisfied: MarkupSafe>=0.23 in /usr/local/lib/python3.7/dist-packages (from jinja2->pyLDAvis) (2.0.1)\n",
            "Requirement already satisfied: threadpoolctl>=2.0.0 in /usr/local/lib/python3.7/dist-packages (from scikit-learn->pyLDAvis) (3.1.0)\n",
            "Looking in indexes: https://pypi.org/simple, https://us-python.pkg.dev/colab-wheels/public/simple/\n",
            "Requirement already satisfied: textstat in /usr/local/lib/python3.7/dist-packages (0.7.3)\n",
            "Requirement already satisfied: pyphen in /usr/local/lib/python3.7/dist-packages (from textstat) (0.13.1)\n"
          ]
        },
        {
          "output_type": "stream",
          "name": "stderr",
          "text": [
            "/usr/local/lib/python3.7/dist-packages/past/types/oldstr.py:5: DeprecationWarning: Using or importing the ABCs from 'collections' instead of from 'collections.abc' is deprecated since Python 3.3,and in 3.9 it will stop working\n",
            "  from collections import Iterable\n"
          ]
        }
      ],
      "source": [
        "!pip install pyLDAvis\n",
        "!pip install textstat\n",
        "import pandas as pd\n",
        "import numpy as np\n",
        "import matplotlib.pyplot as plt\n",
        "import nltk\n",
        "import seaborn as sns\n",
        "import sklearn\n",
        "import gensim\n",
        "import pyLDAvis\n",
        "import wordcloud\n",
        "import textblob\n",
        "import spacy\n",
        "import textstat"
      ]
    },
    {
      "cell_type": "code",
      "source": [
        "from google.colab import files\n",
        "uploaded = files.upload()\n",
        "\n",
        "data = pd.read_csv('rtom2.csv')\n",
        "\n",
        "tomatoes = data.dropna()\n",
        "tomatoes.reset_index(inplace=True)\n",
        "print(tomatoes.shape)\n",
        "print(tomatoes.head())\n",
        "\n",
        "\n"
      ],
      "metadata": {
        "colab": {
          "base_uri": "https://localhost:8080/",
          "height": 437
        },
        "id": "cYuFOMxrgGg8",
        "outputId": "94b04bb5-5ac7-4292-8a91-24a6f14c9a37"
      },
      "execution_count": 6,
      "outputs": [
        {
          "output_type": "display_data",
          "data": {
            "text/plain": [
              "<IPython.core.display.HTML object>"
            ],
            "text/html": [
              "\n",
              "     <input type=\"file\" id=\"files-b1604fec-cb1e-4e19-9eaf-bdcb5d2c6d99\" name=\"files[]\" multiple disabled\n",
              "        style=\"border:none\" />\n",
              "     <output id=\"result-b1604fec-cb1e-4e19-9eaf-bdcb5d2c6d99\">\n",
              "      Upload widget is only available when the cell has been executed in the\n",
              "      current browser session. Please rerun this cell to enable.\n",
              "      </output>\n",
              "      <script>// Copyright 2017 Google LLC\n",
              "//\n",
              "// Licensed under the Apache License, Version 2.0 (the \"License\");\n",
              "// you may not use this file except in compliance with the License.\n",
              "// You may obtain a copy of the License at\n",
              "//\n",
              "//      http://www.apache.org/licenses/LICENSE-2.0\n",
              "//\n",
              "// Unless required by applicable law or agreed to in writing, software\n",
              "// distributed under the License is distributed on an \"AS IS\" BASIS,\n",
              "// WITHOUT WARRANTIES OR CONDITIONS OF ANY KIND, either express or implied.\n",
              "// See the License for the specific language governing permissions and\n",
              "// limitations under the License.\n",
              "\n",
              "/**\n",
              " * @fileoverview Helpers for google.colab Python module.\n",
              " */\n",
              "(function(scope) {\n",
              "function span(text, styleAttributes = {}) {\n",
              "  const element = document.createElement('span');\n",
              "  element.textContent = text;\n",
              "  for (const key of Object.keys(styleAttributes)) {\n",
              "    element.style[key] = styleAttributes[key];\n",
              "  }\n",
              "  return element;\n",
              "}\n",
              "\n",
              "// Max number of bytes which will be uploaded at a time.\n",
              "const MAX_PAYLOAD_SIZE = 100 * 1024;\n",
              "\n",
              "function _uploadFiles(inputId, outputId) {\n",
              "  const steps = uploadFilesStep(inputId, outputId);\n",
              "  const outputElement = document.getElementById(outputId);\n",
              "  // Cache steps on the outputElement to make it available for the next call\n",
              "  // to uploadFilesContinue from Python.\n",
              "  outputElement.steps = steps;\n",
              "\n",
              "  return _uploadFilesContinue(outputId);\n",
              "}\n",
              "\n",
              "// This is roughly an async generator (not supported in the browser yet),\n",
              "// where there are multiple asynchronous steps and the Python side is going\n",
              "// to poll for completion of each step.\n",
              "// This uses a Promise to block the python side on completion of each step,\n",
              "// then passes the result of the previous step as the input to the next step.\n",
              "function _uploadFilesContinue(outputId) {\n",
              "  const outputElement = document.getElementById(outputId);\n",
              "  const steps = outputElement.steps;\n",
              "\n",
              "  const next = steps.next(outputElement.lastPromiseValue);\n",
              "  return Promise.resolve(next.value.promise).then((value) => {\n",
              "    // Cache the last promise value to make it available to the next\n",
              "    // step of the generator.\n",
              "    outputElement.lastPromiseValue = value;\n",
              "    return next.value.response;\n",
              "  });\n",
              "}\n",
              "\n",
              "/**\n",
              " * Generator function which is called between each async step of the upload\n",
              " * process.\n",
              " * @param {string} inputId Element ID of the input file picker element.\n",
              " * @param {string} outputId Element ID of the output display.\n",
              " * @return {!Iterable<!Object>} Iterable of next steps.\n",
              " */\n",
              "function* uploadFilesStep(inputId, outputId) {\n",
              "  const inputElement = document.getElementById(inputId);\n",
              "  inputElement.disabled = false;\n",
              "\n",
              "  const outputElement = document.getElementById(outputId);\n",
              "  outputElement.innerHTML = '';\n",
              "\n",
              "  const pickedPromise = new Promise((resolve) => {\n",
              "    inputElement.addEventListener('change', (e) => {\n",
              "      resolve(e.target.files);\n",
              "    });\n",
              "  });\n",
              "\n",
              "  const cancel = document.createElement('button');\n",
              "  inputElement.parentElement.appendChild(cancel);\n",
              "  cancel.textContent = 'Cancel upload';\n",
              "  const cancelPromise = new Promise((resolve) => {\n",
              "    cancel.onclick = () => {\n",
              "      resolve(null);\n",
              "    };\n",
              "  });\n",
              "\n",
              "  // Wait for the user to pick the files.\n",
              "  const files = yield {\n",
              "    promise: Promise.race([pickedPromise, cancelPromise]),\n",
              "    response: {\n",
              "      action: 'starting',\n",
              "    }\n",
              "  };\n",
              "\n",
              "  cancel.remove();\n",
              "\n",
              "  // Disable the input element since further picks are not allowed.\n",
              "  inputElement.disabled = true;\n",
              "\n",
              "  if (!files) {\n",
              "    return {\n",
              "      response: {\n",
              "        action: 'complete',\n",
              "      }\n",
              "    };\n",
              "  }\n",
              "\n",
              "  for (const file of files) {\n",
              "    const li = document.createElement('li');\n",
              "    li.append(span(file.name, {fontWeight: 'bold'}));\n",
              "    li.append(span(\n",
              "        `(${file.type || 'n/a'}) - ${file.size} bytes, ` +\n",
              "        `last modified: ${\n",
              "            file.lastModifiedDate ? file.lastModifiedDate.toLocaleDateString() :\n",
              "                                    'n/a'} - `));\n",
              "    const percent = span('0% done');\n",
              "    li.appendChild(percent);\n",
              "\n",
              "    outputElement.appendChild(li);\n",
              "\n",
              "    const fileDataPromise = new Promise((resolve) => {\n",
              "      const reader = new FileReader();\n",
              "      reader.onload = (e) => {\n",
              "        resolve(e.target.result);\n",
              "      };\n",
              "      reader.readAsArrayBuffer(file);\n",
              "    });\n",
              "    // Wait for the data to be ready.\n",
              "    let fileData = yield {\n",
              "      promise: fileDataPromise,\n",
              "      response: {\n",
              "        action: 'continue',\n",
              "      }\n",
              "    };\n",
              "\n",
              "    // Use a chunked sending to avoid message size limits. See b/62115660.\n",
              "    let position = 0;\n",
              "    do {\n",
              "      const length = Math.min(fileData.byteLength - position, MAX_PAYLOAD_SIZE);\n",
              "      const chunk = new Uint8Array(fileData, position, length);\n",
              "      position += length;\n",
              "\n",
              "      const base64 = btoa(String.fromCharCode.apply(null, chunk));\n",
              "      yield {\n",
              "        response: {\n",
              "          action: 'append',\n",
              "          file: file.name,\n",
              "          data: base64,\n",
              "        },\n",
              "      };\n",
              "\n",
              "      let percentDone = fileData.byteLength === 0 ?\n",
              "          100 :\n",
              "          Math.round((position / fileData.byteLength) * 100);\n",
              "      percent.textContent = `${percentDone}% done`;\n",
              "\n",
              "    } while (position < fileData.byteLength);\n",
              "  }\n",
              "\n",
              "  // All done.\n",
              "  yield {\n",
              "    response: {\n",
              "      action: 'complete',\n",
              "    }\n",
              "  };\n",
              "}\n",
              "\n",
              "scope.google = scope.google || {};\n",
              "scope.google.colab = scope.google.colab || {};\n",
              "scope.google.colab._files = {\n",
              "  _uploadFiles,\n",
              "  _uploadFilesContinue,\n",
              "};\n",
              "})(self);\n",
              "</script> "
            ]
          },
          "metadata": {}
        },
        {
          "output_type": "stream",
          "name": "stdout",
          "text": [
            "Saving rtom2.csv to rtom2 (1).csv\n",
            "(9508, 9)\n",
            "   index rotten_tomatoes_link  top_critic  T_C           publisher_name  \\\n",
            "0      0            m/0814255       False    0           Urban Cinefile   \n",
            "1      1            m/0814255       False    0      FILMINK (Australia)   \n",
            "2      2            m/0814255       False    0  Sunday Mail (Australia)   \n",
            "3      3            m/0814255        True    1       Hollywood Reporter   \n",
            "4      4            m/0814255        True    1         Associated Press   \n",
            "\n",
            "  review_type  Review_Type review_date  \\\n",
            "0       Fresh            1    2/6/2010   \n",
            "1       Fresh            1    2/9/2010   \n",
            "2       Fresh            1    2/9/2010   \n",
            "3      Rotten            0   2/10/2010   \n",
            "4      Rotten            0   2/10/2010   \n",
            "\n",
            "                                      review_content  \n",
            "0  Uma Thurman as Medusa, the gorgon with a coiff...  \n",
            "1  With a top-notch cast and dazzling special eff...  \n",
            "2  Whether audiences will get behind The Lightnin...  \n",
            "3  What's really lacking in The Lightning Thief i...  \n",
            "4  It's more a list of ingredients than a movie-m...  \n"
          ]
        }
      ]
    },
    {
      "cell_type": "code",
      "source": [
        "selections1 = ['Review_Type', 'review_content']\n",
        "selections2 = ['T_C', 'review_content']\n",
        "X = tomatoes[selections1].copy()\n",
        "X2 = tomatoes[selections2].copy()\n",
        "y = tomatoes.pop('Review_Type')\n",
        "y2 = tomatoes.pop('T_C')"
      ],
      "metadata": {
        "id": "ikznbLxVnxRy"
      },
      "execution_count": 7,
      "outputs": []
    },
    {
      "cell_type": "code",
      "source": [
        "import matplotlib.pyplot as plt\n",
        "plt.hist(y)\n",
        "plt"
      ],
      "metadata": {
        "colab": {
          "base_uri": "https://localhost:8080/",
          "height": 284
        },
        "id": "e-PIr-u3oT4i",
        "outputId": "074731ca-3abd-44ae-bd9d-25fb8e59724f"
      },
      "execution_count": 8,
      "outputs": [
        {
          "output_type": "execute_result",
          "data": {
            "text/plain": [
              "<module 'matplotlib.pyplot' from '/usr/local/lib/python3.7/dist-packages/matplotlib/pyplot.py'>"
            ]
          },
          "metadata": {},
          "execution_count": 8
        },
        {
          "output_type": "display_data",
          "data": {
            "text/plain": [
              "<Figure size 432x288 with 1 Axes>"
            ],
            "image/png": "[encoded data removed]"
          },
          "metadata": {
            "needs_background": "light"
          }
        }
      ]
    },
    {
      "cell_type": "code",
      "source": [
        "import numpy as np\n",
        "y_num = np.asarray(y)\n",
        "unique, counts = np.unique(y_num, return_counts=True)\n",
        "print(f\"Count of 0 = Rotten and 1 = Fresh: {dict(zip(unique, counts))}\") "
      ],
      "metadata": {
        "id": "7nyqdPRR91WO",
        "outputId": "813f8e98-d8c3-471b-c2e9-13e4fe36ac15",
        "colab": {
          "base_uri": "https://localhost:8080/"
        }
      },
      "execution_count": 9,
      "outputs": [
        {
          "output_type": "stream",
          "name": "stdout",
          "text": [
            "Count of 0 = Rotten and 1 = Fresh: {0: 4684, 1: 4824}\n"
          ]
        }
      ]
    },
    {
      "cell_type": "code",
      "source": [
        "import matplotlib.pyplot as plt\n",
        "plt.hist(y2)\n",
        "plt"
      ],
      "metadata": {
        "id": "dkkJTgnp9oae",
        "outputId": "ad0b7770-0d2f-4be4-e6e1-dbc4269aa5a4",
        "colab": {
          "base_uri": "https://localhost:8080/",
          "height": 282
        }
      },
      "execution_count": 10,
      "outputs": [
        {
          "output_type": "execute_result",
          "data": {
            "text/plain": [
              "<module 'matplotlib.pyplot' from '/usr/local/lib/python3.7/dist-packages/matplotlib/pyplot.py'>"
            ]
          },
          "metadata": {},
          "execution_count": 10
        },
        {
          "output_type": "display_data",
          "data": {
            "text/plain": [
              "<Figure size 432x288 with 1 Axes>"
            ],
            "image/png": "[encoded data removed]"
          },
          "metadata": {
            "needs_background": "light"
          }
        }
      ]
    },
    {
      "cell_type": "code",
      "source": [
        "import numpy as np\n",
        "y_num = np.asarray(y2)\n",
        "unique, counts = np.unique(y_num, return_counts=True)\n",
        "print(f\"Count of 0 = Not Top Critic and 1 = Top Critic: {dict(zip(unique, counts))}\") "
      ],
      "metadata": {
        "colab": {
          "base_uri": "https://localhost:8080/"
        },
        "id": "-d-8_MdUokIg",
        "outputId": "df4463ce-40f7-42bc-e54d-f03cc5a2f102"
      },
      "execution_count": 11,
      "outputs": [
        {
          "output_type": "stream",
          "name": "stdout",
          "text": [
            "Count of 0 = Not Top Critic and 1 = Top Critic: {0: 6587, 1: 2921}\n"
          ]
        }
      ]
    },
    {
      "cell_type": "code",
      "source": [
        "X['review_content'].str.len().hist()"
      ],
      "metadata": {
        "colab": {
          "base_uri": "https://localhost:8080/",
          "height": 283
        },
        "id": "9YHFimlBopoM",
        "outputId": "e084fc9a-a095-4590-fd7c-48485f33028f"
      },
      "execution_count": 12,
      "outputs": [
        {
          "output_type": "execute_result",
          "data": {
            "text/plain": [
              "<matplotlib.axes._subplots.AxesSubplot at 0x7eff69745b50>"
            ]
          },
          "metadata": {},
          "execution_count": 12
        },
        {
          "output_type": "display_data",
          "data": {
            "text/plain": [
              "<Figure size 432x288 with 1 Axes>"
            ],
            "image/png": "[encoded data removed]"
          },
          "metadata": {
            "needs_background": "light"
          }
        }
      ]
    },
    {
      "cell_type": "markdown",
      "source": [
        "This shows the average length of a review is ~130 characters"
      ],
      "metadata": {
        "id": "7V3EgCv3oxzO"
      }
    },
    {
      "cell_type": "code",
      "source": [
        "def plot_word_number_histogram(text):\n",
        "    text.str.split().\\\n",
        "        map(lambda x: len(x)).\\\n",
        "        hist()\n",
        "plot_word_number_histogram(X['review_content'])"
      ],
      "metadata": {
        "colab": {
          "base_uri": "https://localhost:8080/",
          "height": 265
        },
        "id": "iRbMHT5dpAVF",
        "outputId": "fdb1ab07-002c-4a28-d044-b4845c2b1f1b"
      },
      "execution_count": 13,
      "outputs": [
        {
          "output_type": "display_data",
          "data": {
            "text/plain": [
              "<Figure size 432x288 with 1 Axes>"
            ],
            "image/png": "[encoded data removed]"
          },
          "metadata": {
            "needs_background": "light"
          }
        }
      ]
    },
    {
      "cell_type": "markdown",
      "source": [
        "This shows the average number of words per review to be ~20"
      ],
      "metadata": {
        "id": "wYVP2qw-pHN1"
      }
    },
    {
      "cell_type": "markdown",
      "source": [
        "#Below we will tokenize and remove characters and stopwords."
      ],
      "metadata": {
        "id": "bZQXr2pHp_Pc"
      }
    },
    {
      "cell_type": "code",
      "source": [
        "import nltk\n",
        "from nltk.corpus import stopwords\n",
        "\n",
        "nltk.download('stopwords')\n",
        "stop = set(stopwords.words('english'))\n",
        "corpus = []\n",
        "new = X['review_content'].str.split()\n",
        "new = new.values.tolist()\n",
        "corpus = [word for i in new for word in i]"
      ],
      "metadata": {
        "colab": {
          "base_uri": "https://localhost:8080/"
        },
        "id": "wfvRGQHQpf7Z",
        "outputId": "956f4728-1e73-4a05-a39a-bdabfc3de760"
      },
      "execution_count": 14,
      "outputs": [
        {
          "output_type": "stream",
          "name": "stderr",
          "text": [
            "[nltk_data] Downloading package stopwords to /root/nltk_data...\n",
            "[nltk_data]   Package stopwords is already up-to-date!\n"
          ]
        }
      ]
    },
    {
      "cell_type": "code",
      "source": [
        "from collections import defaultdict\n",
        "\n",
        "dic = defaultdict(int)\n",
        "for word in corpus:\n",
        "    if word in stop:\n",
        "        dic[word] += 1"
      ],
      "metadata": {
        "id": "nf0KpnGjpiiC"
      },
      "execution_count": 15,
      "outputs": []
    },
    {
      "cell_type": "code",
      "source": [
        "from nltk.tokenize import TreebankWordTokenizer\n",
        "\n",
        "twt = TreebankWordTokenizer()\n",
        "X['tokens_raw'] = X['review_content'].apply(lambda x: twt.tokenize(x.lower()))\n",
        "chars2remove = set(\n",
        "    ['.', '!', '/', '?', ',', '@', '#', '$', '%', '^', '&', '*', '_', '-', '~', 'The', 'A', '`', '+', \"'\", '\"', '--',\n",
        "     '[', ']',\n",
        "     \"'s\", \"n't\"])\n",
        "X['tokens_raw'] = X['tokens_raw'].apply(lambda x: [w for w in x if w not in chars2remove and w not in stop])\n",
        "pd.set_option(\"display.max_colwidth\", 300)\n",
        "X_tRaw = X['tokens_raw'].apply(lambda x: [w for w in x if w not in chars2remove and w not in stop])\n",
        "Xtclean = X_tRaw.apply(lambda x: ' '.join(x))\n",
        "Xtclean.head()"
      ],
      "metadata": {
        "colab": {
          "base_uri": "https://localhost:8080/"
        },
        "id": "PrdFTvyxplHj",
        "outputId": "9808cc6d-540b-4088-bfc5-6f3e918008ef"
      },
      "execution_count": 16,
      "outputs": [
        {
          "output_type": "execute_result",
          "data": {
            "text/plain": [
              "0                                          uma thurman medusa gorgon coiffure writhing snakes stone-inducing hypnotic gaze one highlights bewitching fantasy\n",
              "1                                                                            top-notch cast dazzling special effects tide teens next harry potter instalment\n",
              "2    whether audiences get behind lightning thief hard predict. overall entertaining introduction promising new world consuming shadow potter big break free\n",
              "3                                                                     really lacking lightning thief genuine sense wonder thing brings viewers back hogwarts\n",
              "4                                                                                                     list ingredients movie-magic potion enjoy start finish\n",
              "Name: tokens_raw, dtype: object"
            ]
          },
          "metadata": {},
          "execution_count": 16
        }
      ]
    },
    {
      "cell_type": "code",
      "source": [
        "import seaborn as sns\n",
        "from nltk.corpus import stopwords\n",
        "from collections import  Counter\n",
        "\n",
        "def plot_top_non_stopwords_barchart(text):\n",
        "    stop=set(stopwords.words('english'))\n",
        "    chars2remove = set(\n",
        "    ['.', '!', '/', '?', ',', '@', '#', '$', '%', '^', '&', '*', '_', '-', '~', 'The', 'A', '`', '+', \"'\", '\"', '--',\n",
        "     '[', ']',\n",
        "     \"'s\", \"n't\"])\n",
        "    #X_train['tokens_raw'] = X_train['tokens_raw'].apply(lambda x: [w for w in x if w not in chars2remove])\n",
        "    new= text.str.split()\n",
        "    new=new.values.tolist()\n",
        "    corpus=[word for i in new for word in i]\n",
        "\n",
        "    counter=Counter(corpus)\n",
        "    most=counter.most_common()\n",
        "    x, y=[], []\n",
        "    for word,count in most[:80]:\n",
        "        if (word not in stop and word != 'The' and word != 'A' and word != chars2remove):\n",
        "            x.append(word)\n",
        "            y.append(count)\n",
        "            \n",
        "    sns.barplot(x=y,y=x)"
      ],
      "metadata": {
        "id": "oXWpVxGxps03"
      },
      "execution_count": 17,
      "outputs": []
    },
    {
      "cell_type": "code",
      "source": [
        "plot_top_non_stopwords_barchart(X['review_content'])"
      ],
      "metadata": {
        "colab": {
          "base_uri": "https://localhost:8080/",
          "height": 265
        },
        "id": "FztqOSVHp3B5",
        "outputId": "6e7020c4-d9b9-4644-c14d-8e58dea78c22"
      },
      "execution_count": 18,
      "outputs": [
        {
          "output_type": "display_data",
          "data": {
            "text/plain": [
              "<Figure size 432x288 with 1 Axes>"
            ],
            "image/png": "[encoded data removed]"
          },
          "metadata": {
            "needs_background": "light"
          }
        }
      ]
    },
    {
      "cell_type": "markdown",
      "source": [
        "Here is a list of the most popular non-stopwords, film and movie the heavy hitters."
      ],
      "metadata": {
        "id": "Q6aBQMmhqH9u"
      }
    },
    {
      "cell_type": "code",
      "source": [
        "X.head()"
      ],
      "metadata": {
        "id": "7_WjOhSGyG8O",
        "outputId": "08e9fb49-e31e-4bdc-d33a-a8ec662f5e66",
        "colab": {
          "base_uri": "https://localhost:8080/",
          "height": 337
        }
      },
      "execution_count": 19,
      "outputs": [
        {
          "output_type": "execute_result",
          "data": {
            "text/plain": [
              "   Review_Type  \\\n",
              "0            1   \n",
              "1            1   \n",
              "2            1   \n",
              "3            0   \n",
              "4            0   \n",
              "\n",
              "                                                                                                                                                                                                          review_content  \\\n",
              "0                                                              Uma Thurman as Medusa, the gorgon with a coiffure of writhing snakes and stone-inducing hypnotic gaze is one of the highlights of this bewitching fantasy   \n",
              "1                                                                                              With a top-notch cast and dazzling special effects, this will tide the teens over until the next Harry Potter instalment.   \n",
              "2  Whether audiences will get behind The Lightning Thief is hard to predict. Overall, it's an entertaining introduction to a promising new world -- but will the consuming shadow of Potter be too big to break free of?   \n",
              "3                                                                    What's really lacking in The Lightning Thief is a genuine sense of wonder, the same thing that brings viewers back to Hogwarts over and over again.   \n",
              "4                                                                                                                               It's more a list of ingredients than a movie-magic potion to enjoy from start to finish.   \n",
              "\n",
              "                                                                                                                                                                     tokens_raw  \n",
              "0                                              [uma, thurman, medusa, gorgon, coiffure, writhing, snakes, stone-inducing, hypnotic, gaze, one, highlights, bewitching, fantasy]  \n",
              "1                                                                                   [top-notch, cast, dazzling, special, effects, tide, teens, next, harry, potter, instalment]  \n",
              "2  [whether, audiences, get, behind, lightning, thief, hard, predict., overall, entertaining, introduction, promising, new, world, consuming, shadow, potter, big, break, free]  \n",
              "3                                                                           [really, lacking, lightning, thief, genuine, sense, wonder, thing, brings, viewers, back, hogwarts]  \n",
              "4                                                                                                                [list, ingredients, movie-magic, potion, enjoy, start, finish]  "
            ],
            "text/html": [
              "\n",
              "  <div id=\"df-26b86fd8-1ca6-4384-ae91-9bb825354b31\">\n",
              "    <div class=\"colab-df-container\">\n",
              "      <div>\n",
              "<style scoped>\n",
              "    .dataframe tbody tr th:only-of-type {\n",
              "        vertical-align: middle;\n",
              "    }\n",
              "\n",
              "    .dataframe tbody tr th {\n",
              "        vertical-align: top;\n",
              "    }\n",
              "\n",
              "    .dataframe thead th {\n",
              "        text-align: right;\n",
              "    }\n",
              "</style>\n",
              "<table border=\"1\" class=\"dataframe\">\n",
              "  <thead>\n",
              "    <tr style=\"text-align: right;\">\n",
              "      <th></th>\n",
              "      <th>Review_Type</th>\n",
              "      <th>review_content</th>\n",
              "      <th>tokens_raw</th>\n",
              "    </tr>\n",
              "  </thead>\n",
              "  <tbody>\n",
              "    <tr>\n",
              "      <th>0</th>\n",
              "      <td>1</td>\n",
              "      <td>Uma Thurman as Medusa, the gorgon with a coiffure of writhing snakes and stone-inducing hypnotic gaze is one of the highlights of this bewitching fantasy</td>\n",
              "      <td>[uma, thurman, medusa, gorgon, coiffure, writhing, snakes, stone-inducing, hypnotic, gaze, one, highlights, bewitching, fantasy]</td>\n",
              "    </tr>\n",
              "    <tr>\n",
              "      <th>1</th>\n",
              "      <td>1</td>\n",
              "      <td>With a top-notch cast and dazzling special effects, this will tide the teens over until the next Harry Potter instalment.</td>\n",
              "      <td>[top-notch, cast, dazzling, special, effects, tide, teens, next, harry, potter, instalment]</td>\n",
              "    </tr>\n",
              "    <tr>\n",
              "      <th>2</th>\n",
              "      <td>1</td>\n",
              "      <td>Whether audiences will get behind The Lightning Thief is hard to predict. Overall, it's an entertaining introduction to a promising new world -- but will the consuming shadow of Potter be too big to break free of?</td>\n",
              "      <td>[whether, audiences, get, behind, lightning, thief, hard, predict., overall, entertaining, introduction, promising, new, world, consuming, shadow, potter, big, break, free]</td>\n",
              "    </tr>\n",
              "    <tr>\n",
              "      <th>3</th>\n",
              "      <td>0</td>\n",
              "      <td>What's really lacking in The Lightning Thief is a genuine sense of wonder, the same thing that brings viewers back to Hogwarts over and over again.</td>\n",
              "      <td>[really, lacking, lightning, thief, genuine, sense, wonder, thing, brings, viewers, back, hogwarts]</td>\n",
              "    </tr>\n",
              "    <tr>\n",
              "      <th>4</th>\n",
              "      <td>0</td>\n",
              "      <td>It's more a list of ingredients than a movie-magic potion to enjoy from start to finish.</td>\n",
              "      <td>[list, ingredients, movie-magic, potion, enjoy, start, finish]</td>\n",
              "    </tr>\n",
              "  </tbody>\n",
              "</table>\n",
              "</div>\n",
              "      <button class=\"colab-df-convert\" onclick=\"convertToInteractive('df-26b86fd8-1ca6-4384-ae91-9bb825354b31')\"\n",
              "              title=\"Convert this dataframe to an interactive table.\"\n",
              "              style=\"display:none;\">\n",
              "        \n",
              "  <svg xmlns=\"http://www.w3.org/2000/svg\" height=\"24px\"viewBox=\"0 0 24 24\"\n",
              "       width=\"24px\">\n",
              "    <path d=\"M0 0h24v24H0V0z\" fill=\"none\"/>\n",
              "    <path d=\"M18.56 5.44l.94 2.06.94-2.06 2.06-.94-2.06-.94-.94-2.06-.94 2.06-2.06.94zm-11 1L8.5 8.5l.94-2.06 2.06-.94-2.06-.94L8.5 2.5l-.94 2.06-2.06.94zm10 10l.94 2.06.94-2.06 2.06-.94-2.06-.94-.94-2.06-.94 2.06-2.06.94z\"/><path d=\"M17.41 7.96l-1.37-1.37c-.4-.4-.92-.59-1.43-.59-.52 0-1.04.2-1.43.59L10.3 9.45l-7.72 7.72c-.78.78-.78 2.05 0 2.83L4 21.41c.39.39.9.59 1.41.59.51 0 1.02-.2 1.41-.59l7.78-7.78 2.81-2.81c.8-.78.8-2.07 0-2.86zM5.41 20L4 18.59l7.72-7.72 1.47 1.35L5.41 20z\"/>\n",
              "  </svg>\n",
              "      </button>\n",
              "      \n",
              "  <style>\n",
              "    .colab-df-container {\n",
              "      display:flex;\n",
              "      flex-wrap:wrap;\n",
              "      gap: 12px;\n",
              "    }\n",
              "\n",
              "    .colab-df-convert {\n",
              "      background-color: #E8F0FE;\n",
              "      border: none;\n",
              "      border-radius: 50%;\n",
              "      cursor: pointer;\n",
              "      display: none;\n",
              "      fill: #1967D2;\n",
              "      height: 32px;\n",
              "      padding: 0 0 0 0;\n",
              "      width: 32px;\n",
              "    }\n",
              "\n",
              "    .colab-df-convert:hover {\n",
              "      background-color: #E2EBFA;\n",
              "      box-shadow: 0px 1px 2px rgba(60, 64, 67, 0.3), 0px 1px 3px 1px rgba(60, 64, 67, 0.15);\n",
              "      fill: #174EA6;\n",
              "    }\n",
              "\n",
              "    [theme=dark] .colab-df-convert {\n",
              "      background-color: #3B4455;\n",
              "      fill: #D2E3FC;\n",
              "    }\n",
              "\n",
              "    [theme=dark] .colab-df-convert:hover {\n",
              "      background-color: #434B5C;\n",
              "      box-shadow: 0px 1px 3px 1px rgba(0, 0, 0, 0.15);\n",
              "      filter: drop-shadow(0px 1px 2px rgba(0, 0, 0, 0.3));\n",
              "      fill: #FFFFFF;\n",
              "    }\n",
              "  </style>\n",
              "\n",
              "      <script>\n",
              "        const buttonEl =\n",
              "          document.querySelector('#df-26b86fd8-1ca6-4384-ae91-9bb825354b31 button.colab-df-convert');\n",
              "        buttonEl.style.display =\n",
              "          google.colab.kernel.accessAllowed ? 'block' : 'none';\n",
              "\n",
              "        async function convertToInteractive(key) {\n",
              "          const element = document.querySelector('#df-26b86fd8-1ca6-4384-ae91-9bb825354b31');\n",
              "          const dataTable =\n",
              "            await google.colab.kernel.invokeFunction('convertToInteractive',\n",
              "                                                     [key], {});\n",
              "          if (!dataTable) return;\n",
              "\n",
              "          const docLinkHtml = 'Like what you see? Visit the ' +\n",
              "            '<a target=\"_blank\" href=https://colab.research.google.com/notebooks/data_table.ipynb>data table notebook</a>'\n",
              "            + ' to learn more about interactive tables.';\n",
              "          element.innerHTML = '';\n",
              "          dataTable['output_type'] = 'display_data';\n",
              "          await google.colab.output.renderOutput(dataTable, element);\n",
              "          const docLink = document.createElement('div');\n",
              "          docLink.innerHTML = docLinkHtml;\n",
              "          element.appendChild(docLink);\n",
              "        }\n",
              "      </script>\n",
              "    </div>\n",
              "  </div>\n",
              "  "
            ]
          },
          "metadata": {},
          "execution_count": 19
        }
      ]
    },
    {
      "cell_type": "code",
      "source": [
        "XFresh = X[  X['Review_Type'] == 1 ]\n",
        "Xrottn = X[  X['Review_Type'] == 0 ]\n",
        "XTop   = X2[  X2['T_C'] == 1 ]\n",
        "XNTop  = X2[  X2['T_C'] == 0 ]"
      ],
      "metadata": {
        "id": "gPA8nSXmqU_p"
      },
      "execution_count": 20,
      "outputs": []
    },
    {
      "cell_type": "markdown",
      "source": [
        "Now lets split the data into Fresh and Rotten reviews, and also take a look at the Top Critic or not Top Critic column's bywords."
      ],
      "metadata": {
        "id": "V-50q9MotyBx"
      }
    },
    {
      "cell_type": "code",
      "source": [
        "from sklearn.feature_extraction.text import CountVectorizer\n",
        "from nltk.util import ngrams\n",
        "def plot_top_ngrams_barchart(text, n=2):\n",
        "    stop=set(stopwords.words('english'))\n",
        "\n",
        "    new= text.str.split()\n",
        "    new=new.values.tolist()\n",
        "    corpus=[word for i in new for word in i]\n",
        "\n",
        "    def _get_top_ngram(corpus, n=None):\n",
        "        vec = CountVectorizer(ngram_range=(n, n)).fit(corpus)\n",
        "        bag_of_words = vec.transform(corpus)\n",
        "        sum_words = bag_of_words.sum(axis=0) \n",
        "        words_freq = [(word, sum_words[0, idx]) \n",
        "                      for word, idx in vec.vocabulary_.items()]\n",
        "        words_freq =sorted(words_freq, key = lambda x: x[1], reverse=True)\n",
        "        return words_freq[:30]\n",
        "\n",
        "    top_n_bigrams=_get_top_ngram(text,n)[:30]\n",
        "    x,y=map(list,zip(*top_n_bigrams))\n",
        "    sns.barplot(x=y,y=x)\n",
        "\n",
        "plot_top_ngrams_barchart(XFresh['review_content'],4)"
      ],
      "metadata": {
        "colab": {
          "base_uri": "https://localhost:8080/",
          "height": 266
        },
        "id": "VT-cG3yDsRJ8",
        "outputId": "7bbaa273-4b9a-422e-9a8b-cbb2b1fbc99d"
      },
      "execution_count": 21,
      "outputs": [
        {
          "output_type": "display_data",
          "data": {
            "text/plain": [
              "<Figure size 432x288 with 1 Axes>"
            ],
            "image/png": "[encoded data removed]"
          },
          "metadata": {
            "needs_background": "light"
          }
        }
      ]
    },
    {
      "cell_type": "code",
      "source": [
        "plot_top_ngrams_barchart(Xrottn['review_content'],4)"
      ],
      "metadata": {
        "colab": {
          "base_uri": "https://localhost:8080/",
          "height": 266
        },
        "id": "BzHlmAiDtHa8",
        "outputId": "ebcbda09-f98c-477a-ab5f-d1a301e7bbbd"
      },
      "execution_count": 35,
      "outputs": [
        {
          "output_type": "display_data",
          "data": {
            "text/plain": [
              "<Figure size 432x288 with 1 Axes>"
            ],
            "image/png": "[encoded data removed]"
          },
          "metadata": {
            "needs_background": "light"
          }
        }
      ]
    },
    {
      "cell_type": "code",
      "source": [
        "plot_top_ngrams_barchart(XTop['review_content'],4)"
      ],
      "metadata": {
        "colab": {
          "base_uri": "https://localhost:8080/",
          "height": 266
        },
        "id": "ziKULmN8tYMw",
        "outputId": "4659882c-bf0a-467b-c57f-36ce9f7d1865"
      },
      "execution_count": 36,
      "outputs": [
        {
          "output_type": "display_data",
          "data": {
            "text/plain": [
              "<Figure size 432x288 with 1 Axes>"
            ],
            "image/png": "[encoded data removed]"
          },
          "metadata": {
            "needs_background": "light"
          }
        }
      ]
    },
    {
      "cell_type": "code",
      "source": [
        "plot_top_ngrams_barchart(XNTop['review_content'],4)"
      ],
      "metadata": {
        "colab": {
          "base_uri": "https://localhost:8080/",
          "height": 266
        },
        "id": "apaF48qhtaGo",
        "outputId": "cc125f84-2d51-4fa5-c23a-990ac4e0f90a"
      },
      "execution_count": 37,
      "outputs": [
        {
          "output_type": "display_data",
          "data": {
            "text/plain": [
              "<Figure size 432x288 with 1 Axes>"
            ],
            "image/png": "[encoded data removed]"
          },
          "metadata": {
            "needs_background": "light"
          }
        }
      ]
    },
    {
      "cell_type": "markdown",
      "source": [
        "The results are very odd, \"body of lies\", \"land of the lost\", this leads me to believe that this dataset is very biased towards a certian few movies, this will need to be investivated further. "
      ],
      "metadata": {
        "id": "WKqIYpTyuSIR"
      }
    },
    {
      "cell_type": "code",
      "source": [
        "from textblob import TextBlob\n",
        "    \n",
        "def plot_polarity_histogram(text):\n",
        "    \n",
        "    def _polarity(text):\n",
        "        return TextBlob(text).sentiment.polarity\n",
        "        \n",
        "    polarity_score =text.apply(lambda x : _polarity(x))\n",
        "    polarity_score.hist()\n",
        "\n",
        "plot_polarity_histogram(X['review_content'])"
      ],
      "metadata": {
        "colab": {
          "base_uri": "https://localhost:8080/",
          "height": 266
        },
        "id": "qOItmV39vMGZ",
        "outputId": "dcd0d22f-456b-4dd0-d838-7598e41a7ba3"
      },
      "execution_count": 22,
      "outputs": [
        {
          "output_type": "display_data",
          "data": {
            "text/plain": [
              "<Figure size 432x288 with 1 Axes>"
            ],
            "image/png": "[encoded data removed]"
          },
          "metadata": {
            "needs_background": "light"
          }
        }
      ]
    },
    {
      "cell_type": "markdown",
      "source": [
        "As can be seen from the above polarity plot, these reviews are slightly polarizing."
      ],
      "metadata": {
        "id": "O2wHwIrEvVIC"
      }
    },
    {
      "cell_type": "code",
      "source": [
        "plot_polarity_histogram(XFresh['review_content'])"
      ],
      "metadata": {
        "colab": {
          "base_uri": "https://localhost:8080/",
          "height": 265
        },
        "id": "6CUkJAFPvs8m",
        "outputId": "353d443f-53a2-4123-a64d-f79574463fd2"
      },
      "execution_count": 39,
      "outputs": [
        {
          "output_type": "display_data",
          "data": {
            "text/plain": [
              "<Figure size 432x288 with 1 Axes>"
            ],
            "image/png": "[encoded data removed]"
          },
          "metadata": {
            "needs_background": "light"
          }
        }
      ]
    },
    {
      "cell_type": "code",
      "source": [
        "plot_polarity_histogram(Xrottn['review_content'])"
      ],
      "metadata": {
        "colab": {
          "base_uri": "https://localhost:8080/",
          "height": 265
        },
        "id": "0waGbW3Mv0QZ",
        "outputId": "7cd79d7d-501a-4524-e8d6-e9b07cc8c55d"
      },
      "execution_count": 40,
      "outputs": [
        {
          "output_type": "display_data",
          "data": {
            "text/plain": [
              "<Figure size 432x288 with 1 Axes>"
            ],
            "image/png": "[encoded data removed]"
          },
          "metadata": {
            "needs_background": "light"
          }
        }
      ]
    },
    {
      "cell_type": "code",
      "source": [
        "plot_polarity_histogram(XTop['review_content'])"
      ],
      "metadata": {
        "colab": {
          "base_uri": "https://localhost:8080/",
          "height": 265
        },
        "id": "rCKMAJ3fv6Gr",
        "outputId": "10274523-addc-400e-ac5d-b12f65429df0"
      },
      "execution_count": 41,
      "outputs": [
        {
          "output_type": "display_data",
          "data": {
            "text/plain": [
              "<Figure size 432x288 with 1 Axes>"
            ],
            "image/png": "[encoded data removed]"
          },
          "metadata": {
            "needs_background": "light"
          }
        }
      ]
    },
    {
      "cell_type": "code",
      "source": [
        "plot_polarity_histogram(XNTop['review_content'])"
      ],
      "metadata": {
        "colab": {
          "base_uri": "https://localhost:8080/",
          "height": 265
        },
        "id": "0zQGhAx2v7L4",
        "outputId": "4832b472-33f3-4d39-8518-c13e5fb02156"
      },
      "execution_count": 42,
      "outputs": [
        {
          "output_type": "display_data",
          "data": {
            "text/plain": [
              "<Figure size 432x288 with 1 Axes>"
            ],
            "image/png": "[encoded data removed]"
          },
          "metadata": {
            "needs_background": "light"
          }
        }
      ]
    },
    {
      "cell_type": "markdown",
      "source": [
        "Interestingly enough the Fresh reviews are showing as more polarizing than the Rotten reviews, while Top Critic or its complement are not registering a difference."
      ],
      "metadata": {
        "id": "uoJW_xccwPi5"
      }
    },
    {
      "cell_type": "markdown",
      "source": [
        "Now lets split the data, vectorize, then create a onehot encoding and put it through a quick and dirty model; lets use a Random Forest."
      ],
      "metadata": {
        "id": "mzCV3CSbwwUo"
      }
    },
    {
      "cell_type": "code",
      "source": [
        "from sklearn.model_selection import train_test_split\n",
        "X_train, X_val, y_train, y_val = train_test_split(Xtclean, y, train_size=0.80, random_state=1)"
      ],
      "metadata": {
        "id": "fctLf4kX_QI0"
      },
      "execution_count": 23,
      "outputs": []
    },
    {
      "cell_type": "code",
      "source": [
        "from sklearn.feature_extraction.text import TfidfVectorizer\n",
        "\n",
        "tfidf_vect = TfidfVectorizer()\n",
        "Xtrain_hot = tfidf_vect.fit_transform(X_train).toarray()\n",
        "Xval_hot = tfidf_vect.transform(X_val).toarray()\n",
        "print(Xtrain_hot[:3, :5])"
      ],
      "metadata": {
        "colab": {
          "base_uri": "https://localhost:8080/"
        },
        "id": "YnAa-MrZwfvo",
        "outputId": "4786d423-04a9-4b0f-e7c7-0ee3627670f1"
      },
      "execution_count": 24,
      "outputs": [
        {
          "output_type": "stream",
          "name": "stdout",
          "text": [
            "[[0. 0. 0. 0. 0.]\n",
            " [0. 0. 0. 0. 0.]\n",
            " [0. 0. 0. 0. 0.]]\n"
          ]
        }
      ]
    },
    {
      "cell_type": "code",
      "source": [
        "import torch\n",
        "Xtrain_tense = torch.tensor(Xtrain_hot).float()\n",
        "Xval_tense = torch.tensor(Xval_hot).float()\n",
        "print(Xtrain_tense.shape)\n",
        "print(X_train.shape)\n",
        "print(Xval_tense.shape)\n",
        "print(X_val.shape)"
      ],
      "metadata": {
        "colab": {
          "base_uri": "https://localhost:8080/"
        },
        "id": "WUeoySB-w7vD",
        "outputId": "8409971c-49ed-4a4b-bc91-9530ca735297"
      },
      "execution_count": 25,
      "outputs": [
        {
          "output_type": "stream",
          "name": "stdout",
          "text": [
            "torch.Size([7606, 16569])\n",
            "(7606,)\n",
            "torch.Size([1902, 16569])\n",
            "(1902,)\n"
          ]
        }
      ]
    },
    {
      "cell_type": "markdown",
      "source": [
        "Now I will run it through the Random Forest portion of a Classification Class."
      ],
      "metadata": {
        "id": "LBkOkNplx6c7"
      }
    },
    {
      "cell_type": "code",
      "source": [
        "class Classification:\n",
        "    def __init__(self, X, y):\n",
        "        self.X = X\n",
        "        self.y = y\n",
        "\n",
        "\n",
        "class RandomForest(Classification):\n",
        "    def __init__(self, X, y):\n",
        "        super().__init__(X, y)\n",
        "\n",
        "    def rForestClass(self, Xval, yval, n):\n",
        "        from sklearn.ensemble import RandomForestClassifier\n",
        "        import matplotlib.pyplot as plt\n",
        "        from sklearn import metrics\n",
        "        from sklearn.metrics import confusion_matrix, ConfusionMatrixDisplay, accuracy_score\n",
        "        # fig, axs = plt.subplots(nrows=1, ncols=2)\n",
        "        clf = RandomForestClassifier(n_estimators=n)\n",
        "        clf.fit(self.X, self.y)\n",
        "        y_pred = clf.predict(self.X)\n",
        "        print(\"RF Accuracy on Training Data: \", metrics.accuracy_score(self.y, y_pred) * 100, \"%\")\n",
        "        display = ConfusionMatrixDisplay(confusion_matrix(self.y, y_pred), display_labels=['True', 'False'])\n",
        "        display.plot()\n",
        "        plt.title('Training')\n",
        "        predictions = clf.predict(Xval)\n",
        "        print(\"RF Accuracy on Validation Data: \", metrics.accuracy_score(yval, predictions) * 100, \"%\")\n",
        "        display2 = ConfusionMatrixDisplay(confusion_matrix(yval, predictions), display_labels=['True', 'False'])\n",
        "        display2.plot()\n",
        "        plt.title('Validation')\n",
        "        plt.show()\n",
        "\n"
      ],
      "metadata": {
        "id": "tfBVvbUGxXar"
      },
      "execution_count": 26,
      "outputs": []
    },
    {
      "cell_type": "code",
      "source": [
        "rf = RandomForest(Xtrain_tense, y_train)\n",
        "rf.rForestClass(Xval_tense, y_val, 2)"
      ],
      "metadata": {
        "colab": {
          "base_uri": "https://localhost:8080/",
          "height": 608
        },
        "id": "gZ1fQEaZyJcZ",
        "outputId": "928b5aaf-8643-4f15-b263-f960c0b26d63"
      },
      "execution_count": 47,
      "outputs": [
        {
          "output_type": "stream",
          "name": "stdout",
          "text": [
            "RF Accuracy on Training Data:  84.51222718906126 %\n",
            "RF Accuracy on Validation Data:  59.358569926393265 %\n"
          ]
        },
        {
          "output_type": "display_data",
          "data": {
            "text/plain": [
              "<Figure size 432x288 with 2 Axes>"
            ],
            "image/png": "[encoded data removed]"
          },
          "metadata": {
            "needs_background": "light"
          }
        },
        {
          "output_type": "display_data",
          "data": {
            "text/plain": [
              "<Figure size 432x288 with 2 Axes>"
            ],
            "image/png": "[encoded data removed]"
          },
          "metadata": {
            "needs_background": "light"
          }
        }
      ]
    },
    {
      "cell_type": "markdown",
      "source": [
        "Wow, 84 percent accuracy, and just with 2 estimators, but this was the training data, we can see the validation data was much worse at only 61% (but still better than a coin flip)."
      ],
      "metadata": {
        "id": "T1x7Dn7Oykd6"
      }
    },
    {
      "cell_type": "code",
      "source": [
        "rf.rForestClass(Xval_tense, y_val, 20)"
      ],
      "metadata": {
        "colab": {
          "base_uri": "https://localhost:8080/",
          "height": 608
        },
        "id": "FgDNhjN-yxRs",
        "outputId": "8aa7f738-c287-4f2a-ea6e-ad188872f2af"
      },
      "execution_count": 48,
      "outputs": [
        {
          "output_type": "stream",
          "name": "stdout",
          "text": [
            "RF Accuracy on Training Data:  99.64501709176966 %\n",
            "RF Accuracy on Validation Data:  68.08622502628812 %\n"
          ]
        },
        {
          "output_type": "display_data",
          "data": {
            "text/plain": [
              "<Figure size 432x288 with 2 Axes>"
            ],
            "image/png": "[encoded data removed]"
          },
          "metadata": {
            "needs_background": "light"
          }
        },
        {
          "output_type": "display_data",
          "data": {
            "text/plain": [
              "<Figure size 432x288 with 2 Axes>"
            ],
            "image/png": "[encoded data removed]"
          },
          "metadata": {
            "needs_background": "light"
          }
        }
      ]
    },
    {
      "cell_type": "markdown",
      "source": [
        "Now we have 99% on the training data, but the validation is still far below at 69%. "
      ],
      "metadata": {
        "id": "4PhlBq1QzQtq"
      }
    },
    {
      "cell_type": "code",
      "source": [
        "import keras\n",
        "from keras.models import Sequential\n",
        "from keras.layers import Dense, Dropout, Flatten\n"
      ],
      "metadata": {
        "id": "8kLn-SFir88g"
      },
      "execution_count": 27,
      "outputs": []
    },
    {
      "cell_type": "code",
      "source": [
        "import torch\n",
        "import tensorflow as tf\n",
        "nptrain_tensor = Xtrain_tense.numpy()\n",
        "npval_tensor = Xval_tense.numpy()\n",
        "Xtftrain_tensor = tf.convert_to_tensor(nptrain_tensor)\n",
        "Xtfval_tensor = tf.convert_to_tensor(npval_tensor)\n",
        "print(Xtftrain_tensor.shape)\n",
        "print(Xtfval_tensor.shape)"
      ],
      "metadata": {
        "id": "X64QqHLrxmIi",
        "outputId": "a5e2eede-ec31-4a1a-981c-8b5cb8ab48ae",
        "colab": {
          "base_uri": "https://localhost:8080/"
        }
      },
      "execution_count": 28,
      "outputs": [
        {
          "output_type": "stream",
          "name": "stdout",
          "text": [
            "(7606, 16569)\n",
            "(1902, 16569)\n"
          ]
        }
      ]
    },
    {
      "cell_type": "code",
      "source": [
        "classifier = Sequential()\n",
        "classifier.add(Dense(units=10, activation='relu', input_dim=16569))\n",
        "classifier.add(Dropout(0.3))\n",
        "classifier.add(Flatten())\n",
        "classifier.add(Dense(units=10, activation='relu'))\n",
        "classifier.add(Dropout(0.2))\n",
        "classifier.add(Flatten())\n",
        "classifier.add(Dense(units=10, activation='relu'))\n",
        "classifier.add(Dense(units=1, activation='sigmoid'))\n",
        "classifier.compile(optimizer='adam', loss='binary_crossentropy', metrics=['accuracy'])"
      ],
      "metadata": {
        "id": "83BnTC7usSUQ"
      },
      "execution_count": 29,
      "outputs": []
    },
    {
      "cell_type": "code",
      "source": [
        "classifier.fit(Xtftrain_tensor, y_train, batch_size=200, epochs=15)\n",
        "                     "
      ],
      "metadata": {
        "id": "Gw7lzYq_tiTI",
        "outputId": "d95d6c02-7a70-4f5f-92e0-02bd954fd668",
        "colab": {
          "base_uri": "https://localhost:8080/"
        }
      },
      "execution_count": 30,
      "outputs": [
        {
          "output_type": "stream",
          "name": "stdout",
          "text": [
            "Epoch 1/15\n",
            "39/39 [==============================] - 2s 25ms/step - loss: 0.6928 - accuracy: 0.5075\n",
            "Epoch 2/15\n",
            "39/39 [==============================] - 1s 25ms/step - loss: 0.6864 - accuracy: 0.5571\n",
            "Epoch 3/15\n",
            "39/39 [==============================] - 1s 25ms/step - loss: 0.6542 - accuracy: 0.7516\n",
            "Epoch 4/15\n",
            "39/39 [==============================] - 1s 25ms/step - loss: 0.5708 - accuracy: 0.8426\n",
            "Epoch 5/15\n",
            "39/39 [==============================] - 1s 25ms/step - loss: 0.4367 - accuracy: 0.8819\n",
            "Epoch 6/15\n",
            "39/39 [==============================] - 1s 26ms/step - loss: 0.3049 - accuracy: 0.9178\n",
            "Epoch 7/15\n",
            "39/39 [==============================] - 1s 25ms/step - loss: 0.2154 - accuracy: 0.9423\n",
            "Epoch 8/15\n",
            "39/39 [==============================] - 1s 24ms/step - loss: 0.1601 - accuracy: 0.9574\n",
            "Epoch 9/15\n",
            "39/39 [==============================] - 1s 24ms/step - loss: 0.1229 - accuracy: 0.9727\n",
            "Epoch 10/15\n",
            "39/39 [==============================] - 1s 25ms/step - loss: 0.0985 - accuracy: 0.9752\n",
            "Epoch 11/15\n",
            "39/39 [==============================] - 1s 24ms/step - loss: 0.0809 - accuracy: 0.9794\n",
            "Epoch 12/15\n",
            "39/39 [==============================] - 1s 25ms/step - loss: 0.0693 - accuracy: 0.9816\n",
            "Epoch 13/15\n",
            "39/39 [==============================] - 1s 25ms/step - loss: 0.0546 - accuracy: 0.9871\n",
            "Epoch 14/15\n",
            "39/39 [==============================] - 1s 25ms/step - loss: 0.0483 - accuracy: 0.9892\n",
            "Epoch 15/15\n",
            "39/39 [==============================] - 1s 24ms/step - loss: 0.0405 - accuracy: 0.9913\n"
          ]
        },
        {
          "output_type": "execute_result",
          "data": {
            "text/plain": [
              "<keras.callbacks.History at 0x7eff67752ad0>"
            ]
          },
          "metadata": {},
          "execution_count": 30
        }
      ]
    },
    {
      "cell_type": "code",
      "source": [
        "y_pred = classifier.predict(Xtfval_tensor)\n",
        "y_pred = (y_pred > 0.5)\n",
        "print(y_pred)"
      ],
      "metadata": {
        "id": "f6p8B4AWyPWn",
        "outputId": "e6e676d5-b63e-4a73-e187-bce5771db060",
        "colab": {
          "base_uri": "https://localhost:8080/"
        }
      },
      "execution_count": 139,
      "outputs": [
        {
          "output_type": "stream",
          "name": "stdout",
          "text": [
            "60/60 [==============================] - 0s 3ms/step\n",
            "[[ True]\n",
            " [False]\n",
            " [ True]\n",
            " ...\n",
            " [False]\n",
            " [ True]\n",
            " [False]]\n"
          ]
        }
      ]
    },
    {
      "cell_type": "code",
      "source": [
        "from sklearn.metrics import confusion_matrix, ConfusionMatrixDisplay, accuracy_score\n",
        "cm = ConfusionMatrixDisplay(confusion_matrix(y_val, y_pred), display_labels=['True', 'False'])\n",
        "cm.plot()\n",
        "'Accuracy Score on Validation Data:', accuracy_score(y_val, y_pred)*100"
      ],
      "metadata": {
        "id": "3SnWZIWr0U7i",
        "outputId": "1dfacb07-bdfb-4716-996a-410d85c325e4",
        "colab": {
          "base_uri": "https://localhost:8080/",
          "height": 299
        }
      },
      "execution_count": 142,
      "outputs": [
        {
          "output_type": "execute_result",
          "data": {
            "text/plain": [
              "('Accuracy Score on Validation Data:', 71.92429022082018)"
            ]
          },
          "metadata": {},
          "execution_count": 142
        },
        {
          "output_type": "display_data",
          "data": {
            "text/plain": [
              "<Figure size 432x288 with 2 Axes>"
            ],
            "image/png": "[encoded data removed]"
          },
          "metadata": {
            "needs_background": "light"
          }
        }
      ]
    },
    {
      "cell_type": "markdown",
      "source": [
        "71% on validation without bias, 70% with bias as True, 72% with dropout rate of 0.3, all with 8 epochs and batchsize of 10.\n",
        "Now after changing the droupout slightly to 0.3 and 0.5 and with a batchsize of 50 and 20 epochs, I get 70% on validation.\n",
        "After adding Flatten() and batchsize of 200, I get 72%"
      ],
      "metadata": {
        "id": "-nqPxaOQDYes"
      }
    },
    {
      "cell_type": "code",
      "source": [
        "import torchsummary\n",
        "classifier.summary()\n",
        "#torchsummary.summary(classifier, input_size=(165700, 110, 110))"
      ],
      "metadata": {
        "id": "czD8slpk0yal",
        "outputId": "8efce8ed-27d4-4fbe-e31c-786474f1d225",
        "colab": {
          "base_uri": "https://localhost:8080/",
          "height": 201
        }
      },
      "execution_count": 1,
      "outputs": [
        {
          "output_type": "error",
          "ename": "NameError",
          "evalue": "ignored",
          "traceback": [
            "\u001b[0;31m---------------------------------------------------------------------------\u001b[0m",
            "\u001b[0;31mNameError\u001b[0m                                 Traceback (most recent call last)",
            "\u001b[0;32m<ipython-input-1-6a3a83411d3e>\u001b[0m in \u001b[0;36m<module>\u001b[0;34m\u001b[0m\n\u001b[1;32m      1\u001b[0m \u001b[0;32mimport\u001b[0m \u001b[0mtorchsummary\u001b[0m\u001b[0;34m\u001b[0m\u001b[0;34m\u001b[0m\u001b[0m\n\u001b[0;32m----> 2\u001b[0;31m \u001b[0mclassifier\u001b[0m\u001b[0;34m.\u001b[0m\u001b[0msummary\u001b[0m\u001b[0;34m(\u001b[0m\u001b[0;34m)\u001b[0m\u001b[0;34m\u001b[0m\u001b[0;34m\u001b[0m\u001b[0m\n\u001b[0m\u001b[1;32m      3\u001b[0m \u001b[0;31m#torchsummary.summary(classifier, input_size=(165700, 110, 110))\u001b[0m\u001b[0;34m\u001b[0m\u001b[0;34m\u001b[0m\u001b[0;34m\u001b[0m\u001b[0m\n",
            "\u001b[0;31mNameError\u001b[0m: name 'classifier' is not defined"
          ]
        }
      ]
    }
  ]
}