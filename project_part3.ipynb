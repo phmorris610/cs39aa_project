{
  "nbformat": 4,
  "nbformat_minor": 0,
  "metadata": {
    "colab": {
      "provenance": [],
      "authorship_tag": "ABX9TyPKwQvUTlKwRj80aOIVceBn",
      "include_colab_link": true
    },
    "kernelspec": {
      "name": "python3",
      "display_name": "Python 3"
    },
    "language_info": {
      "name": "python"
    }
  },
  "cells": [
    {
      "cell_type": "markdown",
      "metadata": {
        "id": "view-in-github",
        "colab_type": "text"
      },
      "source": [
        "<a href=\"https://colab.research.google.com/github/phmorris610/cs39aa_project/blob/main/project_part3.ipynb\" target=\"_parent\"><img src=\"https://colab.research.google.com/assets/colab-badge.svg\" alt=\"Open In Colab\"/></a>"
      ]
    },
    {
      "cell_type": "code",
      "execution_count": 1,
      "metadata": {
        "id": "YtSXSZ7lfwIY"
      },
      "outputs": [],
      "source": [
        "# !pip install pyLDAvis\n",
        "# !pip install textstat\n",
        "import pandas as pd\n",
        "import numpy as np\n",
        "import matplotlib.pyplot as plt\n",
        "import nltk\n",
        "import seaborn as sns\n",
        "import sklearn\n",
        "# import gensim\n",
        "# import pyLDAvis\n",
        "# import wordcloud\n",
        "# import textblob\n",
        "# import spacy\n",
        "# import textstat"
      ]
    },
    {
      "cell_type": "code",
      "source": [
        "from google.colab import files\n",
        "uploaded = files.upload()\n",
        "\n",
        "data = pd.read_csv('rtom2.csv')\n",
        "\n",
        "tomatoes = data.dropna()\n",
        "tomatoes.reset_index(inplace=True)\n",
        "print(tomatoes.shape)\n",
        "print(tomatoes.head())\n",
        "\n",
        "\n"
      ],
      "metadata": {
        "colab": {
          "base_uri": "https://localhost:8080/",
          "height": 437
        },
        "id": "cYuFOMxrgGg8",
        "outputId": "4615fd7e-3c87-43db-8f43-3c2050511d32"
      },
      "execution_count": 2,
      "outputs": [
        {
          "output_type": "display_data",
          "data": {
            "text/plain": [
              "<IPython.core.display.HTML object>"
            ],
            "text/html": [
              "\n",
              "     <input type=\"file\" id=\"files-24ab77be-20b6-4cb7-bd7d-8b03b0d591bb\" name=\"files[]\" multiple disabled\n",
              "        style=\"border:none\" />\n",
              "     <output id=\"result-24ab77be-20b6-4cb7-bd7d-8b03b0d591bb\">\n",
              "      Upload widget is only available when the cell has been executed in the\n",
              "      current browser session. Please rerun this cell to enable.\n",
              "      </output>\n",
              "      <script>// Copyright 2017 Google LLC\n",
              "//\n",
              "// Licensed under the Apache License, Version 2.0 (the \"License\");\n",
              "// you may not use this file except in compliance with the License.\n",
              "// You may obtain a copy of the License at\n",
              "//\n",
              "//      http://www.apache.org/licenses/LICENSE-2.0\n",
              "//\n",
              "// Unless required by applicable law or agreed to in writing, software\n",
              "// distributed under the License is distributed on an \"AS IS\" BASIS,\n",
              "// WITHOUT WARRANTIES OR CONDITIONS OF ANY KIND, either express or implied.\n",
              "// See the License for the specific language governing permissions and\n",
              "// limitations under the License.\n",
              "\n",
              "/**\n",
              " * @fileoverview Helpers for google.colab Python module.\n",
              " */\n",
              "(function(scope) {\n",
              "function span(text, styleAttributes = {}) {\n",
              "  const element = document.createElement('span');\n",
              "  element.textContent = text;\n",
              "  for (const key of Object.keys(styleAttributes)) {\n",
              "    element.style[key] = styleAttributes[key];\n",
              "  }\n",
              "  return element;\n",
              "}\n",
              "\n",
              "// Max number of bytes which will be uploaded at a time.\n",
              "const MAX_PAYLOAD_SIZE = 100 * 1024;\n",
              "\n",
              "function _uploadFiles(inputId, outputId) {\n",
              "  const steps = uploadFilesStep(inputId, outputId);\n",
              "  const outputElement = document.getElementById(outputId);\n",
              "  // Cache steps on the outputElement to make it available for the next call\n",
              "  // to uploadFilesContinue from Python.\n",
              "  outputElement.steps = steps;\n",
              "\n",
              "  return _uploadFilesContinue(outputId);\n",
              "}\n",
              "\n",
              "// This is roughly an async generator (not supported in the browser yet),\n",
              "// where there are multiple asynchronous steps and the Python side is going\n",
              "// to poll for completion of each step.\n",
              "// This uses a Promise to block the python side on completion of each step,\n",
              "// then passes the result of the previous step as the input to the next step.\n",
              "function _uploadFilesContinue(outputId) {\n",
              "  const outputElement = document.getElementById(outputId);\n",
              "  const steps = outputElement.steps;\n",
              "\n",
              "  const next = steps.next(outputElement.lastPromiseValue);\n",
              "  return Promise.resolve(next.value.promise).then((value) => {\n",
              "    // Cache the last promise value to make it available to the next\n",
              "    // step of the generator.\n",
              "    outputElement.lastPromiseValue = value;\n",
              "    return next.value.response;\n",
              "  });\n",
              "}\n",
              "\n",
              "/**\n",
              " * Generator function which is called between each async step of the upload\n",
              " * process.\n",
              " * @param {string} inputId Element ID of the input file picker element.\n",
              " * @param {string} outputId Element ID of the output display.\n",
              " * @return {!Iterable<!Object>} Iterable of next steps.\n",
              " */\n",
              "function* uploadFilesStep(inputId, outputId) {\n",
              "  const inputElement = document.getElementById(inputId);\n",
              "  inputElement.disabled = false;\n",
              "\n",
              "  const outputElement = document.getElementById(outputId);\n",
              "  outputElement.innerHTML = '';\n",
              "\n",
              "  const pickedPromise = new Promise((resolve) => {\n",
              "    inputElement.addEventListener('change', (e) => {\n",
              "      resolve(e.target.files);\n",
              "    });\n",
              "  });\n",
              "\n",
              "  const cancel = document.createElement('button');\n",
              "  inputElement.parentElement.appendChild(cancel);\n",
              "  cancel.textContent = 'Cancel upload';\n",
              "  const cancelPromise = new Promise((resolve) => {\n",
              "    cancel.onclick = () => {\n",
              "      resolve(null);\n",
              "    };\n",
              "  });\n",
              "\n",
              "  // Wait for the user to pick the files.\n",
              "  const files = yield {\n",
              "    promise: Promise.race([pickedPromise, cancelPromise]),\n",
              "    response: {\n",
              "      action: 'starting',\n",
              "    }\n",
              "  };\n",
              "\n",
              "  cancel.remove();\n",
              "\n",
              "  // Disable the input element since further picks are not allowed.\n",
              "  inputElement.disabled = true;\n",
              "\n",
              "  if (!files) {\n",
              "    return {\n",
              "      response: {\n",
              "        action: 'complete',\n",
              "      }\n",
              "    };\n",
              "  }\n",
              "\n",
              "  for (const file of files) {\n",
              "    const li = document.createElement('li');\n",
              "    li.append(span(file.name, {fontWeight: 'bold'}));\n",
              "    li.append(span(\n",
              "        `(${file.type || 'n/a'}) - ${file.size} bytes, ` +\n",
              "        `last modified: ${\n",
              "            file.lastModifiedDate ? file.lastModifiedDate.toLocaleDateString() :\n",
              "                                    'n/a'} - `));\n",
              "    const percent = span('0% done');\n",
              "    li.appendChild(percent);\n",
              "\n",
              "    outputElement.appendChild(li);\n",
              "\n",
              "    const fileDataPromise = new Promise((resolve) => {\n",
              "      const reader = new FileReader();\n",
              "      reader.onload = (e) => {\n",
              "        resolve(e.target.result);\n",
              "      };\n",
              "      reader.readAsArrayBuffer(file);\n",
              "    });\n",
              "    // Wait for the data to be ready.\n",
              "    let fileData = yield {\n",
              "      promise: fileDataPromise,\n",
              "      response: {\n",
              "        action: 'continue',\n",
              "      }\n",
              "    };\n",
              "\n",
              "    // Use a chunked sending to avoid message size limits. See b/62115660.\n",
              "    let position = 0;\n",
              "    do {\n",
              "      const length = Math.min(fileData.byteLength - position, MAX_PAYLOAD_SIZE);\n",
              "      const chunk = new Uint8Array(fileData, position, length);\n",
              "      position += length;\n",
              "\n",
              "      const base64 = btoa(String.fromCharCode.apply(null, chunk));\n",
              "      yield {\n",
              "        response: {\n",
              "          action: 'append',\n",
              "          file: file.name,\n",
              "          data: base64,\n",
              "        },\n",
              "      };\n",
              "\n",
              "      let percentDone = fileData.byteLength === 0 ?\n",
              "          100 :\n",
              "          Math.round((position / fileData.byteLength) * 100);\n",
              "      percent.textContent = `${percentDone}% done`;\n",
              "\n",
              "    } while (position < fileData.byteLength);\n",
              "  }\n",
              "\n",
              "  // All done.\n",
              "  yield {\n",
              "    response: {\n",
              "      action: 'complete',\n",
              "    }\n",
              "  };\n",
              "}\n",
              "\n",
              "scope.google = scope.google || {};\n",
              "scope.google.colab = scope.google.colab || {};\n",
              "scope.google.colab._files = {\n",
              "  _uploadFiles,\n",
              "  _uploadFilesContinue,\n",
              "};\n",
              "})(self);\n",
              "</script> "
            ]
          },
          "metadata": {}
        },
        {
          "output_type": "stream",
          "name": "stdout",
          "text": [
            "Saving rtom2.csv to rtom2.csv\n",
            "(9508, 9)\n",
            "   index rotten_tomatoes_link  top_critic  T_C           publisher_name  \\\n",
            "0      0            m/0814255       False    0           Urban Cinefile   \n",
            "1      1            m/0814255       False    0      FILMINK (Australia)   \n",
            "2      2            m/0814255       False    0  Sunday Mail (Australia)   \n",
            "3      3            m/0814255        True    1       Hollywood Reporter   \n",
            "4      4            m/0814255        True    1         Associated Press   \n",
            "\n",
            "  review_type  Review_Type review_date  \\\n",
            "0       Fresh            1    2/6/2010   \n",
            "1       Fresh            1    2/9/2010   \n",
            "2       Fresh            1    2/9/2010   \n",
            "3      Rotten            0   2/10/2010   \n",
            "4      Rotten            0   2/10/2010   \n",
            "\n",
            "                                      review_content  \n",
            "0  Uma Thurman as Medusa, the gorgon with a coiff...  \n",
            "1  With a top-notch cast and dazzling special eff...  \n",
            "2  Whether audiences will get behind The Lightnin...  \n",
            "3  What's really lacking in The Lightning Thief i...  \n",
            "4  It's more a list of ingredients than a movie-m...  \n"
          ]
        }
      ]
    },
    {
      "cell_type": "code",
      "source": [
        "selections1 = ['Review_Type', 'review_content']\n",
        "selections2 = ['T_C', 'review_content']\n",
        "X = tomatoes[selections1].copy()\n",
        "X2 = tomatoes[selections2].copy()\n",
        "y = tomatoes.pop('Review_Type')\n",
        "y2 = tomatoes.pop('T_C')"
      ],
      "metadata": {
        "id": "ikznbLxVnxRy"
      },
      "execution_count": 3,
      "outputs": []
    },
    {
      "cell_type": "code",
      "source": [
        "import matplotlib.pyplot as plt\n",
        "plt.title('0 = Rotten, 1 = Fresh')\n",
        "plt.hist(y)\n",
        "plt"
      ],
      "metadata": {
        "colab": {
          "base_uri": "https://localhost:8080/",
          "height": 298
        },
        "id": "e-PIr-u3oT4i",
        "outputId": "e7a8087e-af4c-458f-84c2-92feb6f992f6"
      },
      "execution_count": 6,
      "outputs": [
        {
          "output_type": "execute_result",
          "data": {
            "text/plain": [
              "<module 'matplotlib.pyplot' from '/usr/local/lib/python3.8/dist-packages/matplotlib/pyplot.py'>"
            ]
          },
          "metadata": {},
          "execution_count": 6
        },
        {
          "output_type": "display_data",
          "data": {
            "text/plain": [
              "<Figure size 432x288 with 1 Axes>"
            ],
            "image/png": "[encoded data removed]"
          },
          "metadata": {
            "needs_background": "light"
          }
        }
      ]
    },
    {
      "cell_type": "code",
      "source": [
        "plt.title('0 = Not Top Critic, 1 = Top Critic')\n",
        "plt.hist(y2)\n",
        "plt"
      ],
      "metadata": {
        "id": "Tr8oB47JwprT",
        "outputId": "4c7082c0-2d4d-4522-fc4a-cf6ef13e0dbc",
        "colab": {
          "base_uri": "https://localhost:8080/",
          "height": 298
        }
      },
      "execution_count": 7,
      "outputs": [
        {
          "output_type": "execute_result",
          "data": {
            "text/plain": [
              "<module 'matplotlib.pyplot' from '/usr/local/lib/python3.8/dist-packages/matplotlib/pyplot.py'>"
            ]
          },
          "metadata": {},
          "execution_count": 7
        },
        {
          "output_type": "display_data",
          "data": {
            "text/plain": [
              "<Figure size 432x288 with 1 Axes>"
            ],
            "image/png": "[encoded data removed]"
          },
          "metadata": {
            "needs_background": "light"
          }
        }
      ]
    },
    {
      "cell_type": "markdown",
      "source": [
        "#Below we will tokenize and remove characters and stopwords."
      ],
      "metadata": {
        "id": "bZQXr2pHp_Pc"
      }
    },
    {
      "cell_type": "code",
      "source": [
        "import nltk\n",
        "from nltk.corpus import stopwords\n",
        "\n",
        "nltk.download('stopwords')\n",
        "stop = set(stopwords.words('english'))\n",
        "corpus = []\n",
        "new = X['review_content'].str.split()\n",
        "new = new.values.tolist()\n",
        "corpus = [word for i in new for word in i]"
      ],
      "metadata": {
        "colab": {
          "base_uri": "https://localhost:8080/"
        },
        "id": "wfvRGQHQpf7Z",
        "outputId": "bdfad65f-21af-47c2-80d2-0411a4fc4042"
      },
      "execution_count": 8,
      "outputs": [
        {
          "output_type": "stream",
          "name": "stderr",
          "text": [
            "[nltk_data] Downloading package stopwords to /root/nltk_data...\n",
            "[nltk_data]   Unzipping corpora/stopwords.zip.\n"
          ]
        }
      ]
    },
    {
      "cell_type": "code",
      "source": [
        "from collections import defaultdict\n",
        "\n",
        "dic = defaultdict(int)\n",
        "for word in corpus:\n",
        "    if word in stop:\n",
        "        dic[word] += 1"
      ],
      "metadata": {
        "id": "nf0KpnGjpiiC"
      },
      "execution_count": 9,
      "outputs": []
    },
    {
      "cell_type": "code",
      "source": [
        "from nltk.tokenize import TreebankWordTokenizer\n",
        "\n",
        "twt = TreebankWordTokenizer()\n",
        "X['tokens_raw'] = X['review_content'].apply(lambda x: twt.tokenize(x.lower()))\n",
        "chars2remove = set(\n",
        "    ['.', '!', '/', '?', ',', '@', '#', '$', '%', '^', '&', '*', '_', '-', '~', 'The', 'A', '`', '+', \"'\", '\"', '--',\n",
        "     '[', ']',\n",
        "     \"'s\", \"n't\"])\n",
        "X['tokens_raw'] = X['tokens_raw'].apply(lambda x: [w for w in x if w not in chars2remove and w not in stop])\n",
        "pd.set_option(\"display.max_colwidth\", 300)\n",
        "X_tRaw = X['tokens_raw'].apply(lambda x: [w for w in x if w not in chars2remove and w not in stop])\n",
        "Xtclean = X_tRaw.apply(lambda x: ' '.join(x))\n",
        "Xtclean.head()"
      ],
      "metadata": {
        "colab": {
          "base_uri": "https://localhost:8080/"
        },
        "id": "PrdFTvyxplHj",
        "outputId": "6128fe3d-ca76-4219-b55e-883146937a7f"
      },
      "execution_count": 10,
      "outputs": [
        {
          "output_type": "execute_result",
          "data": {
            "text/plain": [
              "0                                          uma thurman medusa gorgon coiffure writhing snakes stone-inducing hypnotic gaze one highlights bewitching fantasy\n",
              "1                                                                            top-notch cast dazzling special effects tide teens next harry potter instalment\n",
              "2    whether audiences get behind lightning thief hard predict. overall entertaining introduction promising new world consuming shadow potter big break free\n",
              "3                                                                     really lacking lightning thief genuine sense wonder thing brings viewers back hogwarts\n",
              "4                                                                                                     list ingredients movie-magic potion enjoy start finish\n",
              "Name: tokens_raw, dtype: object"
            ]
          },
          "metadata": {},
          "execution_count": 10
        }
      ]
    },
    {
      "cell_type": "markdown",
      "source": [
        "Let's See if Stemming makes a difference, below."
      ],
      "metadata": {
        "id": "Fwz31IuUTTnV"
      }
    },
    {
      "cell_type": "code",
      "source": [
        "from nltk.stem import PorterStemmer\n",
        "py_stem = PorterStemmer()\n",
        "X['tokens_raw'] = X['review_content'].apply(lambda x: py_stem.stem(x.lower()))\n",
        "chars2remove = set(\n",
        "    ['.', '!', '/', '?', ',', '@', '#', '$', '%', '^', '&', '*', '_', '-', '~', 'The', 'A', '`', '+', \"'\", '\"', '--',\n",
        "     '[', ']',\n",
        "     \"'s\", \"n't\"])\n",
        "X['tokens_raw'] = X['tokens_raw'].apply(lambda x: [w for w in x if w not in chars2remove and w not in stop])\n",
        "pd.set_option(\"display.max_colwidth\", 300)\n",
        "X_tRaw_stem = X['tokens_raw'].apply(lambda x: [w for w in x if w not in chars2remove and w not in stop])\n",
        "Xtclean_stem = X_tRaw.apply(lambda x: ' '.join(x))\n",
        "Xtclean_stem.head()"
      ],
      "metadata": {
        "id": "2s8QwAt5Q5mK",
        "outputId": "ae4fe13a-4b81-40bd-e155-d05d8e06e6f4",
        "colab": {
          "base_uri": "https://localhost:8080/"
        }
      },
      "execution_count": null,
      "outputs": [
        {
          "output_type": "execute_result",
          "data": {
            "text/plain": [
              "0                                          uma thurman medusa gorgon coiffure writhing snakes stone-inducing hypnotic gaze one highlights bewitching fantasy\n",
              "1                                                                            top-notch cast dazzling special effects tide teens next harry potter instalment\n",
              "2    whether audiences get behind lightning thief hard predict. overall entertaining introduction promising new world consuming shadow potter big break free\n",
              "3                                                                     really lacking lightning thief genuine sense wonder thing brings viewers back hogwarts\n",
              "4                                                                                                     list ingredients movie-magic potion enjoy start finish\n",
              "Name: tokens_raw, dtype: object"
            ]
          },
          "metadata": {},
          "execution_count": 16
        }
      ]
    },
    {
      "cell_type": "markdown",
      "source": [
        "Now lets split the data, vectorize, then create a onehot encoding and put it through a quick and dirty model; lets use a Random Forest."
      ],
      "metadata": {
        "id": "mzCV3CSbwwUo"
      }
    },
    {
      "cell_type": "code",
      "source": [
        "from sklearn.model_selection import train_test_split\n",
        "X_train, X_val, y_train, y_val = train_test_split(Xtclean, y, train_size=0.80, random_state=1)"
      ],
      "metadata": {
        "id": "fctLf4kX_QI0"
      },
      "execution_count": 11,
      "outputs": []
    },
    {
      "cell_type": "code",
      "source": [
        "from sklearn.feature_extraction.text import TfidfVectorizer\n",
        "tfidf_vect = TfidfVectorizer()\n",
        "Xtrain_hot = tfidf_vect.fit_transform(X_train).toarray()\n",
        "Xval_hot = tfidf_vect.transform(X_val).toarray()\n",
        "print(Xtrain_hot.shape)\n",
        "print(Xval_hot.shape)"
      ],
      "metadata": {
        "colab": {
          "base_uri": "https://localhost:8080/"
        },
        "id": "YnAa-MrZwfvo",
        "outputId": "f9be3a8a-884b-459a-df3b-6c09de7dd561"
      },
      "execution_count": 12,
      "outputs": [
        {
          "output_type": "stream",
          "name": "stdout",
          "text": [
            "(7606, 16569)\n",
            "(1902, 16569)\n"
          ]
        }
      ]
    },
    {
      "cell_type": "code",
      "source": [
        "import torch\n",
        "Xtrain_tense = torch.tensor(Xtrain_hot).float()\n",
        "Xval_tense = torch.tensor(Xval_hot).float()\n",
        "print(Xtrain_tense.shape)\n",
        "print(X_train.shape)\n",
        "print(Xval_tense.shape)\n",
        "print(X_val.shape)"
      ],
      "metadata": {
        "colab": {
          "base_uri": "https://localhost:8080/"
        },
        "id": "WUeoySB-w7vD",
        "outputId": "c5e97128-544f-49c5-dc55-da80ca10242d"
      },
      "execution_count": 13,
      "outputs": [
        {
          "output_type": "stream",
          "name": "stdout",
          "text": [
            "torch.Size([7606, 16569])\n",
            "(7606,)\n",
            "torch.Size([1902, 16569])\n",
            "(1902,)\n"
          ]
        }
      ]
    },
    {
      "cell_type": "markdown",
      "source": [
        "Now I will run it through the Random Forest portion of a Classification Class."
      ],
      "metadata": {
        "id": "LBkOkNplx6c7"
      }
    },
    {
      "cell_type": "code",
      "source": [
        "class Classification:\n",
        "    def __init__(self, X, y):\n",
        "        self.X = X\n",
        "        self.y = y\n",
        "\n",
        "\n",
        "class RandomForest(Classification):\n",
        "    def __init__(self, X, y):\n",
        "        super().__init__(X, y)\n",
        "\n",
        "    def rForestClass(self, Xval, yval, n):\n",
        "        from sklearn.ensemble import RandomForestClassifier\n",
        "        import matplotlib.pyplot as plt\n",
        "        from sklearn import metrics\n",
        "        from sklearn.metrics import confusion_matrix, ConfusionMatrixDisplay, accuracy_score\n",
        "        # fig, axs = plt.subplots(nrows=1, ncols=2)\n",
        "        clf = RandomForestClassifier(n_estimators=n)\n",
        "        clf.fit(self.X, self.y)\n",
        "        y_pred = clf.predict(self.X)\n",
        "        print(\"RF Accuracy on Training Data: \", metrics.accuracy_score(self.y, y_pred) * 100, \"%\")\n",
        "        display = ConfusionMatrixDisplay(confusion_matrix(self.y, y_pred), display_labels=['True', 'False'])\n",
        "        display.plot()\n",
        "        plt.title('Training')\n",
        "        predictions = clf.predict(Xval)\n",
        "        print(\"RF Accuracy on Validation Data: \", metrics.accuracy_score(yval, predictions) * 100, \"%\")\n",
        "        display2 = ConfusionMatrixDisplay(confusion_matrix(yval, predictions), display_labels=['True', 'False'])\n",
        "        display2.plot()\n",
        "        plt.title('Validation')\n",
        "        plt.show()\n",
        "\n"
      ],
      "metadata": {
        "id": "tfBVvbUGxXar"
      },
      "execution_count": null,
      "outputs": []
    },
    {
      "cell_type": "code",
      "source": [
        "rf = RandomForest(Xtrain_tense, y_train)\n",
        "rf.rForestClass(Xval_tense, y_val, 2)"
      ],
      "metadata": {
        "colab": {
          "base_uri": "https://localhost:8080/",
          "height": 608
        },
        "id": "gZ1fQEaZyJcZ",
        "outputId": "0ae7213a-40ba-4b9e-d85b-50629211653c"
      },
      "execution_count": null,
      "outputs": [
        {
          "output_type": "stream",
          "name": "stdout",
          "text": [
            "RF Accuracy on Training Data:  84.81462003681304 %\n",
            "RF Accuracy on Validation Data:  59.67402733964248 %\n"
          ]
        },
        {
          "output_type": "display_data",
          "data": {
            "text/plain": [
              "<Figure size 432x288 with 2 Axes>"
            ],
            "image/png": "[encoded data removed]"
          },
          "metadata": {
            "needs_background": "light"
          }
        },
        {
          "output_type": "display_data",
          "data": {
            "text/plain": [
              "<Figure size 432x288 with 2 Axes>"
            ],
            "image/png": "[encoded data removed]"
          },
          "metadata": {
            "needs_background": "light"
          }
        }
      ]
    },
    {
      "cell_type": "markdown",
      "source": [
        "Wow, 84 percent accuracy, and just with 2 estimators, but this was the training data, we can see the validation data was much worse at only 61% (but still better than a coin flip)."
      ],
      "metadata": {
        "id": "T1x7Dn7Oykd6"
      }
    },
    {
      "cell_type": "code",
      "source": [
        "rf.rForestClass(Xval_tense, y_val, 20)"
      ],
      "metadata": {
        "colab": {
          "base_uri": "https://localhost:8080/",
          "height": 608
        },
        "id": "FgDNhjN-yxRs",
        "outputId": "1bc2c54d-255f-4eca-f0cb-4fffbdbc576c"
      },
      "execution_count": null,
      "outputs": [
        {
          "output_type": "stream",
          "name": "stdout",
          "text": [
            "RF Accuracy on Training Data:  99.52668945569287 %\n",
            "RF Accuracy on Validation Data:  69.4006309148265 %\n"
          ]
        },
        {
          "output_type": "display_data",
          "data": {
            "text/plain": [
              "<Figure size 432x288 with 2 Axes>"
            ],
            "image/png": "[encoded data removed]"
          },
          "metadata": {
            "needs_background": "light"
          }
        },
        {
          "output_type": "display_data",
          "data": {
            "text/plain": [
              "<Figure size 432x288 with 2 Axes>"
            ],
            "image/png": "[encoded data removed]"
          },
          "metadata": {
            "needs_background": "light"
          }
        }
      ]
    },
    {
      "cell_type": "markdown",
      "source": [
        "Now we have 99% on the training data, but the validation is still far below at 69%. \n",
        "Note: Using steming yielded the same results."
      ],
      "metadata": {
        "id": "4PhlBq1QzQtq"
      }
    },
    {
      "cell_type": "markdown",
      "source": [
        "#Now lets try a Neural Net"
      ],
      "metadata": {
        "id": "DZOJKsKP6lk2"
      }
    },
    {
      "cell_type": "code",
      "source": [
        "import keras\n",
        "from keras.models import Sequential\n",
        "from keras.layers import Dense, Dropout, Flatten, SimpleRNN\n",
        "from keras.callbacks import EarlyStopping\n"
      ],
      "metadata": {
        "id": "8kLn-SFir88g"
      },
      "execution_count": 14,
      "outputs": []
    },
    {
      "cell_type": "markdown",
      "source": [
        "Transform the torch tensor into a tensorflow tensor"
      ],
      "metadata": {
        "id": "agvzCt3Y60AQ"
      }
    },
    {
      "cell_type": "code",
      "source": [
        "import torch\n",
        "import tensorflow as tf\n",
        "nptrain_tensor = Xtrain_tense.numpy()\n",
        "npval_tensor = Xval_tense.numpy()\n",
        "Xtftrain_tensor = tf.convert_to_tensor(nptrain_tensor)\n",
        "Xtfval_tensor = tf.convert_to_tensor(npval_tensor)\n",
        "print(Xtftrain_tensor.shape)\n",
        "print(Xtfval_tensor.shape)"
      ],
      "metadata": {
        "id": "X64QqHLrxmIi",
        "outputId": "09c30b85-3c2e-4f56-dea2-6d1fd4c92d2c",
        "colab": {
          "base_uri": "https://localhost:8080/"
        }
      },
      "execution_count": 15,
      "outputs": [
        {
          "output_type": "stream",
          "name": "stdout",
          "text": [
            "(7606, 16569)\n",
            "(1902, 16569)\n"
          ]
        }
      ]
    },
    {
      "cell_type": "markdown",
      "source": [
        "I set up a Neural Net with two hidden layers, a dropout rate with flattening, and with relu activation and sigmoid final activation. For the optimizer is used adam for Stochastic Gradient Descent and Binary Cross Entropy as the loss function."
      ],
      "metadata": {
        "id": "sWfBsS5y652p"
      }
    },
    {
      "cell_type": "code",
      "source": [
        "classifier = Sequential()\n",
        "classifier.add(Dense(units=10, activation='relu', input_dim=16569))\n",
        "classifier.add(Dropout(0.3))\n",
        "classifier.add(Flatten())\n",
        "classifier.add(Dense(units=10, activation='relu'))\n",
        "classifier.add(Dropout(0.2))\n",
        "classifier.add(Flatten())\n",
        "classifier.add(Dense(units=10, activation='relu'))\n",
        "classifier.add(Dense(units=1, activation='sigmoid'))\n",
        "classifier.compile(optimizer='adam', loss='binary_crossentropy', metrics=['accuracy'])"
      ],
      "metadata": {
        "id": "83BnTC7usSUQ"
      },
      "execution_count": null,
      "outputs": []
    },
    {
      "cell_type": "markdown",
      "source": [
        "I used a batch size of 200 and 15 epochs"
      ],
      "metadata": {
        "id": "kQovXht07Q5j"
      }
    },
    {
      "cell_type": "code",
      "source": [
        "classifier.fit(Xtftrain_tensor, y_train, batch_size=200, epochs=15)\n",
        "                     "
      ],
      "metadata": {
        "id": "Gw7lzYq_tiTI",
        "outputId": "a60ce428-1b5a-4f49-b75a-1da1787e6789",
        "colab": {
          "base_uri": "https://localhost:8080/"
        }
      },
      "execution_count": null,
      "outputs": [
        {
          "output_type": "stream",
          "name": "stdout",
          "text": [
            "Epoch 1/15\n",
            "39/39 [==============================] - 2s 30ms/step - loss: 0.6931 - accuracy: 0.5076\n",
            "Epoch 2/15\n",
            "39/39 [==============================] - 1s 27ms/step - loss: 0.6891 - accuracy: 0.6265\n",
            "Epoch 3/15\n",
            "39/39 [==============================] - 1s 27ms/step - loss: 0.6635 - accuracy: 0.7330\n",
            "Epoch 4/15\n",
            "39/39 [==============================] - 1s 27ms/step - loss: 0.5839 - accuracy: 0.7990\n",
            "Epoch 5/15\n",
            "39/39 [==============================] - 1s 28ms/step - loss: 0.4544 - accuracy: 0.8717\n",
            "Epoch 6/15\n",
            "39/39 [==============================] - 1s 30ms/step - loss: 0.3222 - accuracy: 0.9132\n",
            "Epoch 7/15\n",
            "39/39 [==============================] - 1s 28ms/step - loss: 0.2248 - accuracy: 0.9365\n",
            "Epoch 8/15\n",
            "39/39 [==============================] - 1s 27ms/step - loss: 0.1613 - accuracy: 0.9562\n",
            "Epoch 9/15\n",
            "39/39 [==============================] - 1s 28ms/step - loss: 0.1157 - accuracy: 0.9717\n",
            "Epoch 10/15\n",
            "39/39 [==============================] - 1s 29ms/step - loss: 0.0890 - accuracy: 0.9774\n",
            "Epoch 11/15\n",
            "39/39 [==============================] - 1s 27ms/step - loss: 0.0689 - accuracy: 0.9820\n",
            "Epoch 12/15\n",
            "39/39 [==============================] - 1s 27ms/step - loss: 0.0591 - accuracy: 0.9867\n",
            "Epoch 13/15\n",
            "39/39 [==============================] - 1s 28ms/step - loss: 0.0496 - accuracy: 0.9890\n",
            "Epoch 14/15\n",
            "39/39 [==============================] - 1s 29ms/step - loss: 0.0417 - accuracy: 0.9895\n",
            "Epoch 15/15\n",
            "39/39 [==============================] - 1s 29ms/step - loss: 0.0352 - accuracy: 0.9907\n"
          ]
        },
        {
          "output_type": "execute_result",
          "data": {
            "text/plain": [
              "<keras.callbacks.History at 0x7f60116fb2e0>"
            ]
          },
          "metadata": {},
          "execution_count": 28
        }
      ]
    },
    {
      "cell_type": "code",
      "source": [
        "y_pred = classifier.predict(Xtfval_tensor)\n",
        "y_pred = (y_pred > 0.5)\n",
        "print(y_pred)"
      ],
      "metadata": {
        "id": "f6p8B4AWyPWn",
        "outputId": "5c7ca78a-3741-4fe1-b44b-551a2585274e",
        "colab": {
          "base_uri": "https://localhost:8080/"
        }
      },
      "execution_count": null,
      "outputs": [
        {
          "output_type": "stream",
          "name": "stdout",
          "text": [
            "60/60 [==============================] - 0s 4ms/step\n",
            "[[ True]\n",
            " [False]\n",
            " [ True]\n",
            " ...\n",
            " [False]\n",
            " [ True]\n",
            " [ True]]\n"
          ]
        }
      ]
    },
    {
      "cell_type": "code",
      "source": [
        "from sklearn.metrics import confusion_matrix, ConfusionMatrixDisplay, accuracy_score\n",
        "cm = ConfusionMatrixDisplay(confusion_matrix(y_val, y_pred), display_labels=['True', 'False'])\n",
        "cm.plot()\n",
        "'Accuracy Score on Validation Data:', accuracy_score(y_val, y_pred)*100"
      ],
      "metadata": {
        "id": "3SnWZIWr0U7i",
        "outputId": "8b72fb82-8d56-4797-b8c5-0357818446fb",
        "colab": {
          "base_uri": "https://localhost:8080/",
          "height": 296
        }
      },
      "execution_count": null,
      "outputs": [
        {
          "output_type": "execute_result",
          "data": {
            "text/plain": [
              "('Accuracy Score on Validation Data:', 71.55625657202944)"
            ]
          },
          "metadata": {},
          "execution_count": 30
        },
        {
          "output_type": "display_data",
          "data": {
            "text/plain": [
              "<Figure size 432x288 with 2 Axes>"
            ],
            "image/png": "[encoded data removed]"
          },
          "metadata": {
            "needs_background": "light"
          }
        }
      ]
    },
    {
      "cell_type": "markdown",
      "source": [
        "71% on validation without bias, 70% with bias as True, 72% with dropout rate of 0.3, all with 8 epochs and batchsize of 10.\n",
        "Now after changing the droupout slightly to 0.3 and 0.5 and with a batchsize of 50 and 20 epochs, I get 70% on validation.\n",
        "After adding Flatten() and batchsize of 200, I get 72%\n",
        "Note: Using steming yielded the same results."
      ],
      "metadata": {
        "id": "-nqPxaOQDYes"
      }
    },
    {
      "cell_type": "code",
      "source": [
        "import torchsummary\n",
        "classifier.summary()"
      ],
      "metadata": {
        "id": "czD8slpk0yal",
        "outputId": "be30bd55-edcd-43aa-de77-297ee02ed8f2",
        "colab": {
          "base_uri": "https://localhost:8080/"
        }
      },
      "execution_count": null,
      "outputs": [
        {
          "output_type": "stream",
          "name": "stdout",
          "text": [
            "Model: \"sequential\"\n",
            "_________________________________________________________________\n",
            " Layer (type)                Output Shape              Param #   \n",
            "=================================================================\n",
            " dense (Dense)               (None, 10)                165700    \n",
            "                                                                 \n",
            " dropout (Dropout)           (None, 10)                0         \n",
            "                                                                 \n",
            " flatten (Flatten)           (None, 10)                0         \n",
            "                                                                 \n",
            " dense_1 (Dense)             (None, 10)                110       \n",
            "                                                                 \n",
            " dropout_1 (Dropout)         (None, 10)                0         \n",
            "                                                                 \n",
            " flatten_1 (Flatten)         (None, 10)                0         \n",
            "                                                                 \n",
            " dense_2 (Dense)             (None, 10)                110       \n",
            "                                                                 \n",
            " dense_3 (Dense)             (None, 1)                 11        \n",
            "                                                                 \n",
            "=================================================================\n",
            "Total params: 165,931\n",
            "Trainable params: 165,931\n",
            "Non-trainable params: 0\n",
            "_________________________________________________________________\n"
          ]
        }
      ]
    },
    {
      "cell_type": "markdown",
      "source": [
        "Now lets see if Lemmatization of the reviews helps validation accuracy"
      ],
      "metadata": {
        "id": "AeEo2pAb8OdD"
      }
    },
    {
      "cell_type": "code",
      "source": [
        "import nltk\n",
        "from nltk.stem import WordNetLemmatizer \n",
        "nltk.download('wordnet')\n",
        "nltk.download('omw-1.4')\n",
        "lemmatizer = WordNetLemmatizer()"
      ],
      "metadata": {
        "id": "Qjef4vsD8WXt",
        "outputId": "a8ca11fa-c20d-4639-de9b-827b1f254c69",
        "colab": {
          "base_uri": "https://localhost:8080/"
        }
      },
      "execution_count": 16,
      "outputs": [
        {
          "output_type": "stream",
          "name": "stderr",
          "text": [
            "[nltk_data] Downloading package wordnet to /root/nltk_data...\n",
            "[nltk_data] Downloading package omw-1.4 to /root/nltk_data...\n"
          ]
        }
      ]
    },
    {
      "cell_type": "code",
      "source": [
        "X_tRawLem = X_tRaw.apply(lambda x: [lemmatizer.lemmatize(w, pos=\"v\") for w in x])\n",
        "XtLemclean = X_tRawLem.apply(lambda x: ' '.join(x))\n",
        "XtLemclean.head()"
      ],
      "metadata": {
        "id": "VBm1DegLFJmJ",
        "outputId": "236d4be0-09d8-49d8-b8d6-f8cf0d6717cf",
        "colab": {
          "base_uri": "https://localhost:8080/"
        }
      },
      "execution_count": 17,
      "outputs": [
        {
          "output_type": "execute_result",
          "data": {
            "text/plain": [
              "0                                          uma thurman medusa gorgon coiffure writhe snake stone-inducing hypnotic gaze one highlight bewitch fantasy\n",
              "1                                                                        top-notch cast dazzle special effect tide teens next harry potter instalment\n",
              "2    whether audiences get behind lightning thief hard predict. overall entertain introduction promise new world consume shadow potter big break free\n",
              "3                                                                  really lack lightning thief genuine sense wonder thing bring viewers back hogwarts\n",
              "4                                                                                              list ingredients movie-magic potion enjoy start finish\n",
              "Name: tokens_raw, dtype: object"
            ]
          },
          "metadata": {},
          "execution_count": 17
        }
      ]
    },
    {
      "cell_type": "code",
      "source": [
        "from sklearn.model_selection import train_test_split\n",
        "X_train_lem, X_val_lem, y_train_lem, y_val_lem = train_test_split(XtLemclean, y, train_size=0.80, random_state=10)"
      ],
      "metadata": {
        "id": "QYbOZGisGdqj"
      },
      "execution_count": 18,
      "outputs": []
    },
    {
      "cell_type": "code",
      "source": [
        "from sklearn.feature_extraction.text import TfidfVectorizer\n",
        "tfidf_vect_lem = TfidfVectorizer()\n",
        "Xtrain_hot_lem = tfidf_vect_lem.fit_transform(X_train_lem).toarray()\n",
        "Xval_hot_lem = tfidf_vect_lem.transform(X_val_lem).toarray()\n",
        "print(Xtrain_hot_lem.shape)\n",
        "print(Xval_hot_lem.shape)"
      ],
      "metadata": {
        "id": "21W0PePHGrcz",
        "outputId": "7b8aa2cc-9679-40a1-ddd5-196e788f9254",
        "colab": {
          "base_uri": "https://localhost:8080/"
        }
      },
      "execution_count": 19,
      "outputs": [
        {
          "output_type": "stream",
          "name": "stdout",
          "text": [
            "(7606, 14162)\n",
            "(1902, 14162)\n"
          ]
        }
      ]
    },
    {
      "cell_type": "code",
      "source": [
        "from sklearn.feature_extraction.text import TfidfVectorizer\n",
        "tfidf_vect_lem = TfidfVectorizer()\n",
        "Xtrain_hot_lem = tfidf_vect_lem.fit_transform(X_train_lem).toarray()\n",
        "Xval_hot_lem = tfidf_vect_lem.transform(X_val_lem).toarray()\n",
        "print(Xtrain_hot_lem.shape)\n",
        "print(Xval_hot_lem.shape)"
      ],
      "metadata": {
        "id": "kCNJEXOJG_iS",
        "outputId": "2f6ebd4c-eb02-4d95-dcb8-eb7b962dff48",
        "colab": {
          "base_uri": "https://localhost:8080/"
        }
      },
      "execution_count": 20,
      "outputs": [
        {
          "output_type": "stream",
          "name": "stdout",
          "text": [
            "torch.Size([7606, 14162])\n",
            "(7606,)\n",
            "torch.Size([1902, 14162])\n",
            "(1902,)\n"
          ]
        }
      ]
    },
    {
      "cell_type": "code",
      "source": [
        "rf = RandomForest(Xtrain_tense_lem, y_train_lem)\n",
        "rf.rForestClass(Xval_tense_lem, y_val_lem, 2)"
      ],
      "metadata": {
        "id": "uzLkhqxfH_zw",
        "outputId": "a2eaeef7-8fd3-4565-87cd-c0d581b58b4a",
        "colab": {
          "base_uri": "https://localhost:8080/",
          "height": 608
        }
      },
      "execution_count": null,
      "outputs": [
        {
          "output_type": "stream",
          "name": "stdout",
          "text": [
            "RF Accuracy on Training Data:  84.32816197738627 %\n",
            "RF Accuracy on Validation Data:  56.30914826498423 %\n"
          ]
        },
        {
          "output_type": "display_data",
          "data": {
            "text/plain": [
              "<Figure size 432x288 with 2 Axes>"
            ],
            "image/png": "[encoded data removed]"
          },
          "metadata": {
            "needs_background": "light"
          }
        },
        {
          "output_type": "display_data",
          "data": {
            "text/plain": [
              "<Figure size 432x288 with 2 Axes>"
            ],
            "image/png": "[encoded data removed]"
          },
          "metadata": {
            "needs_background": "light"
          }
        }
      ]
    },
    {
      "cell_type": "code",
      "source": [
        "rf = RandomForest(Xtrain_tense_lem, y_train_lem)\n",
        "rf.rForestClass(Xval_tense_lem, y_val_lem, 20)"
      ],
      "metadata": {
        "id": "F-r5DM2FORXx",
        "outputId": "7e16dfca-c561-4a3c-81c3-f3ec9e055c43",
        "colab": {
          "base_uri": "https://localhost:8080/",
          "height": 608
        }
      },
      "execution_count": null,
      "outputs": [
        {
          "output_type": "stream",
          "name": "stdout",
          "text": [
            "RF Accuracy on Training Data:  99.67131212200894 %\n",
            "RF Accuracy on Validation Data:  68.5068349106204 %\n"
          ]
        },
        {
          "output_type": "display_data",
          "data": {
            "text/plain": [
              "<Figure size 432x288 with 2 Axes>"
            ],
            "image/png": "[encoded data removed]"
          },
          "metadata": {
            "needs_background": "light"
          }
        },
        {
          "output_type": "display_data",
          "data": {
            "text/plain": [
              "<Figure size 432x288 with 2 Axes>"
            ],
            "image/png": "[encoded data removed]"
          },
          "metadata": {
            "needs_background": "light"
          }
        }
      ]
    },
    {
      "cell_type": "markdown",
      "source": [
        "After using the same hyperparameters with a Random Forest the accuracy was just about the same."
      ],
      "metadata": {
        "id": "kvOzGE-0Qc6R"
      }
    },
    {
      "cell_type": "code",
      "source": [
        "import torch\n",
        "import tensorflow as tf\n",
        "nptrain_tensor_lem = Xtrain_tense_lem.numpy()\n",
        "npval_tensor_lem = Xval_tense_lem.numpy()\n",
        "Xtftrain_tensor_lem = tf.convert_to_tensor(nptrain_tensor_lem)\n",
        "Xtfval_tensor_lem = tf.convert_to_tensor(npval_tensor_lem)\n",
        "print(Xtftrain_tensor_lem.shape)\n",
        "print(Xtfval_tensor_lem.shape)"
      ],
      "metadata": {
        "id": "E-JANMK6OrBq",
        "outputId": "0e3211b7-48d9-4514-a547-e72b58b9920d",
        "colab": {
          "base_uri": "https://localhost:8080/"
        }
      },
      "execution_count": null,
      "outputs": [
        {
          "output_type": "stream",
          "name": "stdout",
          "text": [
            "(7606, 14162)\n",
            "(1902, 14162)\n"
          ]
        }
      ]
    },
    {
      "cell_type": "code",
      "source": [
        "classifier = Sequential()\n",
        "classifier.add(Dense(units=20, activation='relu', input_dim=14162))\n",
        "classifier.add(Dropout(0.2))\n",
        "classifier.add(Flatten())\n",
        "classifier.add(Dense(units=10, activation='swish'))\n",
        "classifier.add(Dropout(0.3))\n",
        "classifier.add(Flatten())\n",
        "classifier.add(Dense(units=1, activation='sigmoid'))\n",
        "classifier.compile(optimizer='adam', loss='binary_crossentropy', metrics=['accuracy', 'mae', 'binary_crossentropy'])\n",
        "classifier.summary()"
      ],
      "metadata": {
        "id": "dhBkDtirO-ze",
        "colab": {
          "base_uri": "https://localhost:8080/"
        },
        "outputId": "5ec27e99-da51-4d47-c266-3c0bea8e119c"
      },
      "execution_count": null,
      "outputs": [
        {
          "output_type": "stream",
          "name": "stdout",
          "text": [
            "Model: \"sequential_47\"\n",
            "_________________________________________________________________\n",
            " Layer (type)                Output Shape              Param #   \n",
            "=================================================================\n",
            " dense_177 (Dense)           (None, 20)                283260    \n",
            "                                                                 \n",
            " dropout_110 (Dropout)       (None, 20)                0         \n",
            "                                                                 \n",
            " flatten_110 (Flatten)       (None, 20)                0         \n",
            "                                                                 \n",
            " dense_178 (Dense)           (None, 10)                210       \n",
            "                                                                 \n",
            " dropout_111 (Dropout)       (None, 10)                0         \n",
            "                                                                 \n",
            " flatten_111 (Flatten)       (None, 10)                0         \n",
            "                                                                 \n",
            " dense_179 (Dense)           (None, 1)                 11        \n",
            "                                                                 \n",
            "=================================================================\n",
            "Total params: 283,481\n",
            "Trainable params: 283,481\n",
            "Non-trainable params: 0\n",
            "_________________________________________________________________\n"
          ]
        }
      ]
    },
    {
      "cell_type": "code",
      "source": [
        " fit = classifier.fit(Xtftrain_tensor_lem, y_train_lem, validation_data=(Xtfval_tensor_lem, y_val_lem), batch_size=500, epochs=100)\n",
        " fit"
      ],
      "metadata": {
        "id": "tQWM7lS6PbGy",
        "outputId": "1b22041e-bb93-4fe6-e654-66553b2ec894",
        "colab": {
          "base_uri": "https://localhost:8080/"
        }
      },
      "execution_count": null,
      "outputs": [
        {
          "output_type": "stream",
          "name": "stdout",
          "text": [
            "Epoch 1/100\n",
            "16/16 [==============================] - 6s 169ms/step - loss: 0.6924 - accuracy: 0.5137 - mae: 0.4996 - binary_crossentropy: 0.6924 - val_loss: 0.6901 - val_accuracy: 0.5694 - val_mae: 0.4985 - val_binary_crossentropy: 0.6901\n",
            "Epoch 2/100\n",
            "16/16 [==============================] - 2s 112ms/step - loss: 0.6855 - accuracy: 0.6728 - mae: 0.4961 - binary_crossentropy: 0.6855 - val_loss: 0.6836 - val_accuracy: 0.6714 - val_mae: 0.4951 - val_binary_crossentropy: 0.6836\n",
            "Epoch 3/100\n",
            "16/16 [==============================] - 1s 53ms/step - loss: 0.6726 - accuracy: 0.7862 - mae: 0.4894 - binary_crossentropy: 0.6726 - val_loss: 0.6732 - val_accuracy: 0.7103 - val_mae: 0.4896 - val_binary_crossentropy: 0.6732\n",
            "Epoch 4/100\n",
            "16/16 [==============================] - 1s 51ms/step - loss: 0.6522 - accuracy: 0.8096 - mae: 0.4784 - binary_crossentropy: 0.6522 - val_loss: 0.6578 - val_accuracy: 0.7087 - val_mae: 0.4811 - val_binary_crossentropy: 0.6578\n",
            "Epoch 5/100\n",
            "16/16 [==============================] - 1s 51ms/step - loss: 0.6223 - accuracy: 0.8489 - mae: 0.4616 - binary_crossentropy: 0.6223 - val_loss: 0.6369 - val_accuracy: 0.7229 - val_mae: 0.4687 - val_binary_crossentropy: 0.6369\n",
            "Epoch 6/100\n",
            "16/16 [==============================] - 1s 49ms/step - loss: 0.5834 - accuracy: 0.8598 - mae: 0.4383 - binary_crossentropy: 0.5834 - val_loss: 0.6114 - val_accuracy: 0.7371 - val_mae: 0.4525 - val_binary_crossentropy: 0.6114\n",
            "Epoch 7/100\n",
            "16/16 [==============================] - 1s 53ms/step - loss: 0.5335 - accuracy: 0.8814 - mae: 0.4071 - binary_crossentropy: 0.5335 - val_loss: 0.5832 - val_accuracy: 0.7455 - val_mae: 0.4326 - val_binary_crossentropy: 0.5832\n",
            "Epoch 8/100\n",
            "16/16 [==============================] - 1s 51ms/step - loss: 0.4812 - accuracy: 0.8917 - mae: 0.3717 - binary_crossentropy: 0.4812 - val_loss: 0.5560 - val_accuracy: 0.7508 - val_mae: 0.4108 - val_binary_crossentropy: 0.5560\n",
            "Epoch 9/100\n",
            "16/16 [==============================] - 1s 53ms/step - loss: 0.4268 - accuracy: 0.8998 - mae: 0.3328 - binary_crossentropy: 0.4268 - val_loss: 0.5324 - val_accuracy: 0.7550 - val_mae: 0.3891 - val_binary_crossentropy: 0.5324\n",
            "Epoch 10/100\n",
            "16/16 [==============================] - 1s 52ms/step - loss: 0.3796 - accuracy: 0.9053 - mae: 0.2971 - binary_crossentropy: 0.3796 - val_loss: 0.5155 - val_accuracy: 0.7560 - val_mae: 0.3694 - val_binary_crossentropy: 0.5155\n",
            "Epoch 11/100\n",
            "16/16 [==============================] - 1s 53ms/step - loss: 0.3343 - accuracy: 0.9166 - mae: 0.2628 - binary_crossentropy: 0.3343 - val_loss: 0.5054 - val_accuracy: 0.7529 - val_mae: 0.3517 - val_binary_crossentropy: 0.5054\n",
            "Epoch 12/100\n",
            "16/16 [==============================] - 1s 82ms/step - loss: 0.2971 - accuracy: 0.9226 - mae: 0.2324 - binary_crossentropy: 0.2971 - val_loss: 0.5012 - val_accuracy: 0.7503 - val_mae: 0.3377 - val_binary_crossentropy: 0.5012\n",
            "Epoch 13/100\n",
            "16/16 [==============================] - 2s 97ms/step - loss: 0.2632 - accuracy: 0.9332 - mae: 0.2055 - binary_crossentropy: 0.2632 - val_loss: 0.5024 - val_accuracy: 0.7482 - val_mae: 0.3260 - val_binary_crossentropy: 0.5024\n",
            "Epoch 14/100\n",
            "16/16 [==============================] - 2s 97ms/step - loss: 0.2331 - accuracy: 0.9391 - mae: 0.1825 - binary_crossentropy: 0.2331 - val_loss: 0.5062 - val_accuracy: 0.7503 - val_mae: 0.3174 - val_binary_crossentropy: 0.5062\n",
            "Epoch 15/100\n",
            "16/16 [==============================] - 2s 93ms/step - loss: 0.2102 - accuracy: 0.9450 - mae: 0.1637 - binary_crossentropy: 0.2102 - val_loss: 0.5160 - val_accuracy: 0.7471 - val_mae: 0.3099 - val_binary_crossentropy: 0.5160\n",
            "Epoch 16/100\n",
            "16/16 [==============================] - 1s 51ms/step - loss: 0.1889 - accuracy: 0.9498 - mae: 0.1465 - binary_crossentropy: 0.1889 - val_loss: 0.5264 - val_accuracy: 0.7461 - val_mae: 0.3046 - val_binary_crossentropy: 0.5264\n",
            "Epoch 17/100\n",
            "16/16 [==============================] - 1s 52ms/step - loss: 0.1689 - accuracy: 0.9562 - mae: 0.1318 - binary_crossentropy: 0.1689 - val_loss: 0.5407 - val_accuracy: 0.7387 - val_mae: 0.3005 - val_binary_crossentropy: 0.5407\n",
            "Epoch 18/100\n",
            "16/16 [==============================] - 1s 51ms/step - loss: 0.1505 - accuracy: 0.9634 - mae: 0.1177 - binary_crossentropy: 0.1505 - val_loss: 0.5536 - val_accuracy: 0.7434 - val_mae: 0.2972 - val_binary_crossentropy: 0.5536\n",
            "Epoch 19/100\n",
            "16/16 [==============================] - 1s 49ms/step - loss: 0.1377 - accuracy: 0.9681 - mae: 0.1079 - binary_crossentropy: 0.1377 - val_loss: 0.5704 - val_accuracy: 0.7397 - val_mae: 0.2944 - val_binary_crossentropy: 0.5704\n",
            "Epoch 20/100\n",
            "16/16 [==============================] - 1s 51ms/step - loss: 0.1257 - accuracy: 0.9699 - mae: 0.0987 - binary_crossentropy: 0.1257 - val_loss: 0.5865 - val_accuracy: 0.7392 - val_mae: 0.2920 - val_binary_crossentropy: 0.5865\n",
            "Epoch 21/100\n",
            "16/16 [==============================] - 1s 52ms/step - loss: 0.1132 - accuracy: 0.9748 - mae: 0.0894 - binary_crossentropy: 0.1132 - val_loss: 0.6039 - val_accuracy: 0.7371 - val_mae: 0.2902 - val_binary_crossentropy: 0.6039\n",
            "Epoch 22/100\n",
            "16/16 [==============================] - 1s 52ms/step - loss: 0.1055 - accuracy: 0.9763 - mae: 0.0829 - binary_crossentropy: 0.1055 - val_loss: 0.6243 - val_accuracy: 0.7350 - val_mae: 0.2888 - val_binary_crossentropy: 0.6243\n",
            "Epoch 23/100\n",
            "16/16 [==============================] - 1s 50ms/step - loss: 0.0989 - accuracy: 0.9774 - mae: 0.0777 - binary_crossentropy: 0.0989 - val_loss: 0.6414 - val_accuracy: 0.7382 - val_mae: 0.2877 - val_binary_crossentropy: 0.6414\n",
            "Epoch 24/100\n",
            "16/16 [==============================] - 1s 52ms/step - loss: 0.0882 - accuracy: 0.9816 - mae: 0.0704 - binary_crossentropy: 0.0882 - val_loss: 0.6600 - val_accuracy: 0.7366 - val_mae: 0.2865 - val_binary_crossentropy: 0.6600\n",
            "Epoch 25/100\n",
            "16/16 [==============================] - 1s 55ms/step - loss: 0.0817 - accuracy: 0.9842 - mae: 0.0651 - binary_crossentropy: 0.0817 - val_loss: 0.6793 - val_accuracy: 0.7387 - val_mae: 0.2854 - val_binary_crossentropy: 0.6793\n",
            "Epoch 26/100\n",
            "16/16 [==============================] - 1s 51ms/step - loss: 0.0760 - accuracy: 0.9834 - mae: 0.0611 - binary_crossentropy: 0.0760 - val_loss: 0.6959 - val_accuracy: 0.7382 - val_mae: 0.2839 - val_binary_crossentropy: 0.6959\n",
            "Epoch 27/100\n",
            "16/16 [==============================] - 1s 53ms/step - loss: 0.0677 - accuracy: 0.9853 - mae: 0.0551 - binary_crossentropy: 0.0677 - val_loss: 0.7162 - val_accuracy: 0.7355 - val_mae: 0.2832 - val_binary_crossentropy: 0.7162\n",
            "Epoch 28/100\n",
            "16/16 [==============================] - 1s 52ms/step - loss: 0.0644 - accuracy: 0.9872 - mae: 0.0522 - binary_crossentropy: 0.0644 - val_loss: 0.7332 - val_accuracy: 0.7371 - val_mae: 0.2825 - val_binary_crossentropy: 0.7332\n",
            "Epoch 29/100\n",
            "16/16 [==============================] - 1s 52ms/step - loss: 0.0586 - accuracy: 0.9896 - mae: 0.0479 - binary_crossentropy: 0.0586 - val_loss: 0.7544 - val_accuracy: 0.7361 - val_mae: 0.2826 - val_binary_crossentropy: 0.7544\n",
            "Epoch 30/100\n",
            "16/16 [==============================] - 1s 52ms/step - loss: 0.0567 - accuracy: 0.9890 - mae: 0.0463 - binary_crossentropy: 0.0567 - val_loss: 0.7733 - val_accuracy: 0.7350 - val_mae: 0.2823 - val_binary_crossentropy: 0.7733\n",
            "Epoch 31/100\n",
            "16/16 [==============================] - 1s 53ms/step - loss: 0.0510 - accuracy: 0.9911 - mae: 0.0424 - binary_crossentropy: 0.0510 - val_loss: 0.7929 - val_accuracy: 0.7324 - val_mae: 0.2821 - val_binary_crossentropy: 0.7929\n",
            "Epoch 32/100\n",
            "16/16 [==============================] - 1s 51ms/step - loss: 0.0475 - accuracy: 0.9930 - mae: 0.0398 - binary_crossentropy: 0.0475 - val_loss: 0.8125 - val_accuracy: 0.7324 - val_mae: 0.2817 - val_binary_crossentropy: 0.8125\n",
            "Epoch 33/100\n",
            "16/16 [==============================] - 1s 50ms/step - loss: 0.0454 - accuracy: 0.9916 - mae: 0.0374 - binary_crossentropy: 0.0454 - val_loss: 0.8332 - val_accuracy: 0.7340 - val_mae: 0.2817 - val_binary_crossentropy: 0.8332\n",
            "Epoch 34/100\n",
            "16/16 [==============================] - 1s 53ms/step - loss: 0.0434 - accuracy: 0.9929 - mae: 0.0357 - binary_crossentropy: 0.0434 - val_loss: 0.8510 - val_accuracy: 0.7303 - val_mae: 0.2816 - val_binary_crossentropy: 0.8510\n",
            "Epoch 35/100\n",
            "16/16 [==============================] - 1s 53ms/step - loss: 0.0401 - accuracy: 0.9934 - mae: 0.0334 - binary_crossentropy: 0.0401 - val_loss: 0.8693 - val_accuracy: 0.7313 - val_mae: 0.2813 - val_binary_crossentropy: 0.8693\n",
            "Epoch 36/100\n",
            "16/16 [==============================] - 1s 52ms/step - loss: 0.0373 - accuracy: 0.9950 - mae: 0.0313 - binary_crossentropy: 0.0373 - val_loss: 0.8858 - val_accuracy: 0.7287 - val_mae: 0.2806 - val_binary_crossentropy: 0.8858\n",
            "Epoch 37/100\n",
            "16/16 [==============================] - 1s 53ms/step - loss: 0.0364 - accuracy: 0.9945 - mae: 0.0305 - binary_crossentropy: 0.0364 - val_loss: 0.9025 - val_accuracy: 0.7319 - val_mae: 0.2800 - val_binary_crossentropy: 0.9025\n",
            "Epoch 38/100\n",
            "16/16 [==============================] - 1s 51ms/step - loss: 0.0350 - accuracy: 0.9942 - mae: 0.0288 - binary_crossentropy: 0.0350 - val_loss: 0.9219 - val_accuracy: 0.7308 - val_mae: 0.2801 - val_binary_crossentropy: 0.9219\n",
            "Epoch 39/100\n",
            "16/16 [==============================] - 1s 52ms/step - loss: 0.0310 - accuracy: 0.9962 - mae: 0.0264 - binary_crossentropy: 0.0310 - val_loss: 0.9370 - val_accuracy: 0.7308 - val_mae: 0.2800 - val_binary_crossentropy: 0.9370\n",
            "Epoch 40/100\n",
            "16/16 [==============================] - 1s 53ms/step - loss: 0.0297 - accuracy: 0.9968 - mae: 0.0256 - binary_crossentropy: 0.0297 - val_loss: 0.9561 - val_accuracy: 0.7329 - val_mae: 0.2802 - val_binary_crossentropy: 0.9561\n",
            "Epoch 41/100\n",
            "16/16 [==============================] - 1s 53ms/step - loss: 0.0274 - accuracy: 0.9967 - mae: 0.0232 - binary_crossentropy: 0.0274 - val_loss: 0.9729 - val_accuracy: 0.7340 - val_mae: 0.2800 - val_binary_crossentropy: 0.9729\n",
            "Epoch 42/100\n",
            "16/16 [==============================] - 1s 52ms/step - loss: 0.0269 - accuracy: 0.9954 - mae: 0.0225 - binary_crossentropy: 0.0269 - val_loss: 0.9854 - val_accuracy: 0.7308 - val_mae: 0.2793 - val_binary_crossentropy: 0.9854\n",
            "Epoch 43/100\n",
            "16/16 [==============================] - 1s 50ms/step - loss: 0.0263 - accuracy: 0.9962 - mae: 0.0226 - binary_crossentropy: 0.0263 - val_loss: 1.0038 - val_accuracy: 0.7329 - val_mae: 0.2794 - val_binary_crossentropy: 1.0038\n",
            "Epoch 44/100\n",
            "16/16 [==============================] - 1s 51ms/step - loss: 0.0235 - accuracy: 0.9963 - mae: 0.0202 - binary_crossentropy: 0.0235 - val_loss: 1.0194 - val_accuracy: 0.7329 - val_mae: 0.2793 - val_binary_crossentropy: 1.0194\n",
            "Epoch 45/100\n",
            "16/16 [==============================] - 1s 52ms/step - loss: 0.0245 - accuracy: 0.9970 - mae: 0.0209 - binary_crossentropy: 0.0245 - val_loss: 1.0373 - val_accuracy: 0.7324 - val_mae: 0.2796 - val_binary_crossentropy: 1.0373\n",
            "Epoch 46/100\n",
            "16/16 [==============================] - 1s 54ms/step - loss: 0.0222 - accuracy: 0.9976 - mae: 0.0193 - binary_crossentropy: 0.0222 - val_loss: 1.0509 - val_accuracy: 0.7298 - val_mae: 0.2794 - val_binary_crossentropy: 1.0509\n",
            "Epoch 47/100\n",
            "16/16 [==============================] - 1s 53ms/step - loss: 0.0215 - accuracy: 0.9968 - mae: 0.0184 - binary_crossentropy: 0.0215 - val_loss: 1.0664 - val_accuracy: 0.7324 - val_mae: 0.2793 - val_binary_crossentropy: 1.0664\n",
            "Epoch 48/100\n",
            "16/16 [==============================] - 1s 53ms/step - loss: 0.0211 - accuracy: 0.9975 - mae: 0.0183 - binary_crossentropy: 0.0211 - val_loss: 1.0827 - val_accuracy: 0.7308 - val_mae: 0.2793 - val_binary_crossentropy: 1.0827\n",
            "Epoch 49/100\n",
            "16/16 [==============================] - 1s 52ms/step - loss: 0.0191 - accuracy: 0.9980 - mae: 0.0168 - binary_crossentropy: 0.0191 - val_loss: 1.0997 - val_accuracy: 0.7308 - val_mae: 0.2793 - val_binary_crossentropy: 1.0997\n",
            "Epoch 50/100\n",
            "16/16 [==============================] - 1s 52ms/step - loss: 0.0192 - accuracy: 0.9976 - mae: 0.0166 - binary_crossentropy: 0.0192 - val_loss: 1.1150 - val_accuracy: 0.7308 - val_mae: 0.2793 - val_binary_crossentropy: 1.1150\n",
            "Epoch 51/100\n",
            "16/16 [==============================] - 1s 52ms/step - loss: 0.0186 - accuracy: 0.9968 - mae: 0.0161 - binary_crossentropy: 0.0186 - val_loss: 1.1300 - val_accuracy: 0.7277 - val_mae: 0.2796 - val_binary_crossentropy: 1.1300\n",
            "Epoch 52/100\n",
            "16/16 [==============================] - 1s 53ms/step - loss: 0.0171 - accuracy: 0.9983 - mae: 0.0148 - binary_crossentropy: 0.0171 - val_loss: 1.1415 - val_accuracy: 0.7287 - val_mae: 0.2793 - val_binary_crossentropy: 1.1415\n",
            "Epoch 53/100\n",
            "16/16 [==============================] - 1s 55ms/step - loss: 0.0170 - accuracy: 0.9968 - mae: 0.0143 - binary_crossentropy: 0.0170 - val_loss: 1.1585 - val_accuracy: 0.7282 - val_mae: 0.2796 - val_binary_crossentropy: 1.1585\n",
            "Epoch 54/100\n",
            "16/16 [==============================] - 1s 52ms/step - loss: 0.0170 - accuracy: 0.9979 - mae: 0.0145 - binary_crossentropy: 0.0170 - val_loss: 1.1685 - val_accuracy: 0.7298 - val_mae: 0.2792 - val_binary_crossentropy: 1.1685\n",
            "Epoch 55/100\n",
            "16/16 [==============================] - 1s 54ms/step - loss: 0.0156 - accuracy: 0.9980 - mae: 0.0137 - binary_crossentropy: 0.0156 - val_loss: 1.1885 - val_accuracy: 0.7292 - val_mae: 0.2796 - val_binary_crossentropy: 1.1885\n",
            "Epoch 56/100\n",
            "16/16 [==============================] - 1s 53ms/step - loss: 0.0157 - accuracy: 0.9980 - mae: 0.0134 - binary_crossentropy: 0.0157 - val_loss: 1.1979 - val_accuracy: 0.7271 - val_mae: 0.2793 - val_binary_crossentropy: 1.1979\n",
            "Epoch 57/100\n",
            "16/16 [==============================] - 1s 54ms/step - loss: 0.0152 - accuracy: 0.9982 - mae: 0.0132 - binary_crossentropy: 0.0152 - val_loss: 1.2121 - val_accuracy: 0.7292 - val_mae: 0.2794 - val_binary_crossentropy: 1.2121\n",
            "Epoch 58/100\n",
            "16/16 [==============================] - 1s 55ms/step - loss: 0.0142 - accuracy: 0.9979 - mae: 0.0124 - binary_crossentropy: 0.0142 - val_loss: 1.2209 - val_accuracy: 0.7298 - val_mae: 0.2790 - val_binary_crossentropy: 1.2209\n",
            "Epoch 59/100\n",
            "16/16 [==============================] - 1s 52ms/step - loss: 0.0139 - accuracy: 0.9988 - mae: 0.0122 - binary_crossentropy: 0.0139 - val_loss: 1.2400 - val_accuracy: 0.7298 - val_mae: 0.2791 - val_binary_crossentropy: 1.2400\n",
            "Epoch 60/100\n",
            "16/16 [==============================] - 1s 51ms/step - loss: 0.0126 - accuracy: 0.9984 - mae: 0.0111 - binary_crossentropy: 0.0126 - val_loss: 1.2479 - val_accuracy: 0.7308 - val_mae: 0.2788 - val_binary_crossentropy: 1.2479\n",
            "Epoch 61/100\n",
            "16/16 [==============================] - 1s 52ms/step - loss: 0.0118 - accuracy: 0.9984 - mae: 0.0105 - binary_crossentropy: 0.0118 - val_loss: 1.2635 - val_accuracy: 0.7282 - val_mae: 0.2789 - val_binary_crossentropy: 1.2635\n",
            "Epoch 62/100\n",
            "16/16 [==============================] - 1s 50ms/step - loss: 0.0122 - accuracy: 0.9984 - mae: 0.0104 - binary_crossentropy: 0.0122 - val_loss: 1.2749 - val_accuracy: 0.7287 - val_mae: 0.2788 - val_binary_crossentropy: 1.2749\n",
            "Epoch 63/100\n",
            "16/16 [==============================] - 1s 53ms/step - loss: 0.0107 - accuracy: 0.9996 - mae: 0.0097 - binary_crossentropy: 0.0107 - val_loss: 1.2870 - val_accuracy: 0.7287 - val_mae: 0.2790 - val_binary_crossentropy: 1.2870\n",
            "Epoch 64/100\n",
            "16/16 [==============================] - 1s 52ms/step - loss: 0.0116 - accuracy: 0.9984 - mae: 0.0100 - binary_crossentropy: 0.0116 - val_loss: 1.2994 - val_accuracy: 0.7287 - val_mae: 0.2793 - val_binary_crossentropy: 1.2994\n",
            "Epoch 65/100\n",
            "16/16 [==============================] - 1s 52ms/step - loss: 0.0117 - accuracy: 0.9983 - mae: 0.0102 - binary_crossentropy: 0.0117 - val_loss: 1.3102 - val_accuracy: 0.7292 - val_mae: 0.2794 - val_binary_crossentropy: 1.3102\n",
            "Epoch 66/100\n",
            "16/16 [==============================] - 1s 54ms/step - loss: 0.0109 - accuracy: 0.9987 - mae: 0.0096 - binary_crossentropy: 0.0109 - val_loss: 1.3224 - val_accuracy: 0.7282 - val_mae: 0.2791 - val_binary_crossentropy: 1.3224\n",
            "Epoch 67/100\n",
            "16/16 [==============================] - 1s 53ms/step - loss: 0.0106 - accuracy: 0.9988 - mae: 0.0092 - binary_crossentropy: 0.0106 - val_loss: 1.3353 - val_accuracy: 0.7277 - val_mae: 0.2787 - val_binary_crossentropy: 1.3353\n",
            "Epoch 68/100\n",
            "16/16 [==============================] - 1s 54ms/step - loss: 0.0112 - accuracy: 0.9983 - mae: 0.0097 - binary_crossentropy: 0.0112 - val_loss: 1.3467 - val_accuracy: 0.7271 - val_mae: 0.2785 - val_binary_crossentropy: 1.3467\n",
            "Epoch 69/100\n",
            "16/16 [==============================] - 1s 52ms/step - loss: 0.0099 - accuracy: 0.9989 - mae: 0.0088 - binary_crossentropy: 0.0099 - val_loss: 1.3586 - val_accuracy: 0.7261 - val_mae: 0.2785 - val_binary_crossentropy: 1.3586\n",
            "Epoch 70/100\n",
            "16/16 [==============================] - 1s 54ms/step - loss: 0.0101 - accuracy: 0.9986 - mae: 0.0089 - binary_crossentropy: 0.0101 - val_loss: 1.3696 - val_accuracy: 0.7250 - val_mae: 0.2786 - val_binary_crossentropy: 1.3696\n",
            "Epoch 71/100\n",
            "16/16 [==============================] - 1s 52ms/step - loss: 0.0095 - accuracy: 0.9984 - mae: 0.0085 - binary_crossentropy: 0.0095 - val_loss: 1.3808 - val_accuracy: 0.7245 - val_mae: 0.2787 - val_binary_crossentropy: 1.3808\n",
            "Epoch 72/100\n",
            "16/16 [==============================] - 1s 50ms/step - loss: 0.0102 - accuracy: 0.9987 - mae: 0.0088 - binary_crossentropy: 0.0102 - val_loss: 1.3922 - val_accuracy: 0.7250 - val_mae: 0.2789 - val_binary_crossentropy: 1.3922\n",
            "Epoch 73/100\n",
            "16/16 [==============================] - 1s 51ms/step - loss: 0.0092 - accuracy: 0.9986 - mae: 0.0079 - binary_crossentropy: 0.0092 - val_loss: 1.4015 - val_accuracy: 0.7250 - val_mae: 0.2792 - val_binary_crossentropy: 1.4015\n",
            "Epoch 74/100\n",
            "16/16 [==============================] - 1s 83ms/step - loss: 0.0092 - accuracy: 0.9992 - mae: 0.0080 - binary_crossentropy: 0.0092 - val_loss: 1.4121 - val_accuracy: 0.7240 - val_mae: 0.2795 - val_binary_crossentropy: 1.4121\n",
            "Epoch 75/100\n",
            "16/16 [==============================] - 1s 88ms/step - loss: 0.0092 - accuracy: 0.9987 - mae: 0.0081 - binary_crossentropy: 0.0092 - val_loss: 1.4261 - val_accuracy: 0.7271 - val_mae: 0.2799 - val_binary_crossentropy: 1.4261\n",
            "Epoch 76/100\n",
            "16/16 [==============================] - 1s 54ms/step - loss: 0.0087 - accuracy: 0.9991 - mae: 0.0077 - binary_crossentropy: 0.0087 - val_loss: 1.4308 - val_accuracy: 0.7261 - val_mae: 0.2796 - val_binary_crossentropy: 1.4308\n",
            "Epoch 77/100\n",
            "16/16 [==============================] - 1s 53ms/step - loss: 0.0078 - accuracy: 0.9993 - mae: 0.0070 - binary_crossentropy: 0.0078 - val_loss: 1.4466 - val_accuracy: 0.7271 - val_mae: 0.2799 - val_binary_crossentropy: 1.4466\n",
            "Epoch 78/100\n",
            "16/16 [==============================] - 1s 51ms/step - loss: 0.0087 - accuracy: 0.9992 - mae: 0.0078 - binary_crossentropy: 0.0087 - val_loss: 1.4660 - val_accuracy: 0.7277 - val_mae: 0.2804 - val_binary_crossentropy: 1.4660\n",
            "Epoch 79/100\n",
            "16/16 [==============================] - 1s 52ms/step - loss: 0.0087 - accuracy: 0.9984 - mae: 0.0075 - binary_crossentropy: 0.0087 - val_loss: 1.4683 - val_accuracy: 0.7240 - val_mae: 0.2800 - val_binary_crossentropy: 1.4683\n",
            "Epoch 80/100\n",
            "16/16 [==============================] - 1s 54ms/step - loss: 0.0074 - accuracy: 0.9992 - mae: 0.0066 - binary_crossentropy: 0.0074 - val_loss: 1.4804 - val_accuracy: 0.7234 - val_mae: 0.2799 - val_binary_crossentropy: 1.4804\n",
            "Epoch 81/100\n",
            "16/16 [==============================] - 1s 54ms/step - loss: 0.0074 - accuracy: 0.9991 - mae: 0.0066 - binary_crossentropy: 0.0074 - val_loss: 1.4888 - val_accuracy: 0.7245 - val_mae: 0.2799 - val_binary_crossentropy: 1.4888\n",
            "Epoch 82/100\n",
            "16/16 [==============================] - 1s 52ms/step - loss: 0.0069 - accuracy: 0.9993 - mae: 0.0061 - binary_crossentropy: 0.0069 - val_loss: 1.4972 - val_accuracy: 0.7240 - val_mae: 0.2799 - val_binary_crossentropy: 1.4972\n",
            "Epoch 83/100\n",
            "16/16 [==============================] - 1s 53ms/step - loss: 0.0075 - accuracy: 0.9989 - mae: 0.0064 - binary_crossentropy: 0.0075 - val_loss: 1.5035 - val_accuracy: 0.7250 - val_mae: 0.2798 - val_binary_crossentropy: 1.5035\n",
            "Epoch 84/100\n",
            "16/16 [==============================] - 1s 53ms/step - loss: 0.0074 - accuracy: 0.9988 - mae: 0.0064 - binary_crossentropy: 0.0074 - val_loss: 1.5172 - val_accuracy: 0.7224 - val_mae: 0.2801 - val_binary_crossentropy: 1.5172\n",
            "Epoch 85/100\n",
            "16/16 [==============================] - 1s 53ms/step - loss: 0.0078 - accuracy: 0.9991 - mae: 0.0067 - binary_crossentropy: 0.0078 - val_loss: 1.5245 - val_accuracy: 0.7234 - val_mae: 0.2803 - val_binary_crossentropy: 1.5245\n",
            "Epoch 86/100\n",
            "16/16 [==============================] - 1s 55ms/step - loss: 0.0074 - accuracy: 0.9991 - mae: 0.0065 - binary_crossentropy: 0.0074 - val_loss: 1.5424 - val_accuracy: 0.7240 - val_mae: 0.2810 - val_binary_crossentropy: 1.5424\n",
            "Epoch 87/100\n",
            "16/16 [==============================] - 1s 53ms/step - loss: 0.0071 - accuracy: 0.9991 - mae: 0.0061 - binary_crossentropy: 0.0071 - val_loss: 1.5530 - val_accuracy: 0.7234 - val_mae: 0.2810 - val_binary_crossentropy: 1.5530\n",
            "Epoch 88/100\n",
            "16/16 [==============================] - 1s 52ms/step - loss: 0.0061 - accuracy: 0.9992 - mae: 0.0055 - binary_crossentropy: 0.0061 - val_loss: 1.5631 - val_accuracy: 0.7224 - val_mae: 0.2807 - val_binary_crossentropy: 1.5631\n",
            "Epoch 89/100\n",
            "16/16 [==============================] - 1s 52ms/step - loss: 0.0063 - accuracy: 0.9987 - mae: 0.0054 - binary_crossentropy: 0.0063 - val_loss: 1.5723 - val_accuracy: 0.7250 - val_mae: 0.2804 - val_binary_crossentropy: 1.5723\n",
            "Epoch 90/100\n",
            "16/16 [==============================] - 1s 53ms/step - loss: 0.0066 - accuracy: 0.9992 - mae: 0.0057 - binary_crossentropy: 0.0066 - val_loss: 1.5772 - val_accuracy: 0.7271 - val_mae: 0.2802 - val_binary_crossentropy: 1.5772\n",
            "Epoch 91/100\n",
            "16/16 [==============================] - 1s 53ms/step - loss: 0.0072 - accuracy: 0.9986 - mae: 0.0060 - binary_crossentropy: 0.0072 - val_loss: 1.5833 - val_accuracy: 0.7261 - val_mae: 0.2801 - val_binary_crossentropy: 1.5833\n",
            "Epoch 92/100\n",
            "16/16 [==============================] - 1s 54ms/step - loss: 0.0065 - accuracy: 0.9987 - mae: 0.0056 - binary_crossentropy: 0.0065 - val_loss: 1.5938 - val_accuracy: 0.7240 - val_mae: 0.2802 - val_binary_crossentropy: 1.5938\n",
            "Epoch 93/100\n",
            "16/16 [==============================] - 1s 54ms/step - loss: 0.0060 - accuracy: 0.9993 - mae: 0.0053 - binary_crossentropy: 0.0060 - val_loss: 1.6071 - val_accuracy: 0.7234 - val_mae: 0.2805 - val_binary_crossentropy: 1.6071\n",
            "Epoch 94/100\n",
            "16/16 [==============================] - 1s 83ms/step - loss: 0.0063 - accuracy: 0.9987 - mae: 0.0054 - binary_crossentropy: 0.0063 - val_loss: 1.6142 - val_accuracy: 0.7229 - val_mae: 0.2804 - val_binary_crossentropy: 1.6142\n",
            "Epoch 95/100\n",
            "16/16 [==============================] - 1s 82ms/step - loss: 0.0060 - accuracy: 0.9989 - mae: 0.0052 - binary_crossentropy: 0.0060 - val_loss: 1.6268 - val_accuracy: 0.7213 - val_mae: 0.2808 - val_binary_crossentropy: 1.6268\n",
            "Epoch 96/100\n",
            "16/16 [==============================] - 1s 53ms/step - loss: 0.0066 - accuracy: 0.9988 - mae: 0.0056 - binary_crossentropy: 0.0066 - val_loss: 1.6285 - val_accuracy: 0.7234 - val_mae: 0.2807 - val_binary_crossentropy: 1.6285\n",
            "Epoch 97/100\n",
            "16/16 [==============================] - 1s 54ms/step - loss: 0.0062 - accuracy: 0.9988 - mae: 0.0053 - binary_crossentropy: 0.0062 - val_loss: 1.6377 - val_accuracy: 0.7224 - val_mae: 0.2807 - val_binary_crossentropy: 1.6377\n",
            "Epoch 98/100\n",
            "16/16 [==============================] - 1s 55ms/step - loss: 0.0050 - accuracy: 0.9995 - mae: 0.0045 - binary_crossentropy: 0.0050 - val_loss: 1.6408 - val_accuracy: 0.7234 - val_mae: 0.2801 - val_binary_crossentropy: 1.6408\n",
            "Epoch 99/100\n",
            "16/16 [==============================] - 1s 53ms/step - loss: 0.0052 - accuracy: 0.9993 - mae: 0.0045 - binary_crossentropy: 0.0052 - val_loss: 1.6521 - val_accuracy: 0.7234 - val_mae: 0.2803 - val_binary_crossentropy: 1.6521\n",
            "Epoch 100/100\n",
            "16/16 [==============================] - 1s 54ms/step - loss: 0.0053 - accuracy: 0.9988 - mae: 0.0044 - binary_crossentropy: 0.0053 - val_loss: 1.6612 - val_accuracy: 0.7224 - val_mae: 0.2805 - val_binary_crossentropy: 1.6612\n"
          ]
        },
        {
          "output_type": "execute_result",
          "data": {
            "text/plain": [
              "<keras.callbacks.History at 0x7fd9d04e8df0>"
            ]
          },
          "metadata": {},
          "execution_count": 196
        }
      ]
    },
    {
      "cell_type": "code",
      "source": [
        "y_pred_lem = classifier.predict(Xtfval_tensor_lem)\n",
        "y_pred_lem = (y_pred_lem > 0.5)\n",
        "print(y_pred_lem)"
      ],
      "metadata": {
        "id": "QXTF6RE7P5D1",
        "outputId": "8bd547ab-aba9-4ae2-9520-b1f1aa230112",
        "colab": {
          "base_uri": "https://localhost:8080/"
        }
      },
      "execution_count": null,
      "outputs": [
        {
          "output_type": "stream",
          "name": "stdout",
          "text": [
            "60/60 [==============================] - 0s 3ms/step\n",
            "[[False]\n",
            " [False]\n",
            " [ True]\n",
            " ...\n",
            " [ True]\n",
            " [False]\n",
            " [False]]\n"
          ]
        }
      ]
    },
    {
      "cell_type": "code",
      "source": [
        "from sklearn.metrics import confusion_matrix, ConfusionMatrixDisplay, accuracy_score\n",
        "cm = ConfusionMatrixDisplay(confusion_matrix(y_val_lem, y_pred_lem), display_labels=['True', 'False'])\n",
        "cm.plot()\n",
        "'Accuracy Score on Validation Data:', accuracy_score(y_val_lem, y_pred_lem)*100"
      ],
      "metadata": {
        "id": "wd7ZQPRVQGme",
        "outputId": "37376cc9-4b1f-437e-8156-0a4b013729c8",
        "colab": {
          "base_uri": "https://localhost:8080/",
          "height": 296
        }
      },
      "execution_count": null,
      "outputs": [
        {
          "output_type": "execute_result",
          "data": {
            "text/plain": [
              "('Accuracy Score on Validation Data:', 72.2397476340694)"
            ]
          },
          "metadata": {},
          "execution_count": 198
        },
        {
          "output_type": "display_data",
          "data": {
            "text/plain": [
              "<Figure size 432x288 with 2 Axes>"
            ],
            "image/png": "[encoded data removed]"
          },
          "metadata": {
            "needs_background": "light"
          }
        }
      ]
    },
    {
      "cell_type": "code",
      "source": [
        "err = fit.history['binary_crossentropy']\n",
        "val_err = fit.history['val_binary_crossentropy']\n",
        "epochs = range(1, len(err) + 1)\n",
        "plt.plot(epochs, err, '-', label='Training BCE')\n",
        "plt.plot(epochs, val_err, ':', label='Validation BCE')\n",
        "plt.title('Training and Validation Accuracy')\n",
        "plt.xlabel('Epoch')\n",
        "plt.ylabel('Binary Cross Entropy')\n",
        "plt.legend(loc='upper right')\n",
        "plt.plot()"
      ],
      "metadata": {
        "colab": {
          "base_uri": "https://localhost:8080/",
          "height": 312
        },
        "id": "RrsI72HYISs5",
        "outputId": "e5f40c9f-b6d1-4986-e0dc-ced1c4372dad"
      },
      "execution_count": null,
      "outputs": [
        {
          "output_type": "execute_result",
          "data": {
            "text/plain": [
              "[]"
            ]
          },
          "metadata": {},
          "execution_count": 199
        },
        {
          "output_type": "display_data",
          "data": {
            "text/plain": [
              "<Figure size 432x288 with 1 Axes>"
            ],
            "image/png": "[encoded data removed]"
          },
          "metadata": {
            "needs_background": "light"
          }
        }
      ]
    },
    {
      "cell_type": "markdown",
      "source": [
        "After using a Neural Net with the same parameters, we can see a fairly sizeable increase in validation accuracy, from 71 to ~72 % accuracy by using lemmatization. We Can clearly see the model starts to overfit around 15 epochs. Lets see it with less epochs."
      ],
      "metadata": {
        "id": "NAj7yno_Qsug"
      }
    },
    {
      "cell_type": "code",
      "source": [
        "fit = classifier.fit(Xtftrain_tensor_lem, y_train_lem, validation_data=(Xtfval_tensor_lem, y_val_lem), batch_size=500, epochs=15)\n",
        "fit"
      ],
      "metadata": {
        "colab": {
          "base_uri": "https://localhost:8080/"
        },
        "id": "7x1QlGnle_jz",
        "outputId": "8c9c3501-9543-45b6-f5cb-7f9c7be81995"
      },
      "execution_count": null,
      "outputs": [
        {
          "output_type": "stream",
          "name": "stdout",
          "text": [
            "Epoch 1/15\n",
            "16/16 [==============================] - 6s 67ms/step - loss: 0.6922 - accuracy: 0.5655 - mae: 0.4995 - binary_crossentropy: 0.6922 - val_loss: 0.6898 - val_accuracy: 0.7103 - val_mae: 0.4983 - val_binary_crossentropy: 0.6898\n",
            "Epoch 2/15\n",
            "16/16 [==============================] - 1s 51ms/step - loss: 0.6840 - accuracy: 0.7528 - mae: 0.4954 - binary_crossentropy: 0.6840 - val_loss: 0.6824 - val_accuracy: 0.7476 - val_mae: 0.4945 - val_binary_crossentropy: 0.6824\n",
            "Epoch 3/15\n",
            "16/16 [==============================] - 1s 54ms/step - loss: 0.6693 - accuracy: 0.8052 - mae: 0.4877 - binary_crossentropy: 0.6693 - val_loss: 0.6705 - val_accuracy: 0.7660 - val_mae: 0.4882 - val_binary_crossentropy: 0.6705\n",
            "Epoch 4/15\n",
            "16/16 [==============================] - 1s 53ms/step - loss: 0.6457 - accuracy: 0.8397 - mae: 0.4750 - binary_crossentropy: 0.6457 - val_loss: 0.6527 - val_accuracy: 0.7629 - val_mae: 0.4784 - val_binary_crossentropy: 0.6527\n",
            "Epoch 5/15\n",
            "16/16 [==============================] - 1s 53ms/step - loss: 0.6118 - accuracy: 0.8577 - mae: 0.4558 - binary_crossentropy: 0.6118 - val_loss: 0.6292 - val_accuracy: 0.7629 - val_mae: 0.4645 - val_binary_crossentropy: 0.6292\n",
            "Epoch 6/15\n",
            "16/16 [==============================] - 1s 53ms/step - loss: 0.5652 - accuracy: 0.8712 - mae: 0.4278 - binary_crossentropy: 0.5652 - val_loss: 0.6002 - val_accuracy: 0.7624 - val_mae: 0.4457 - val_binary_crossentropy: 0.6002\n",
            "Epoch 7/15\n",
            "16/16 [==============================] - 1s 55ms/step - loss: 0.5135 - accuracy: 0.8796 - mae: 0.3939 - binary_crossentropy: 0.5135 - val_loss: 0.5697 - val_accuracy: 0.7581 - val_mae: 0.4233 - val_binary_crossentropy: 0.5697\n",
            "Epoch 8/15\n",
            "16/16 [==============================] - 1s 50ms/step - loss: 0.4532 - accuracy: 0.8884 - mae: 0.3522 - binary_crossentropy: 0.4532 - val_loss: 0.5419 - val_accuracy: 0.7587 - val_mae: 0.3996 - val_binary_crossentropy: 0.5419\n",
            "Epoch 9/15\n",
            "16/16 [==============================] - 1s 53ms/step - loss: 0.4008 - accuracy: 0.8989 - mae: 0.3122 - binary_crossentropy: 0.4008 - val_loss: 0.5208 - val_accuracy: 0.7613 - val_mae: 0.3777 - val_binary_crossentropy: 0.5208\n",
            "Epoch 10/15\n",
            "16/16 [==============================] - 1s 50ms/step - loss: 0.3549 - accuracy: 0.9061 - mae: 0.2773 - binary_crossentropy: 0.3549 - val_loss: 0.5070 - val_accuracy: 0.7608 - val_mae: 0.3585 - val_binary_crossentropy: 0.5070\n",
            "Epoch 11/15\n",
            "16/16 [==============================] - 1s 53ms/step - loss: 0.3136 - accuracy: 0.9141 - mae: 0.2443 - binary_crossentropy: 0.3136 - val_loss: 0.5002 - val_accuracy: 0.7597 - val_mae: 0.3430 - val_binary_crossentropy: 0.5002\n",
            "Epoch 12/15\n",
            "16/16 [==============================] - 1s 53ms/step - loss: 0.2768 - accuracy: 0.9236 - mae: 0.2153 - binary_crossentropy: 0.2768 - val_loss: 0.4985 - val_accuracy: 0.7587 - val_mae: 0.3309 - val_binary_crossentropy: 0.4985\n",
            "Epoch 13/15\n",
            "16/16 [==============================] - 1s 53ms/step - loss: 0.2470 - accuracy: 0.9323 - mae: 0.1922 - binary_crossentropy: 0.2470 - val_loss: 0.5012 - val_accuracy: 0.7555 - val_mae: 0.3213 - val_binary_crossentropy: 0.5012\n",
            "Epoch 14/15\n",
            "16/16 [==============================] - 1s 55ms/step - loss: 0.2210 - accuracy: 0.9436 - mae: 0.1722 - binary_crossentropy: 0.2210 - val_loss: 0.5081 - val_accuracy: 0.7576 - val_mae: 0.3136 - val_binary_crossentropy: 0.5081\n",
            "Epoch 15/15\n",
            "16/16 [==============================] - 1s 51ms/step - loss: 0.1983 - accuracy: 0.9493 - mae: 0.1546 - binary_crossentropy: 0.1983 - val_loss: 0.5166 - val_accuracy: 0.7555 - val_mae: 0.3077 - val_binary_crossentropy: 0.5166\n"
          ]
        },
        {
          "output_type": "execute_result",
          "data": {
            "text/plain": [
              "<keras.callbacks.History at 0x7fd9d39a4a00>"
            ]
          },
          "metadata": {},
          "execution_count": 203
        }
      ]
    },
    {
      "cell_type": "code",
      "source": [
        "err = fit.history['binary_crossentropy']\n",
        "val_err = fit.history['val_binary_crossentropy']\n",
        "epochs = range(1, len(err) + 1)\n",
        "plt.plot(epochs, err, '-', label='Training BCE')\n",
        "plt.plot(epochs, val_err, ':', label='Validation BCE')\n",
        "plt.title('Training and Validation Loss')\n",
        "plt.xlabel('Epoch')\n",
        "plt.ylabel('Binary Cross Entropy')\n",
        "plt.legend(loc='upper right')\n",
        "plt.plot()"
      ],
      "metadata": {
        "colab": {
          "base_uri": "https://localhost:8080/",
          "height": 312
        },
        "id": "SgnWsVcgfawv",
        "outputId": "99328ce5-9540-4f89-df1d-f8bd6aa11660"
      },
      "execution_count": null,
      "outputs": [
        {
          "output_type": "execute_result",
          "data": {
            "text/plain": [
              "[]"
            ]
          },
          "metadata": {},
          "execution_count": 207
        },
        {
          "output_type": "display_data",
          "data": {
            "text/plain": [
              "<Figure size 432x288 with 1 Axes>"
            ],
            "image/png": "[encoded data removed]"
          },
          "metadata": {
            "needs_background": "light"
          }
        }
      ]
    },
    {
      "cell_type": "code",
      "source": [
        "y_pred_lem = classifier.predict(Xtfval_tensor_lem)\n",
        "y_pred_lem = (y_pred_lem > 0.5)\n",
        "cm = ConfusionMatrixDisplay(confusion_matrix(y_val_lem, y_pred_lem), display_labels=['True', 'False'])\n",
        "cm.plot()\n",
        "'Accuracy Score on Validation Data:', accuracy_score(y_val_lem, y_pred_lem)*100"
      ],
      "metadata": {
        "colab": {
          "base_uri": "https://localhost:8080/",
          "height": 314
        },
        "id": "Cy2EaGllims4",
        "outputId": "ea48fec6-0777-4001-c6bb-bece0f3c6556"
      },
      "execution_count": null,
      "outputs": [
        {
          "output_type": "stream",
          "name": "stdout",
          "text": [
            "60/60 [==============================] - 1s 5ms/step\n"
          ]
        },
        {
          "output_type": "execute_result",
          "data": {
            "text/plain": [
              "('Accuracy Score on Validation Data:', 75.55205047318611)"
            ]
          },
          "metadata": {},
          "execution_count": 208
        },
        {
          "output_type": "display_data",
          "data": {
            "text/plain": [
              "<Figure size 432x288 with 2 Axes>"
            ],
            "image/png": "[encoded data removed]"
          },
          "metadata": {
            "needs_background": "light"
          }
        }
      ]
    },
    {
      "cell_type": "markdown",
      "source": [
        "It looks like it actually begins overfitting around 4 epochs. I'll try again. But the accuracy is much better at 75%"
      ],
      "metadata": {
        "id": "fAWJUiquf5jM"
      }
    },
    {
      "cell_type": "code",
      "source": [
        "fit = classifier.fit(Xtftrain_tensor_lem, y_train_lem, validation_data=(Xtfval_tensor_lem, y_val_lem), batch_size=500, epochs=4)\n",
        "fit"
      ],
      "metadata": {
        "colab": {
          "base_uri": "https://localhost:8080/"
        },
        "id": "p8BxI4abi5-A",
        "outputId": "f29f1e4e-58c4-48ce-cb3a-2dd9f257795c"
      },
      "execution_count": null,
      "outputs": [
        {
          "output_type": "stream",
          "name": "stdout",
          "text": [
            "Epoch 1/4\n",
            "16/16 [==============================] - 2s 115ms/step - loss: 0.0725 - accuracy: 0.9866 - mae: 0.0596 - binary_crossentropy: 0.0725 - val_loss: 0.6891 - val_accuracy: 0.7424 - val_mae: 0.2851 - val_binary_crossentropy: 0.6891\n",
            "Epoch 2/4\n",
            "16/16 [==============================] - 1s 88ms/step - loss: 0.0696 - accuracy: 0.9869 - mae: 0.0566 - binary_crossentropy: 0.0696 - val_loss: 0.7071 - val_accuracy: 0.7434 - val_mae: 0.2842 - val_binary_crossentropy: 0.7071\n",
            "Epoch 3/4\n",
            "16/16 [==============================] - 1s 68ms/step - loss: 0.0655 - accuracy: 0.9883 - mae: 0.0532 - binary_crossentropy: 0.0655 - val_loss: 0.7248 - val_accuracy: 0.7413 - val_mae: 0.2840 - val_binary_crossentropy: 0.7248\n",
            "Epoch 4/4\n",
            "16/16 [==============================] - 1s 51ms/step - loss: 0.0585 - accuracy: 0.9908 - mae: 0.0482 - binary_crossentropy: 0.0585 - val_loss: 0.7425 - val_accuracy: 0.7397 - val_mae: 0.2836 - val_binary_crossentropy: 0.7425\n"
          ]
        },
        {
          "output_type": "execute_result",
          "data": {
            "text/plain": [
              "<keras.callbacks.History at 0x7fd9e81b7b80>"
            ]
          },
          "metadata": {},
          "execution_count": 214
        }
      ]
    },
    {
      "cell_type": "code",
      "source": [
        "y_pred_lem = classifier.predict(Xtfval_tensor_lem)\n",
        "y_pred_lem = (y_pred_lem > 0.5)\n",
        "cm = ConfusionMatrixDisplay(confusion_matrix(y_val_lem, y_pred_lem), display_labels=['True', 'False'])\n",
        "cm.plot()\n",
        "'Accuracy Score on Validation Data:', accuracy_score(y_val_lem, y_pred_lem)*100"
      ],
      "metadata": {
        "colab": {
          "base_uri": "https://localhost:8080/",
          "height": 314
        },
        "id": "0JyjJW_gjDjW",
        "outputId": "7ad2615a-ef17-4a92-d0b9-f83e1471c600"
      },
      "execution_count": null,
      "outputs": [
        {
          "output_type": "stream",
          "name": "stdout",
          "text": [
            "60/60 [==============================] - 0s 3ms/step\n"
          ]
        },
        {
          "output_type": "execute_result",
          "data": {
            "text/plain": [
              "('Accuracy Score on Validation Data:', 73.97476340694006)"
            ]
          },
          "metadata": {},
          "execution_count": 215
        },
        {
          "output_type": "display_data",
          "data": {
            "text/plain": [
              "<Figure size 432x288 with 2 Axes>"
            ],
            "image/png": "[encoded data removed]"
          },
          "metadata": {
            "needs_background": "light"
          }
        }
      ]
    },
    {
      "cell_type": "markdown",
      "source": [
        "We only have about 74% validation accuracy with 4 epochs. Lets try a Random Forest again but with more estimators just to make sure we really need a neural net."
      ],
      "metadata": {
        "id": "5mq2ORKgjTq5"
      }
    },
    {
      "cell_type": "code",
      "source": [
        "rf = RandomForest(Xtrain_tense_lem, y_train_lem)\n",
        "rf.rForestClass(Xval_tense_lem, y_val_lem, 100)"
      ],
      "metadata": {
        "colab": {
          "base_uri": "https://localhost:8080/",
          "height": 608
        },
        "id": "9wf0u77cgD5S",
        "outputId": "8498fbac-648c-479d-d283-99dc245de3e9"
      },
      "execution_count": null,
      "outputs": [
        {
          "output_type": "stream",
          "name": "stdout",
          "text": [
            "RF Accuracy on Training Data:  99.94740993952142 %\n",
            "RF Accuracy on Validation Data:  70.76761303890642 %\n"
          ]
        },
        {
          "output_type": "display_data",
          "data": {
            "text/plain": [
              "<Figure size 432x288 with 2 Axes>"
            ],
            "image/png": "[encoded data removed]"
          },
          "metadata": {
            "needs_background": "light"
          }
        },
        {
          "output_type": "display_data",
          "data": {
            "text/plain": [
              "<Figure size 432x288 with 2 Axes>"
            ],
            "image/png": "[encoded data removed]"
          },
          "metadata": {
            "needs_background": "light"
          }
        }
      ]
    },
    {
      "cell_type": "markdown",
      "source": [
        "It looks like a Neural Net does perform better on these data, but the model is still not very accurate."
      ],
      "metadata": {
        "id": "MzT9hwRYkGcr"
      }
    },
    {
      "cell_type": "markdown",
      "source": [
        "Now lets try a Recurrent Neural Network, I will use Long Short Term Memory LSTM and then Gated Recurent Unit GRU."
      ],
      "metadata": {
        "id": "4FtZhASK_6ZI"
      }
    },
    {
      "cell_type": "code",
      "source": [
        "from tensorflow.keras import layers\n",
        "classifier2 = Sequential()\n",
        "classifier2.add(layers.Embedding(input_dim=14162, output_dim=20))\n",
        "classifier2.add(layers.LSTM(128))\n",
        "classifier2.add(layers.Dense(20))\n",
        "classifier2.compile(optimizer='adam', loss='binary_crossentropy', metrics=['accuracy'])\n",
        "classifier2.summary()"
      ],
      "metadata": {
        "id": "7qEwHMdh6FOD",
        "outputId": "3b142bc1-fccc-465d-c84e-1d79e4b87f66",
        "colab": {
          "base_uri": "https://localhost:8080/"
        }
      },
      "execution_count": null,
      "outputs": [
        {
          "output_type": "stream",
          "name": "stdout",
          "text": [
            "Model: \"sequential\"\n",
            "_________________________________________________________________\n",
            " Layer (type)                Output Shape              Param #   \n",
            "=================================================================\n",
            " embedding (Embedding)       (None, None, 20)          283240    \n",
            "                                                                 \n",
            " lstm (LSTM)                 (None, 128)               76288     \n",
            "                                                                 \n",
            " dense (Dense)               (None, 20)                2580      \n",
            "                                                                 \n",
            "=================================================================\n",
            "Total params: 362,108\n",
            "Trainable params: 362,108\n",
            "Non-trainable params: 0\n",
            "_________________________________________________________________\n"
          ]
        }
      ]
    },
    {
      "cell_type": "code",
      "source": [
        "classifier2.fit(Xtftrain_tensor_lem, y_train_lem, batch_size=200, epochs=5)"
      ],
      "metadata": {
        "id": "Z00E1U-79nx8",
        "outputId": "26d666ea-a684-437d-e9ea-7b448f067757",
        "colab": {
          "base_uri": "https://localhost:8080/"
        }
      },
      "execution_count": null,
      "outputs": [
        {
          "output_type": "stream",
          "name": "stdout",
          "text": [
            "Epoch 1/5\n"
          ]
        }
      ]
    },
    {
      "cell_type": "markdown",
      "source": [
        "The model crashed after using all available RAM... I'll have to try another computer."
      ],
      "metadata": {
        "id": "flgBw2zg2xQ1"
      }
    },
    {
      "cell_type": "markdown",
      "source": [
        "Let's try using Weights and Biases"
      ],
      "metadata": {
        "id": "tKNpbwcmstP5"
      }
    },
    {
      "cell_type": "code",
      "source": [
        "import tensorflow as tf\n",
        "from tensorflow import keras\n",
        "from tensorflow.keras.datasets import cifar10\n",
        "\n",
        "import os\n",
        "import numpy as np\n",
        "import pandas as pd\n",
        "import matplotlib.pyplot as plt"
      ],
      "metadata": {
        "id": "CZ0aV9NLlxxF"
      },
      "execution_count": null,
      "outputs": []
    },
    {
      "cell_type": "code",
      "source": [
        "%%capture\n",
        "!pip install wandb"
      ],
      "metadata": {
        "id": "jDNCICsTly8s"
      },
      "execution_count": null,
      "outputs": []
    },
    {
      "cell_type": "code",
      "source": [
        "import wandb\n",
        "from wandb.keras import WandbCallback\n",
        "\n",
        "wandb.login()"
      ],
      "metadata": {
        "colab": {
          "base_uri": "https://localhost:8080/",
          "height": 158
        },
        "id": "47Iu-Qtgl5y5",
        "outputId": "2b69b362-b7bf-4af0-bfce-8b0096917bd8"
      },
      "execution_count": null,
      "outputs": [
        {
          "output_type": "stream",
          "name": "stderr",
          "text": [
            "ERROR:wandb.jupyter:Failed to detect the name of this notebook, you can set it manually with the WANDB_NOTEBOOK_NAME environment variable to enable code saving.\n"
          ]
        },
        {
          "output_type": "display_data",
          "data": {
            "text/plain": [
              "<IPython.core.display.Javascript object>"
            ],
            "application/javascript": [
              "\n",
              "        window._wandbApiKey = new Promise((resolve, reject) => {\n",
              "            function loadScript(url) {\n",
              "            return new Promise(function(resolve, reject) {\n",
              "                let newScript = document.createElement(\"script\");\n",
              "                newScript.onerror = reject;\n",
              "                newScript.onload = resolve;\n",
              "                document.body.appendChild(newScript);\n",
              "                newScript.src = url;\n",
              "            });\n",
              "            }\n",
              "            loadScript(\"https://cdn.jsdelivr.net/npm/postmate/build/postmate.min.js\").then(() => {\n",
              "            const iframe = document.createElement('iframe')\n",
              "            iframe.style.cssText = \"width:0;height:0;border:none\"\n",
              "            document.body.appendChild(iframe)\n",
              "            const handshake = new Postmate({\n",
              "                container: iframe,\n",
              "                url: 'https://wandb.ai/authorize'\n",
              "            });\n",
              "            const timeout = setTimeout(() => reject(\"Couldn't auto authenticate\"), 5000)\n",
              "            handshake.then(function(child) {\n",
              "                child.on('authorize', data => {\n",
              "                    clearTimeout(timeout)\n",
              "                    resolve(data)\n",
              "                });\n",
              "            });\n",
              "            })\n",
              "        });\n",
              "    "
            ]
          },
          "metadata": {}
        },
        {
          "output_type": "stream",
          "name": "stderr",
          "text": [
            "\u001b[34m\u001b[1mwandb\u001b[0m: Logging into wandb.ai. (Learn how to deploy a W&B server locally: https://wandb.me/wandb-server)\n",
            "\u001b[34m\u001b[1mwandb\u001b[0m: You can find your API key in your browser here: https://wandb.ai/authorize\n",
            "wandb: Paste an API key from your profile and hit enter, or press ctrl+c to quit: "
          ]
        },
        {
          "name": "stdout",
          "output_type": "stream",
          "text": [
            "··········\n"
          ]
        },
        {
          "output_type": "stream",
          "name": "stderr",
          "text": [
            "\u001b[34m\u001b[1mwandb\u001b[0m: Appending key for api.wandb.ai to your netrc file: /root/.netrc\n"
          ]
        },
        {
          "output_type": "execute_result",
          "data": {
            "text/plain": [
              "True"
            ]
          },
          "metadata": {},
          "execution_count": 218
        }
      ]
    },
    {
      "cell_type": "code",
      "source": [
        "# Prepare the training dataset\n",
        "BATCH_SIZE = 200\n",
        "# (x_train, y_train), (x_test, y_test) = keras.datasets.mnist.load_data()\n",
        "# x_train = np.reshape(x_train, (-1, 784))\n",
        "# x_test = np.reshape(x_test, (-1, 784))\n",
        "\n",
        "# build input pipeline using tf.data\n",
        "train_dataset = tf.data.Dataset.from_tensor_slices((Xtftrain_tensor_lem, y_train_lem))\n",
        "train_dataset = train_dataset.shuffle(buffer_size=1024).batch(BATCH_SIZE)\n",
        "\n",
        "val_dataset = tf.data.Dataset.from_tensor_slices((Xtfval_tensor_lem, y_val_lem))\n",
        "val_dataset = val_dataset.batch(BATCH_SIZE)"
      ],
      "metadata": {
        "id": "mCItUoorpD_n"
      },
      "execution_count": null,
      "outputs": []
    },
    {
      "cell_type": "code",
      "source": [
        "def make_model():\n",
        "    inputs = keras.Input(shape=(None, 200, 14162), name=\"digits\")\n",
        "    x1 = keras.layers.Dense(64, activation=\"relu\")(inputs)\n",
        "    x2 = keras.layers.Dense(64, activation=\"relu\")(x1)\n",
        "    outputs = keras.layers.Dense(10, name=\"predictions\")(x2)\n",
        "\n",
        "    return keras.Model(inputs=inputs, outputs=outputs)"
      ],
      "metadata": {
        "id": "N_0_XOwxplsp"
      },
      "execution_count": null,
      "outputs": []
    },
    {
      "cell_type": "code",
      "source": [
        "def train_step(x, y, model, optimizer, loss_fn, train_acc_metric):\n",
        "    with tf.GradientTape() as tape:\n",
        "        logits = model(x, training=True)\n",
        "        loss_value = loss_fn(y, logits)\n",
        "\n",
        "    grads = tape.gradient(loss_value, model.trainable_weights)\n",
        "    optimizer.apply_gradients(zip(grads, model.trainable_weights))\n",
        "\n",
        "    train_acc_metric.update_state(y, logits)\n",
        "\n",
        "    return loss_value\n",
        "\n",
        "def test_step(x, y, model, loss_fn, val_acc_metric):\n",
        "    val_logits = model(x, training=False)\n",
        "    loss_value = loss_fn(y, val_logits)\n",
        "    val_acc_metric.update_state(y, val_logits)\n",
        "\n",
        "    return loss_value"
      ],
      "metadata": {
        "id": "5eYMe7rXmnIx"
      },
      "execution_count": null,
      "outputs": []
    },
    {
      "cell_type": "code",
      "source": [
        "def train(train_dataset, val_dataset,  model, optimizer,\n",
        "          train_acc_metric, val_acc_metric,\n",
        "          epochs=20,  log_step=200, val_log_step=50):\n",
        "  \n",
        "    for epoch in range(epochs):\n",
        "        print(\"\\nStart of epoch %d\" % (epoch,))\n",
        "\n",
        "        train_loss = []   \n",
        "        val_loss = []\n",
        "\n",
        "        # Iterate over the batches of the dataset\n",
        "        for step, (x_batch_train, y_batch_train) in enumerate(train_dataset):\n",
        "            loss_value = train_step(x_batch_train, y_batch_train, \n",
        "                                    model, optimizer, \n",
        "                                    loss_fn, train_acc_metric)\n",
        "            train_loss.append(float(loss_value))\n",
        "\n",
        "        # Run a validation loop at the end of each epoch\n",
        "        for step, (x_batch_val, y_batch_val) in enumerate(val_dataset):\n",
        "            val_loss_value = test_step(x_batch_val, y_batch_val, \n",
        "                                       model, loss_fn, \n",
        "                                       val_acc_metric)\n",
        "            val_loss.append(float(val_loss_value))\n",
        "            \n",
        "        # Display metrics at the end of each epoch\n",
        "        train_acc = train_acc_metric.result()\n",
        "        print(\"Training acc over epoch: %.4f\" % (float(train_acc),))\n",
        "\n",
        "        val_acc = val_acc_metric.result()\n",
        "        print(\"Validation acc: %.4f\" % (float(val_acc),))\n",
        "\n",
        "        # Reset metrics at the end of each epoch\n",
        "        train_acc_metric.reset_states()\n",
        "        val_acc_metric.reset_states()\n",
        "\n",
        "        # ⭐: log metrics using wandb.log\n",
        "        wandb.log({'epochs': epoch,\n",
        "                   'loss': np.mean(train_loss),\n",
        "                   'acc': float(train_acc), \n",
        "                   'val_loss': np.mean(val_loss),\n",
        "                   'val_acc':float(val_acc)})"
      ],
      "metadata": {
        "id": "casLyHo8nzQu"
      },
      "execution_count": null,
      "outputs": []
    },
    {
      "cell_type": "code",
      "source": [
        "# initialize wandb with your project name and optionally with configutations.\n",
        "# play around with the config values and see the result on your wandb dashboard.\n",
        "config = {\n",
        "              \"learning_rate\": 0.001,\n",
        "              \"epochs\": 100,\n",
        "              \"batch_size\": 200,\n",
        "              \"log_step\": 200,\n",
        "              \"val_log_step\": 50\n",
        "              \n",
        "           } #\"architecture\": \"CNN\", \"dataset\": \"CIFAR-10\"\n",
        "              \n",
        "\n",
        "run = wandb.init(project='my-tf-integration', config=config)\n",
        "config = wandb.config\n",
        "\n",
        "# Initialize model.\n",
        "model = make_model()\n",
        "\n",
        "# Instantiate an optimizer to train the model.\n",
        "optimizer = keras.optimizers.SGD(learning_rate=config.learning_rate)\n",
        "# Instantiate a loss function.\n",
        "loss_fn = keras.losses.SparseCategoricalCrossentropy(from_logits=True)\n",
        "\n",
        "# Prepare the metrics.\n",
        "train_acc_metric = keras.metrics.SparseCategoricalAccuracy()\n",
        "val_acc_metric = keras.metrics.SparseCategoricalAccuracy()\n",
        "\n",
        "train(train_dataset,\n",
        "      val_dataset, \n",
        "      model,\n",
        "      optimizer,\n",
        "      train_acc_metric,\n",
        "      val_acc_metric,\n",
        "      epochs=config.epochs, \n",
        "      log_step=config.log_step, \n",
        "      val_log_step=config.val_log_step)\n",
        "\n",
        "run.finish()  # In Jupyter/Colab, let us know you're finished!"
      ],
      "metadata": {
        "colab": {
          "base_uri": "https://localhost:8080/",
          "height": 1000
        },
        "id": "yVZUh1vwoMAb",
        "outputId": "aa49da34-f750-4762-8429-b4fb799f4fe8"
      },
      "execution_count": null,
      "outputs": [
        {
          "output_type": "display_data",
          "data": {
            "text/plain": [
              "<IPython.core.display.HTML object>"
            ],
            "text/html": [
              "Tracking run with wandb version 0.13.5"
            ]
          },
          "metadata": {}
        },
        {
          "output_type": "display_data",
          "data": {
            "text/plain": [
              "<IPython.core.display.HTML object>"
            ],
            "text/html": [
              "Run data is saved locally in <code>/content/wandb/run-20221203_202646-1umrxxwi</code>"
            ]
          },
          "metadata": {}
        },
        {
          "output_type": "display_data",
          "data": {
            "text/plain": [
              "<IPython.core.display.HTML object>"
            ],
            "text/html": [
              "Syncing run <strong><a href=\"https://wandb.ai/phmorris610/my-tf-integration/runs/1umrxxwi\" target=\"_blank\">sweet-violet-4</a></strong> to <a href=\"https://wandb.ai/phmorris610/my-tf-integration\" target=\"_blank\">Weights & Biases</a> (<a href=\"https://wandb.me/run\" target=\"_blank\">docs</a>)<br/>"
            ]
          },
          "metadata": {}
        },
        {
          "output_type": "stream",
          "name": "stdout",
          "text": [
            "\n",
            "Start of epoch 0\n",
            "Training acc over epoch: 0.4377\n",
            "Validation acc: 0.4769\n",
            "\n",
            "Start of epoch 1\n",
            "Training acc over epoch: 0.5160\n",
            "Validation acc: 0.4784\n",
            "\n",
            "Start of epoch 2\n",
            "Training acc over epoch: 0.5095\n",
            "Validation acc: 0.4805\n",
            "\n",
            "Start of epoch 3\n",
            "Training acc over epoch: 0.5029\n",
            "Validation acc: 0.4753\n",
            "\n",
            "Start of epoch 4\n",
            "Training acc over epoch: 0.4976\n",
            "Validation acc: 0.4758\n",
            "\n",
            "Start of epoch 5\n",
            "Training acc over epoch: 0.4982\n",
            "Validation acc: 0.4742\n",
            "\n",
            "Start of epoch 6\n",
            "Training acc over epoch: 0.4972\n",
            "Validation acc: 0.4748\n",
            "\n",
            "Start of epoch 7\n",
            "Training acc over epoch: 0.4972\n",
            "Validation acc: 0.4748\n",
            "\n",
            "Start of epoch 8\n",
            "Training acc over epoch: 0.4971\n",
            "Validation acc: 0.4748\n",
            "\n",
            "Start of epoch 9\n",
            "Training acc over epoch: 0.4971\n",
            "Validation acc: 0.4748\n",
            "\n",
            "Start of epoch 10\n",
            "Training acc over epoch: 0.4971\n",
            "Validation acc: 0.4748\n",
            "\n",
            "Start of epoch 11\n",
            "Training acc over epoch: 0.4971\n",
            "Validation acc: 0.4748\n",
            "\n",
            "Start of epoch 12\n",
            "Training acc over epoch: 0.4971\n",
            "Validation acc: 0.4748\n",
            "\n",
            "Start of epoch 13\n",
            "Training acc over epoch: 0.4971\n",
            "Validation acc: 0.4748\n",
            "\n",
            "Start of epoch 14\n",
            "Training acc over epoch: 0.4971\n",
            "Validation acc: 0.4748\n",
            "\n",
            "Start of epoch 15\n",
            "Training acc over epoch: 0.4971\n",
            "Validation acc: 0.4748\n",
            "\n",
            "Start of epoch 16\n",
            "Training acc over epoch: 0.4971\n",
            "Validation acc: 0.4748\n",
            "\n",
            "Start of epoch 17\n",
            "Training acc over epoch: 0.4971\n",
            "Validation acc: 0.4748\n",
            "\n",
            "Start of epoch 18\n",
            "Training acc over epoch: 0.4971\n",
            "Validation acc: 0.4748\n",
            "\n",
            "Start of epoch 19\n",
            "Training acc over epoch: 0.4971\n",
            "Validation acc: 0.4748\n",
            "\n",
            "Start of epoch 20\n",
            "Training acc over epoch: 0.4971\n",
            "Validation acc: 0.4748\n",
            "\n",
            "Start of epoch 21\n",
            "Training acc over epoch: 0.4971\n",
            "Validation acc: 0.4748\n",
            "\n",
            "Start of epoch 22\n",
            "Training acc over epoch: 0.4971\n",
            "Validation acc: 0.4748\n",
            "\n",
            "Start of epoch 23\n",
            "Training acc over epoch: 0.4971\n",
            "Validation acc: 0.4748\n",
            "\n",
            "Start of epoch 24\n",
            "Training acc over epoch: 0.4971\n",
            "Validation acc: 0.4748\n",
            "\n",
            "Start of epoch 25\n",
            "Training acc over epoch: 0.4971\n",
            "Validation acc: 0.4748\n",
            "\n",
            "Start of epoch 26\n",
            "Training acc over epoch: 0.4971\n",
            "Validation acc: 0.4748\n",
            "\n",
            "Start of epoch 27\n",
            "Training acc over epoch: 0.4971\n",
            "Validation acc: 0.4748\n",
            "\n",
            "Start of epoch 28\n",
            "Training acc over epoch: 0.4971\n",
            "Validation acc: 0.4748\n",
            "\n",
            "Start of epoch 29\n",
            "Training acc over epoch: 0.4971\n",
            "Validation acc: 0.4748\n",
            "\n",
            "Start of epoch 30\n",
            "Training acc over epoch: 0.4971\n",
            "Validation acc: 0.4748\n",
            "\n",
            "Start of epoch 31\n",
            "Training acc over epoch: 0.4971\n",
            "Validation acc: 0.4748\n",
            "\n",
            "Start of epoch 32\n",
            "Training acc over epoch: 0.4971\n",
            "Validation acc: 0.4748\n",
            "\n",
            "Start of epoch 33\n",
            "Training acc over epoch: 0.4971\n",
            "Validation acc: 0.4748\n",
            "\n",
            "Start of epoch 34\n",
            "Training acc over epoch: 0.4971\n",
            "Validation acc: 0.4748\n",
            "\n",
            "Start of epoch 35\n",
            "Training acc over epoch: 0.4971\n",
            "Validation acc: 0.4748\n",
            "\n",
            "Start of epoch 36\n",
            "Training acc over epoch: 0.4971\n",
            "Validation acc: 0.4748\n",
            "\n",
            "Start of epoch 37\n",
            "Training acc over epoch: 0.4971\n",
            "Validation acc: 0.4748\n",
            "\n",
            "Start of epoch 38\n",
            "Training acc over epoch: 0.4971\n",
            "Validation acc: 0.4748\n",
            "\n",
            "Start of epoch 39\n",
            "Training acc over epoch: 0.4971\n",
            "Validation acc: 0.4748\n",
            "\n",
            "Start of epoch 40\n",
            "Training acc over epoch: 0.4971\n",
            "Validation acc: 0.4748\n",
            "\n",
            "Start of epoch 41\n",
            "Training acc over epoch: 0.4971\n",
            "Validation acc: 0.4748\n",
            "\n",
            "Start of epoch 42\n",
            "Training acc over epoch: 0.4971\n",
            "Validation acc: 0.4748\n",
            "\n",
            "Start of epoch 43\n",
            "Training acc over epoch: 0.4971\n",
            "Validation acc: 0.4748\n",
            "\n",
            "Start of epoch 44\n",
            "Training acc over epoch: 0.4971\n",
            "Validation acc: 0.4748\n",
            "\n",
            "Start of epoch 45\n",
            "Training acc over epoch: 0.4971\n",
            "Validation acc: 0.4748\n",
            "\n",
            "Start of epoch 46\n",
            "Training acc over epoch: 0.4971\n",
            "Validation acc: 0.4748\n",
            "\n",
            "Start of epoch 47\n",
            "Training acc over epoch: 0.4971\n",
            "Validation acc: 0.4748\n",
            "\n",
            "Start of epoch 48\n",
            "Training acc over epoch: 0.4971\n",
            "Validation acc: 0.4748\n",
            "\n",
            "Start of epoch 49\n",
            "Training acc over epoch: 0.4971\n",
            "Validation acc: 0.4748\n",
            "\n",
            "Start of epoch 50\n",
            "Training acc over epoch: 0.4971\n",
            "Validation acc: 0.4748\n",
            "\n",
            "Start of epoch 51\n",
            "Training acc over epoch: 0.4971\n",
            "Validation acc: 0.4748\n",
            "\n",
            "Start of epoch 52\n",
            "Training acc over epoch: 0.4972\n",
            "Validation acc: 0.4748\n",
            "\n",
            "Start of epoch 53\n",
            "Training acc over epoch: 0.4974\n",
            "Validation acc: 0.4737\n",
            "\n",
            "Start of epoch 54\n",
            "Training acc over epoch: 0.4984\n",
            "Validation acc: 0.4700\n",
            "\n",
            "Start of epoch 55\n",
            "Training acc over epoch: 0.5013\n",
            "Validation acc: 0.4737\n",
            "\n",
            "Start of epoch 56\n",
            "Training acc over epoch: 0.4995\n",
            "Validation acc: 0.4742\n",
            "\n",
            "Start of epoch 57\n",
            "Training acc over epoch: 0.4978\n",
            "Validation acc: 0.4732\n",
            "\n",
            "Start of epoch 58\n",
            "Training acc over epoch: 0.4983\n",
            "Validation acc: 0.4737\n",
            "\n",
            "Start of epoch 59\n",
            "Training acc over epoch: 0.4984\n",
            "Validation acc: 0.4732\n",
            "\n",
            "Start of epoch 60\n",
            "Training acc over epoch: 0.5001\n",
            "Validation acc: 0.4727\n",
            "\n",
            "Start of epoch 61\n",
            "Training acc over epoch: 0.5032\n",
            "Validation acc: 0.4695\n",
            "\n",
            "Start of epoch 62\n",
            "Training acc over epoch: 0.5013\n",
            "Validation acc: 0.4732\n",
            "\n",
            "Start of epoch 63\n",
            "Training acc over epoch: 0.5166\n",
            "Validation acc: 0.4748\n",
            "\n",
            "Start of epoch 64\n",
            "Training acc over epoch: 0.5158\n",
            "Validation acc: 0.4742\n",
            "\n",
            "Start of epoch 65\n",
            "Training acc over epoch: 0.5155\n",
            "Validation acc: 0.4737\n",
            "\n",
            "Start of epoch 66\n",
            "Training acc over epoch: 0.5082\n",
            "Validation acc: 0.4753\n",
            "\n",
            "Start of epoch 67\n",
            "Training acc over epoch: 0.5084\n",
            "Validation acc: 0.4742\n",
            "\n",
            "Start of epoch 68\n",
            "Training acc over epoch: 0.5184\n",
            "Validation acc: 0.4832\n",
            "\n",
            "Start of epoch 69\n",
            "Training acc over epoch: 0.5220\n",
            "Validation acc: 0.4800\n",
            "\n",
            "Start of epoch 70\n",
            "Training acc over epoch: 0.5231\n",
            "Validation acc: 0.4790\n",
            "\n",
            "Start of epoch 71\n",
            "Training acc over epoch: 0.5247\n",
            "Validation acc: 0.4732\n",
            "\n",
            "Start of epoch 72\n",
            "Training acc over epoch: 0.5158\n",
            "Validation acc: 0.4890\n",
            "\n",
            "Start of epoch 73\n",
            "Training acc over epoch: 0.5280\n",
            "Validation acc: 0.4916\n",
            "\n",
            "Start of epoch 74\n",
            "Training acc over epoch: 0.5304\n",
            "Validation acc: 0.4874\n",
            "\n",
            "Start of epoch 75\n",
            "Training acc over epoch: 0.5293\n",
            "Validation acc: 0.4900\n",
            "\n",
            "Start of epoch 76\n",
            "Training acc over epoch: 0.5305\n",
            "Validation acc: 0.4921\n",
            "\n",
            "Start of epoch 77\n",
            "Training acc over epoch: 0.5302\n",
            "Validation acc: 0.5200\n",
            "\n",
            "Start of epoch 78\n",
            "Training acc over epoch: 0.5312\n",
            "Validation acc: 0.5247\n",
            "\n",
            "Start of epoch 79\n",
            "Training acc over epoch: 0.5330\n",
            "Validation acc: 0.5037\n",
            "\n",
            "Start of epoch 80\n",
            "Training acc over epoch: 0.5318\n",
            "Validation acc: 0.5237\n",
            "\n",
            "Start of epoch 81\n",
            "Training acc over epoch: 0.5351\n",
            "Validation acc: 0.5147\n",
            "\n",
            "Start of epoch 82\n",
            "Training acc over epoch: 0.5275\n",
            "Validation acc: 0.5121\n",
            "\n",
            "Start of epoch 83\n",
            "Training acc over epoch: 0.5271\n",
            "Validation acc: 0.5121\n",
            "\n",
            "Start of epoch 84\n",
            "Training acc over epoch: 0.5256\n",
            "Validation acc: 0.5200\n",
            "\n",
            "Start of epoch 85\n",
            "Training acc over epoch: 0.5196\n",
            "Validation acc: 0.5137\n",
            "\n",
            "Start of epoch 86\n",
            "Training acc over epoch: 0.5291\n",
            "Validation acc: 0.5205\n",
            "\n",
            "Start of epoch 87\n",
            "Training acc over epoch: 0.5185\n",
            "Validation acc: 0.5221\n",
            "\n",
            "Start of epoch 88\n",
            "Training acc over epoch: 0.5172\n",
            "Validation acc: 0.5152\n",
            "\n",
            "Start of epoch 89\n",
            "Training acc over epoch: 0.5295\n",
            "Validation acc: 0.5110\n",
            "\n",
            "Start of epoch 90\n",
            "Training acc over epoch: 0.5314\n",
            "Validation acc: 0.5189\n",
            "\n",
            "Start of epoch 91\n",
            "Training acc over epoch: 0.5221\n",
            "Validation acc: 0.5268\n",
            "\n",
            "Start of epoch 92\n",
            "Training acc over epoch: 0.5331\n",
            "Validation acc: 0.5221\n",
            "\n",
            "Start of epoch 93\n",
            "Training acc over epoch: 0.5325\n",
            "Validation acc: 0.5247\n",
            "\n",
            "Start of epoch 94\n",
            "Training acc over epoch: 0.5364\n",
            "Validation acc: 0.5131\n",
            "\n",
            "Start of epoch 95\n",
            "Training acc over epoch: 0.5379\n",
            "Validation acc: 0.5179\n",
            "\n",
            "Start of epoch 96\n",
            "Training acc over epoch: 0.5335\n",
            "Validation acc: 0.5179\n",
            "\n",
            "Start of epoch 97\n",
            "Training acc over epoch: 0.5301\n",
            "Validation acc: 0.5163\n",
            "\n",
            "Start of epoch 98\n",
            "Training acc over epoch: 0.5272\n",
            "Validation acc: 0.5237\n",
            "\n",
            "Start of epoch 99\n",
            "Training acc over epoch: 0.5155\n",
            "Validation acc: 0.5258\n"
          ]
        },
        {
          "output_type": "display_data",
          "data": {
            "text/plain": [
              "<IPython.core.display.HTML object>"
            ],
            "text/html": [
              "Waiting for W&B process to finish... <strong style=\"color:green\">(success).</strong>"
            ]
          },
          "metadata": {}
        },
        {
          "output_type": "display_data",
          "data": {
            "text/plain": [
              "<IPython.core.display.HTML object>"
            ],
            "text/html": [
              "<style>\n",
              "    table.wandb td:nth-child(1) { padding: 0 10px; text-align: left ; width: auto;} td:nth-child(2) {text-align: left ; width: 100%}\n",
              "    .wandb-row { display: flex; flex-direction: row; flex-wrap: wrap; justify-content: flex-start; width: 100% }\n",
              "    .wandb-col { display: flex; flex-direction: column; flex-basis: 100%; flex: 1; padding: 10px; }\n",
              "    </style>\n",
              "<div class=\"wandb-row\"><div class=\"wandb-col\"><h3>Run history:</h3><br/><table class=\"wandb\"><tr><td>acc</td><td>▁▆▅▅▅▅▅▅▅▅▅▅▅▅▅▅▅▅▅▅▅▅▆▅▅▇▆▇▇▇███▇█▇▇██▇</td></tr><tr><td>epochs</td><td>▁▁▁▁▂▂▂▂▂▃▃▃▃▃▃▄▄▄▄▄▅▅▅▅▅▅▆▆▆▆▆▇▇▇▇▇▇███</td></tr><tr><td>loss</td><td>██▇▇▆▆▆▅▅▄▄▄▃▃▃▂▂▂▂▂▂▂▂▁▁▁▁▁▁▁▁▁▁▁▁▁▁▁▁▁</td></tr><tr><td>val_acc</td><td>▂▂▁▁▁▁▁▁▁▁▁▁▁▁▁▁▁▁▁▁▁▁▁▁▁▁▁▂▁▃▄█▆▆▇▇██▇█</td></tr><tr><td>val_loss</td><td>██▇▇▆▆▆▅▅▄▄▄▃▃▃▂▂▂▂▂▂▂▂▁▁▁▁▁▁▁▁▁▁▁▁▁▁▁▁▁</td></tr></table><br/></div><div class=\"wandb-col\"><h3>Run summary:</h3><br/><table class=\"wandb\"><tr><td>acc</td><td>0.51551</td></tr><tr><td>epochs</td><td>99</td></tr><tr><td>loss</td><td>0.73375</td></tr><tr><td>val_acc</td><td>0.52576</td></tr><tr><td>val_loss</td><td>0.73338</td></tr></table><br/></div></div>"
            ]
          },
          "metadata": {}
        },
        {
          "output_type": "display_data",
          "data": {
            "text/plain": [
              "<IPython.core.display.HTML object>"
            ],
            "text/html": [
              "Synced <strong style=\"color:#cdcd00\">sweet-violet-4</strong>: <a href=\"https://wandb.ai/phmorris610/my-tf-integration/runs/1umrxxwi\" target=\"_blank\">https://wandb.ai/phmorris610/my-tf-integration/runs/1umrxxwi</a><br/>Synced 5 W&B file(s), 0 media file(s), 0 artifact file(s) and 0 other file(s)"
            ]
          },
          "metadata": {}
        },
        {
          "output_type": "display_data",
          "data": {
            "text/plain": [
              "<IPython.core.display.HTML object>"
            ],
            "text/html": [
              "Find logs at: <code>./wandb/run-20221203_202646-1umrxxwi/logs</code>"
            ]
          },
          "metadata": {}
        }
      ]
    },
    {
      "cell_type": "markdown",
      "source": [
        "Using Weights and Biases I get different results (https://wandb.ai/phmorris610/my-tf-integration/runs/1umrxxwi), I don't think I used it correctly..."
      ],
      "metadata": {
        "id": "L3MP3ePssbEr"
      }
    },
    {
      "cell_type": "markdown",
      "source": [
        "Just for fun lets see how the model does on Top Critic or Not Top Critic"
      ],
      "metadata": {
        "id": "byqC52-AzkOP"
      }
    },
    {
      "cell_type": "code",
      "source": [
        "from sklearn.model_selection import train_test_split\n",
        "X_train_lem, X_val_lem, y_train_lem, y_val_lem = train_test_split(XtLemclean, y2, train_size=0.80, random_state=10)"
      ],
      "metadata": {
        "id": "6Tx1WBZ0xxDt"
      },
      "execution_count": 21,
      "outputs": []
    },
    {
      "cell_type": "code",
      "source": [
        "from sklearn.feature_extraction.text import TfidfVectorizer\n",
        "tfidf_vect_lem = TfidfVectorizer()\n",
        "Xtrain_hot_lem = tfidf_vect_lem.fit_transform(X_train_lem).toarray()\n",
        "Xval_hot_lem = tfidf_vect_lem.transform(X_val_lem).toarray()\n",
        "print(Xtrain_hot_lem.shape)\n",
        "print(Xval_hot_lem.shape)"
      ],
      "metadata": {
        "id": "ZVErU9epxxNz",
        "outputId": "60e8cd98-76d3-4ea4-dd1e-b3bccd12f25e",
        "colab": {
          "base_uri": "https://localhost:8080/"
        }
      },
      "execution_count": 22,
      "outputs": [
        {
          "output_type": "stream",
          "name": "stdout",
          "text": [
            "(7606, 14162)\n",
            "(1902, 14162)\n"
          ]
        }
      ]
    },
    {
      "cell_type": "code",
      "source": [
        "from sklearn.feature_extraction.text import TfidfVectorizer\n",
        "tfidf_vect_lem = TfidfVectorizer()\n",
        "Xtrain_hot_lem = tfidf_vect_lem.fit_transform(X_train_lem).toarray()\n",
        "Xval_hot_lem = tfidf_vect_lem.transform(X_val_lem).toarray()\n",
        "print(Xtrain_hot_lem.shape)\n",
        "print(Xval_hot_lem.shape)"
      ],
      "metadata": {
        "id": "Br3EkDbDyGVr",
        "outputId": "270405e3-e7a1-4930-ec69-16919f158d70",
        "colab": {
          "base_uri": "https://localhost:8080/"
        }
      },
      "execution_count": 23,
      "outputs": [
        {
          "output_type": "stream",
          "name": "stdout",
          "text": [
            "(7606, 14162)\n",
            "(1902, 14162)\n"
          ]
        }
      ]
    },
    {
      "cell_type": "code",
      "source": [
        "classifier = Sequential()\n",
        "classifier.add(Dense(units=20, activation='relu', input_dim=14162))\n",
        "classifier.add(Dropout(0.2))\n",
        "classifier.add(Flatten())\n",
        "classifier.add(Dense(units=10, activation='swish'))\n",
        "classifier.add(Dropout(0.3))\n",
        "classifier.add(Flatten())\n",
        "classifier.add(Dense(units=1, activation='sigmoid'))\n",
        "classifier.compile(optimizer='adam', loss='binary_crossentropy', metrics=['accuracy', 'mae', 'binary_crossentropy'])\n",
        "classifier.summary()"
      ],
      "metadata": {
        "id": "PlG3k5IvySQ7",
        "outputId": "9477559f-0923-46ce-9ca7-c7a89c1dd501",
        "colab": {
          "base_uri": "https://localhost:8080/"
        }
      },
      "execution_count": 26,
      "outputs": [
        {
          "output_type": "stream",
          "name": "stdout",
          "text": [
            "Model: \"sequential_1\"\n",
            "_________________________________________________________________\n",
            " Layer (type)                Output Shape              Param #   \n",
            "=================================================================\n",
            " dense_3 (Dense)             (None, 20)                283260    \n",
            "                                                                 \n",
            " dropout_2 (Dropout)         (None, 20)                0         \n",
            "                                                                 \n",
            " flatten_2 (Flatten)         (None, 20)                0         \n",
            "                                                                 \n",
            " dense_4 (Dense)             (None, 10)                210       \n",
            "                                                                 \n",
            " dropout_3 (Dropout)         (None, 10)                0         \n",
            "                                                                 \n",
            " flatten_3 (Flatten)         (None, 10)                0         \n",
            "                                                                 \n",
            " dense_5 (Dense)             (None, 1)                 11        \n",
            "                                                                 \n",
            "=================================================================\n",
            "Total params: 283,481\n",
            "Trainable params: 283,481\n",
            "Non-trainable params: 0\n",
            "_________________________________________________________________\n"
          ]
        }
      ]
    },
    {
      "cell_type": "code",
      "source": [
        "import torch\n",
        "import tensorflow as tf\n",
        "nptrain_tensor_lem = Xtrain_tense_lem.numpy()\n",
        "npval_tensor_lem = Xval_tense_lem.numpy()\n",
        "Xtftrain_tensor_lem = tf.convert_to_tensor(nptrain_tensor_lem)\n",
        "Xtfval_tensor_lem = tf.convert_to_tensor(npval_tensor_lem)\n",
        "print(Xtftrain_tensor_lem.shape)\n",
        "print(Xtfval_tensor_lem.shape)"
      ],
      "metadata": {
        "id": "YOCKku0Ryred",
        "outputId": "0adff54b-92dd-41a6-8c82-cb7b32bde62d",
        "colab": {
          "base_uri": "https://localhost:8080/"
        }
      },
      "execution_count": 27,
      "outputs": [
        {
          "output_type": "stream",
          "name": "stdout",
          "text": [
            "(7606, 14162)\n",
            "(1902, 14162)\n"
          ]
        }
      ]
    },
    {
      "cell_type": "code",
      "source": [
        "fit = classifier.fit(Xtftrain_tensor_lem, y_train_lem, validation_data=(Xtfval_tensor_lem, y_val_lem), batch_size=500, epochs=30)\n",
        "fit"
      ],
      "metadata": {
        "id": "jMa6pWKYyeZh",
        "outputId": "722d990c-02f7-42c2-d1ef-45cc68d9848f",
        "colab": {
          "base_uri": "https://localhost:8080/"
        }
      },
      "execution_count": 32,
      "outputs": [
        {
          "output_type": "stream",
          "name": "stdout",
          "text": [
            "Epoch 1/30\n",
            "16/16 [==============================] - 2s 112ms/step - loss: 0.2661 - accuracy: 0.9214 - mae: 0.2064 - binary_crossentropy: 0.2661 - val_loss: 0.7205 - val_accuracy: 0.6441 - val_mae: 0.3917 - val_binary_crossentropy: 0.7205\n",
            "Epoch 2/30\n",
            "16/16 [==============================] - 1s 57ms/step - loss: 0.2386 - accuracy: 0.9377 - mae: 0.1862 - binary_crossentropy: 0.2386 - val_loss: 0.7517 - val_accuracy: 0.6425 - val_mae: 0.3899 - val_binary_crossentropy: 0.7517\n",
            "Epoch 3/30\n",
            "16/16 [==============================] - 1s 55ms/step - loss: 0.2166 - accuracy: 0.9411 - mae: 0.1693 - binary_crossentropy: 0.2166 - val_loss: 0.7817 - val_accuracy: 0.6383 - val_mae: 0.3909 - val_binary_crossentropy: 0.7817\n",
            "Epoch 4/30\n",
            "16/16 [==============================] - 1s 59ms/step - loss: 0.1963 - accuracy: 0.9468 - mae: 0.1536 - binary_crossentropy: 0.1963 - val_loss: 0.8237 - val_accuracy: 0.6393 - val_mae: 0.3853 - val_binary_crossentropy: 0.8237\n",
            "Epoch 5/30\n",
            "16/16 [==============================] - 1s 55ms/step - loss: 0.1791 - accuracy: 0.9527 - mae: 0.1399 - binary_crossentropy: 0.1791 - val_loss: 0.8554 - val_accuracy: 0.6356 - val_mae: 0.3857 - val_binary_crossentropy: 0.8554\n",
            "Epoch 6/30\n",
            "16/16 [==============================] - 1s 56ms/step - loss: 0.1618 - accuracy: 0.9582 - mae: 0.1279 - binary_crossentropy: 0.1618 - val_loss: 0.8972 - val_accuracy: 0.6330 - val_mae: 0.3842 - val_binary_crossentropy: 0.8972\n",
            "Epoch 7/30\n",
            "16/16 [==============================] - 1s 58ms/step - loss: 0.1495 - accuracy: 0.9617 - mae: 0.1176 - binary_crossentropy: 0.1495 - val_loss: 0.9294 - val_accuracy: 0.6293 - val_mae: 0.3854 - val_binary_crossentropy: 0.9294\n",
            "Epoch 8/30\n",
            "16/16 [==============================] - 1s 59ms/step - loss: 0.1374 - accuracy: 0.9654 - mae: 0.1091 - binary_crossentropy: 0.1374 - val_loss: 0.9740 - val_accuracy: 0.6304 - val_mae: 0.3824 - val_binary_crossentropy: 0.9740\n",
            "Epoch 9/30\n",
            "16/16 [==============================] - 1s 58ms/step - loss: 0.1248 - accuracy: 0.9721 - mae: 0.0994 - binary_crossentropy: 0.1248 - val_loss: 1.0100 - val_accuracy: 0.6288 - val_mae: 0.3823 - val_binary_crossentropy: 1.0100\n",
            "Epoch 10/30\n",
            "16/16 [==============================] - 1s 57ms/step - loss: 0.1168 - accuracy: 0.9708 - mae: 0.0934 - binary_crossentropy: 0.1168 - val_loss: 1.0447 - val_accuracy: 0.6304 - val_mae: 0.3825 - val_binary_crossentropy: 1.0447\n",
            "Epoch 11/30\n",
            "16/16 [==============================] - 1s 64ms/step - loss: 0.1055 - accuracy: 0.9776 - mae: 0.0837 - binary_crossentropy: 0.1055 - val_loss: 1.0823 - val_accuracy: 0.6257 - val_mae: 0.3831 - val_binary_crossentropy: 1.0823\n",
            "Epoch 12/30\n",
            "16/16 [==============================] - 1s 63ms/step - loss: 0.0970 - accuracy: 0.9775 - mae: 0.0783 - binary_crossentropy: 0.0970 - val_loss: 1.1275 - val_accuracy: 0.6230 - val_mae: 0.3813 - val_binary_crossentropy: 1.1275\n",
            "Epoch 13/30\n",
            "16/16 [==============================] - 1s 64ms/step - loss: 0.0899 - accuracy: 0.9804 - mae: 0.0730 - binary_crossentropy: 0.0899 - val_loss: 1.1628 - val_accuracy: 0.6241 - val_mae: 0.3824 - val_binary_crossentropy: 1.1628\n",
            "Epoch 14/30\n",
            "16/16 [==============================] - 1s 59ms/step - loss: 0.0821 - accuracy: 0.9819 - mae: 0.0670 - binary_crossentropy: 0.0821 - val_loss: 1.1983 - val_accuracy: 0.6236 - val_mae: 0.3832 - val_binary_crossentropy: 1.1983\n",
            "Epoch 15/30\n",
            "16/16 [==============================] - 1s 60ms/step - loss: 0.0776 - accuracy: 0.9845 - mae: 0.0637 - binary_crossentropy: 0.0776 - val_loss: 1.2403 - val_accuracy: 0.6241 - val_mae: 0.3820 - val_binary_crossentropy: 1.2403\n",
            "Epoch 16/30\n",
            "16/16 [==============================] - 1s 59ms/step - loss: 0.0731 - accuracy: 0.9829 - mae: 0.0597 - binary_crossentropy: 0.0731 - val_loss: 1.2706 - val_accuracy: 0.6230 - val_mae: 0.3842 - val_binary_crossentropy: 1.2706\n",
            "Epoch 17/30\n",
            "16/16 [==============================] - 1s 58ms/step - loss: 0.0667 - accuracy: 0.9886 - mae: 0.0550 - binary_crossentropy: 0.0667 - val_loss: 1.3142 - val_accuracy: 0.6236 - val_mae: 0.3827 - val_binary_crossentropy: 1.3142\n",
            "Epoch 18/30\n",
            "16/16 [==============================] - 1s 59ms/step - loss: 0.0635 - accuracy: 0.9883 - mae: 0.0522 - binary_crossentropy: 0.0635 - val_loss: 1.3480 - val_accuracy: 0.6241 - val_mae: 0.3830 - val_binary_crossentropy: 1.3480\n",
            "Epoch 19/30\n",
            "16/16 [==============================] - 1s 60ms/step - loss: 0.0571 - accuracy: 0.9905 - mae: 0.0481 - binary_crossentropy: 0.0571 - val_loss: 1.3865 - val_accuracy: 0.6246 - val_mae: 0.3822 - val_binary_crossentropy: 1.3865\n",
            "Epoch 20/30\n",
            "16/16 [==============================] - 1s 63ms/step - loss: 0.0522 - accuracy: 0.9928 - mae: 0.0439 - binary_crossentropy: 0.0522 - val_loss: 1.4241 - val_accuracy: 0.6257 - val_mae: 0.3819 - val_binary_crossentropy: 1.4241\n",
            "Epoch 21/30\n",
            "16/16 [==============================] - 1s 58ms/step - loss: 0.0522 - accuracy: 0.9911 - mae: 0.0441 - binary_crossentropy: 0.0522 - val_loss: 1.4621 - val_accuracy: 0.6251 - val_mae: 0.3814 - val_binary_crossentropy: 1.4621\n",
            "Epoch 22/30\n",
            "16/16 [==============================] - 1s 57ms/step - loss: 0.0479 - accuracy: 0.9926 - mae: 0.0404 - binary_crossentropy: 0.0479 - val_loss: 1.4930 - val_accuracy: 0.6236 - val_mae: 0.3822 - val_binary_crossentropy: 1.4930\n",
            "Epoch 23/30\n",
            "16/16 [==============================] - 1s 55ms/step - loss: 0.0447 - accuracy: 0.9925 - mae: 0.0382 - binary_crossentropy: 0.0447 - val_loss: 1.5283 - val_accuracy: 0.6246 - val_mae: 0.3817 - val_binary_crossentropy: 1.5283\n",
            "Epoch 24/30\n",
            "16/16 [==============================] - 1s 58ms/step - loss: 0.0423 - accuracy: 0.9936 - mae: 0.0358 - binary_crossentropy: 0.0423 - val_loss: 1.5592 - val_accuracy: 0.6241 - val_mae: 0.3818 - val_binary_crossentropy: 1.5592\n",
            "Epoch 25/30\n",
            "16/16 [==============================] - 1s 59ms/step - loss: 0.0409 - accuracy: 0.9938 - mae: 0.0344 - binary_crossentropy: 0.0409 - val_loss: 1.5893 - val_accuracy: 0.6251 - val_mae: 0.3822 - val_binary_crossentropy: 1.5893\n",
            "Epoch 26/30\n",
            "16/16 [==============================] - 1s 55ms/step - loss: 0.0381 - accuracy: 0.9943 - mae: 0.0327 - binary_crossentropy: 0.0381 - val_loss: 1.6318 - val_accuracy: 0.6272 - val_mae: 0.3793 - val_binary_crossentropy: 1.6318\n",
            "Epoch 27/30\n",
            "16/16 [==============================] - 1s 58ms/step - loss: 0.0350 - accuracy: 0.9945 - mae: 0.0301 - binary_crossentropy: 0.0350 - val_loss: 1.6552 - val_accuracy: 0.6241 - val_mae: 0.3814 - val_binary_crossentropy: 1.6552\n",
            "Epoch 28/30\n",
            "16/16 [==============================] - 1s 55ms/step - loss: 0.0338 - accuracy: 0.9950 - mae: 0.0290 - binary_crossentropy: 0.0338 - val_loss: 1.6919 - val_accuracy: 0.6257 - val_mae: 0.3803 - val_binary_crossentropy: 1.6919\n",
            "Epoch 29/30\n",
            "16/16 [==============================] - 1s 58ms/step - loss: 0.0298 - accuracy: 0.9966 - mae: 0.0260 - binary_crossentropy: 0.0298 - val_loss: 1.7251 - val_accuracy: 0.6236 - val_mae: 0.3808 - val_binary_crossentropy: 1.7251\n",
            "Epoch 30/30\n",
            "16/16 [==============================] - 1s 56ms/step - loss: 0.0294 - accuracy: 0.9966 - mae: 0.0257 - binary_crossentropy: 0.0294 - val_loss: 1.7568 - val_accuracy: 0.6241 - val_mae: 0.3810 - val_binary_crossentropy: 1.7568\n"
          ]
        },
        {
          "output_type": "execute_result",
          "data": {
            "text/plain": [
              "<keras.callbacks.History at 0x7f8b4abc0ee0>"
            ]
          },
          "metadata": {},
          "execution_count": 32
        }
      ]
    },
    {
      "cell_type": "code",
      "source": [
        "y_pred_lem = classifier.predict(Xtfval_tensor_lem)\n",
        "y_pred_lem = (y_pred_lem > 0.5)\n",
        "print(y_pred_lem)"
      ],
      "metadata": {
        "id": "UI6ZECpCy7pA",
        "outputId": "210f6007-4c08-41e3-d69f-ae701bf1f57d",
        "colab": {
          "base_uri": "https://localhost:8080/"
        }
      },
      "execution_count": 33,
      "outputs": [
        {
          "output_type": "stream",
          "name": "stdout",
          "text": [
            "60/60 [==============================] - 0s 3ms/step\n",
            "[[False]\n",
            " [False]\n",
            " [ True]\n",
            " ...\n",
            " [False]\n",
            " [False]\n",
            " [False]]\n"
          ]
        }
      ]
    },
    {
      "cell_type": "code",
      "source": [
        "from sklearn.metrics import confusion_matrix, ConfusionMatrixDisplay, accuracy_score\n",
        "cm = ConfusionMatrixDisplay(confusion_matrix(y_val_lem, y_pred_lem), display_labels=['True', 'False'])\n",
        "cm.plot()\n",
        "'Accuracy Score on Validation Data:', accuracy_score(y_val_lem, y_pred_lem)*100"
      ],
      "metadata": {
        "id": "m91FcJXbzJuj",
        "outputId": "e58f985a-8a55-4145-81b6-d1b58e9088ae",
        "colab": {
          "base_uri": "https://localhost:8080/",
          "height": 300
        }
      },
      "execution_count": 34,
      "outputs": [
        {
          "output_type": "execute_result",
          "data": {
            "text/plain": [
              "('Accuracy Score on Validation Data:', 62.407991587802314)"
            ]
          },
          "metadata": {},
          "execution_count": 34
        },
        {
          "output_type": "display_data",
          "data": {
            "text/plain": [
              "<Figure size 432x288 with 2 Axes>"
            ],
            "image/png": "[encoded data removed]"
          },
          "metadata": {
            "needs_background": "light"
          }
        }
      ]
    },
    {
      "cell_type": "markdown",
      "source": [
        "The Model did very poorly on this preditor variable, there were far more Not Top Critic's than the latter, and we do see more false positives, I assume we just don't have a good enough sample of Top Critics to predict."
      ],
      "metadata": {
        "id": "t68k5fUczsjR"
      }
    }
  ]
}